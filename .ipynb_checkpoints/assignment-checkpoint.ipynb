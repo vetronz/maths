{
 "cells": [
  {
   "cell_type": "markdown",
   "metadata": {},
   "source": [
    "**[Do not edit the contents of this cell]**\n",
    "\n",
    "# MSc in Bioinformatics and Theoretical Systems Biology - Maths and Stats Assignment 2018/19\n",
    "\n",
    "This assignment is to be completed in Python, R or Julia and returned as a Jupyter notebook. There are 4 types of cells used in this notebook:\n",
    "1. Cells containing tasks and instructions to be completed. Do not edit these. These are clearly labelled.\n",
    "2. Cells in which you are meant to provide an answer in Markdown format.\n",
    "3. Cells containing code that defines e.g. which packages to load, but can also contain routines and snippets of codes that you should use.\n",
    "4. Cells that contain the Python/R/Julia code that you write to solve the problems set.\n",
    "\n",
    "Each of these cells will contain explit comments at the top telling you whether to edit or not edit a cell. In Code cells comments are specified by the \"#\" character. In the Markdown Answer Cells, replace the xxx by your answer, whenever these are present. You will have to execute all code and Markdown cells in order to (i) make use of the provided code, and (ii) format the markdown appropriately.\n",
    "\n",
    "There are four problems to be tackled:\n",
    "1. Data exploration [40%]\n",
    "2. Hypothesis testing [20%]\n",
    "3. Regression [20%]\n",
    "4. Classification [20%]\n",
    "\n",
    "For each questions there several parts of different difficulty. Where appropriate, further reading will be given at the start of each question.\n",
    "\n",
    "You will have to specify which language (and version) you used and all packages needed in order to run all Code cells. Please add this information in the next two cells. You can also use a mix of languages but any change has to be clearly indicated in the appropriate cell."
   ]
  },
  {
   "cell_type": "markdown",
   "metadata": {},
   "source": [
    "The kernel for this Jupyter notebook is xxx, version xxx, with the following packages: xxx, xxx"
   ]
  },
  {
   "cell_type": "code",
   "execution_count": 1,
   "metadata": {},
   "outputs": [],
   "source": [
    "# here import all libraries or packages needed\n",
    "# for instance, in R:\n",
    "# library(coda)\n",
    "# library(ggplot2)\n",
    "# in python:\n",
    "# import numpy as np\n",
    "# import matplotlib.pyplot as plt\n",
    "# or in Julia:\n",
    "# using Plots\n",
    "# using Distributions\n",
    "# ...\n",
    "\n",
    "import pandas as pd\n",
    "import numpy as np\n",
    "import os\n",
    "import sys\n",
    "import seaborn as sns\n",
    "import matplotlib.pyplot as plt\n",
    "\n",
    "from sklearn.preprocessing import Imputer\n",
    "\n",
    "\n",
    "%matplotlib inline"
   ]
  },
  {
   "cell_type": "markdown",
   "metadata": {},
   "source": [
    "**[Do not edit the contents of this cell]**\n",
    "\n",
    "## Problem 1: data exploration\n",
    "\n",
    "We consider a subset of data coming from a putative association study where researchers collected various metrics and phenotypes to find associations with a putative generic cardiovascular disease.\n",
    "All recruited subjects are adults.\n",
    "For each subject several predictor variables are recorded: sex, height (in cm), mass (in kg), whether is a smoker or not, her/his ethnicity, and levels of 5 different metabolites (labelled A-E).\n",
    "Each subject has a unique ID number. \n",
    "For each subject a disease score, the response variable, measuring the severity of the disease phenotype in arbitrary units, is provided.\n",
    "The data is provided in the file `association.csv`.\n",
    "\n",
    "### Part 1\n",
    "\n",
    "Load the dataset `association.csv`.\n",
    "How many unique records of subjects do we have? How many unique predictor variables?"
   ]
  },
  {
   "cell_type": "code",
   "execution_count": 2,
   "metadata": {},
   "outputs": [
    {
     "data": {
      "text/plain": [
       "'3.7.0 (default, Jun 28 2018, 13:15:42) \\n[GCC 7.2.0]'"
      ]
     },
     "execution_count": 2,
     "metadata": {},
     "output_type": "execute_result"
    }
   ],
   "source": [
    "sys.version\n",
    "# os.listdir()"
   ]
  },
  {
   "cell_type": "code",
   "execution_count": 3,
   "metadata": {},
   "outputs": [],
   "source": [
    "# [Write your code in this cell]\n",
    "association_df = pd.read_csv('association.csv')\n"
   ]
  },
  {
   "cell_type": "code",
   "execution_count": 4,
   "metadata": {},
   "outputs": [
    {
     "name": "stdout",
     "output_type": "stream",
     "text": [
      "<class 'pandas.core.frame.DataFrame'>\n",
      "RangeIndex: 106 entries, 0 to 105\n",
      "Data columns (total 12 columns):\n",
      "subject          106 non-null object\n",
      "sex              106 non-null int64\n",
      "height           106 non-null float64\n",
      "mass             106 non-null float64\n",
      "smoker           106 non-null int64\n",
      "ethnicity        106 non-null object\n",
      "metabolite_A     104 non-null float64\n",
      "metabolite_B     106 non-null float64\n",
      "metabolite_C     106 non-null float64\n",
      "metabolite_D     106 non-null float64\n",
      "metabolite_E     106 non-null float64\n",
      "disease_score    106 non-null float64\n",
      "dtypes: float64(8), int64(2), object(2)\n",
      "memory usage: 10.0+ KB\n"
     ]
    }
   ],
   "source": [
    "association_df.shape\n",
    "association_df.info()"
   ]
  },
  {
   "cell_type": "code",
   "execution_count": 5,
   "metadata": {},
   "outputs": [
    {
     "data": {
      "text/html": [
       "<div>\n",
       "<style scoped>\n",
       "    .dataframe tbody tr th:only-of-type {\n",
       "        vertical-align: middle;\n",
       "    }\n",
       "\n",
       "    .dataframe tbody tr th {\n",
       "        vertical-align: top;\n",
       "    }\n",
       "\n",
       "    .dataframe thead th {\n",
       "        text-align: right;\n",
       "    }\n",
       "</style>\n",
       "<table border=\"1\" class=\"dataframe\">\n",
       "  <thead>\n",
       "    <tr style=\"text-align: right;\">\n",
       "      <th></th>\n",
       "      <th>subject</th>\n",
       "      <th>sex</th>\n",
       "      <th>height</th>\n",
       "      <th>mass</th>\n",
       "      <th>smoker</th>\n",
       "      <th>ethnicity</th>\n",
       "      <th>metabolite_A</th>\n",
       "      <th>metabolite_B</th>\n",
       "      <th>metabolite_C</th>\n",
       "      <th>metabolite_D</th>\n",
       "      <th>metabolite_E</th>\n",
       "      <th>disease_score</th>\n",
       "    </tr>\n",
       "  </thead>\n",
       "  <tbody>\n",
       "    <tr>\n",
       "      <th>7</th>\n",
       "      <td>ID18</td>\n",
       "      <td>0</td>\n",
       "      <td>177.942864</td>\n",
       "      <td>80.523783</td>\n",
       "      <td>1</td>\n",
       "      <td>Other</td>\n",
       "      <td>0.919727</td>\n",
       "      <td>1.860333</td>\n",
       "      <td>0.228201</td>\n",
       "      <td>5.488476</td>\n",
       "      <td>11.25401</td>\n",
       "      <td>-2.655577</td>\n",
       "    </tr>\n",
       "    <tr>\n",
       "      <th>73</th>\n",
       "      <td>ID18</td>\n",
       "      <td>0</td>\n",
       "      <td>177.942864</td>\n",
       "      <td>80.523783</td>\n",
       "      <td>1</td>\n",
       "      <td>Other</td>\n",
       "      <td>0.919727</td>\n",
       "      <td>1.860333</td>\n",
       "      <td>0.228201</td>\n",
       "      <td>5.488476</td>\n",
       "      <td>11.25401</td>\n",
       "      <td>-2.655577</td>\n",
       "    </tr>\n",
       "  </tbody>\n",
       "</table>\n",
       "</div>"
      ],
      "text/plain": [
       "   subject  sex      height       mass  smoker ethnicity  metabolite_A  \\\n",
       "7     ID18    0  177.942864  80.523783       1     Other      0.919727   \n",
       "73    ID18    0  177.942864  80.523783       1     Other      0.919727   \n",
       "\n",
       "    metabolite_B  metabolite_C  metabolite_D  metabolite_E  disease_score  \n",
       "7       1.860333      0.228201      5.488476      11.25401      -2.655577  \n",
       "73      1.860333      0.228201      5.488476      11.25401      -2.655577  "
      ]
     },
     "execution_count": 5,
     "metadata": {},
     "output_type": "execute_result"
    }
   ],
   "source": [
    "# df.duplicated(keep=False) will return series where all duplicates are flagged TRUE\n",
    "# we can then pass to loc to see the duplicates\n",
    "\n",
    "association_df.loc[association_df.duplicated(keep=False),:]"
   ]
  },
  {
   "cell_type": "code",
   "execution_count": 6,
   "metadata": {},
   "outputs": [
    {
     "data": {
      "text/plain": [
       "(105, 12)"
      ]
     },
     "execution_count": 6,
     "metadata": {},
     "output_type": "execute_result"
    }
   ],
   "source": [
    "# drop the last instance of duplicate rows\n",
    "\n",
    "association_df.drop_duplicates(keep='first', inplace=True)\n",
    "# association_df.iloc[[7,73]]\n",
    "\n",
    "association_df.shape"
   ]
  },
  {
   "cell_type": "code",
   "execution_count": null,
   "metadata": {},
   "outputs": [],
   "source": []
  },
  {
   "cell_type": "markdown",
   "metadata": {},
   "source": [
    "**[Provide your answer here]**\n",
    "- The number of unique records of subjects in the dataset is: xxx\n",
    "- The number of variables in the dataset is: xxx"
   ]
  },
  {
   "cell_type": "markdown",
   "metadata": {},
   "source": [
    "**[Do not edit the contents of this cell]**\n",
    "\n",
    "### Part 2\n",
    "\n",
    "Produce a plot to illustrate the distribution of variables sex, mass, ethnicity, metabolite_A. Choose the most appropriate visualisation depending on the type of each variable."
   ]
  },
  {
   "cell_type": "code",
   "execution_count": 7,
   "metadata": {},
   "outputs": [
    {
     "data": {
      "text/plain": [
       "subject          0\n",
       "sex              0\n",
       "height           0\n",
       "mass             0\n",
       "smoker           0\n",
       "ethnicity        0\n",
       "metabolite_A     2\n",
       "metabolite_B     0\n",
       "metabolite_C     0\n",
       "metabolite_D     0\n",
       "metabolite_E     0\n",
       "disease_score    0\n",
       "dtype: int64"
      ]
     },
     "execution_count": 7,
     "metadata": {},
     "output_type": "execute_result"
    }
   ],
   "source": [
    "# Imputation\n",
    "association_df.isnull().sum()"
   ]
  },
  {
   "cell_type": "code",
   "execution_count": 8,
   "metadata": {},
   "outputs": [
    {
     "data": {
      "text/html": [
       "<div>\n",
       "<style scoped>\n",
       "    .dataframe tbody tr th:only-of-type {\n",
       "        vertical-align: middle;\n",
       "    }\n",
       "\n",
       "    .dataframe tbody tr th {\n",
       "        vertical-align: top;\n",
       "    }\n",
       "\n",
       "    .dataframe thead th {\n",
       "        text-align: right;\n",
       "    }\n",
       "</style>\n",
       "<table border=\"1\" class=\"dataframe\">\n",
       "  <thead>\n",
       "    <tr style=\"text-align: right;\">\n",
       "      <th></th>\n",
       "      <th>subject</th>\n",
       "      <th>sex</th>\n",
       "      <th>height</th>\n",
       "      <th>mass</th>\n",
       "      <th>smoker</th>\n",
       "      <th>ethnicity</th>\n",
       "      <th>metabolite_A</th>\n",
       "      <th>metabolite_B</th>\n",
       "      <th>metabolite_C</th>\n",
       "      <th>metabolite_D</th>\n",
       "      <th>metabolite_E</th>\n",
       "      <th>disease_score</th>\n",
       "    </tr>\n",
       "  </thead>\n",
       "  <tbody>\n",
       "    <tr>\n",
       "      <th>9</th>\n",
       "      <td>ID23</td>\n",
       "      <td>1</td>\n",
       "      <td>177.870009</td>\n",
       "      <td>70.992259</td>\n",
       "      <td>0</td>\n",
       "      <td>Black/African/Caribbean</td>\n",
       "      <td>NaN</td>\n",
       "      <td>1.274922</td>\n",
       "      <td>0.306667</td>\n",
       "      <td>4.953703</td>\n",
       "      <td>10.237791</td>\n",
       "      <td>3.480822</td>\n",
       "    </tr>\n",
       "    <tr>\n",
       "      <th>34</th>\n",
       "      <td>ID87</td>\n",
       "      <td>1</td>\n",
       "      <td>178.793400</td>\n",
       "      <td>72.141244</td>\n",
       "      <td>0</td>\n",
       "      <td>Black/African/Caribbean</td>\n",
       "      <td>NaN</td>\n",
       "      <td>1.868261</td>\n",
       "      <td>0.201052</td>\n",
       "      <td>4.219526</td>\n",
       "      <td>8.662771</td>\n",
       "      <td>-6.821057</td>\n",
       "    </tr>\n",
       "  </tbody>\n",
       "</table>\n",
       "</div>"
      ],
      "text/plain": [
       "   subject  sex      height       mass  smoker                ethnicity  \\\n",
       "9     ID23    1  177.870009  70.992259       0  Black/African/Caribbean   \n",
       "34    ID87    1  178.793400  72.141244       0  Black/African/Caribbean   \n",
       "\n",
       "    metabolite_A  metabolite_B  metabolite_C  metabolite_D  metabolite_E  \\\n",
       "9            NaN      1.274922      0.306667      4.953703     10.237791   \n",
       "34           NaN      1.868261      0.201052      4.219526      8.662771   \n",
       "\n",
       "    disease_score  \n",
       "9        3.480822  \n",
       "34      -6.821057  "
      ]
     },
     "execution_count": 8,
     "metadata": {},
     "output_type": "execute_result"
    }
   ],
   "source": [
    "association_df[association_df['metabolite_A'].isnull()]"
   ]
  },
  {
   "cell_type": "code",
   "execution_count": null,
   "metadata": {},
   "outputs": [],
   "source": []
  },
  {
   "cell_type": "code",
   "execution_count": 9,
   "metadata": {},
   "outputs": [
    {
     "data": {
      "text/plain": [
       "sex                0.000000\n",
       "height           178.954319\n",
       "mass              77.374922\n",
       "smoker             0.000000\n",
       "metabolite_A       0.887224\n",
       "metabolite_B       1.781517\n",
       "metabolite_C       0.302543\n",
       "metabolite_D       4.677117\n",
       "metabolite_E       9.582298\n",
       "disease_score     -0.919709\n",
       "dtype: float64"
      ]
     },
     "execution_count": 9,
     "metadata": {},
     "output_type": "execute_result"
    }
   ],
   "source": [
    "# association_df.mean()\n",
    "association_df.median()"
   ]
  },
  {
   "cell_type": "code",
   "execution_count": 10,
   "metadata": {},
   "outputs": [],
   "source": [
    "association_df.fillna(association_df.median(), inplace=True)\n",
    "# association_df.fillna(association_df.mean(), inplace=True)"
   ]
  },
  {
   "cell_type": "code",
   "execution_count": 11,
   "metadata": {},
   "outputs": [
    {
     "data": {
      "text/html": [
       "<div>\n",
       "<style scoped>\n",
       "    .dataframe tbody tr th:only-of-type {\n",
       "        vertical-align: middle;\n",
       "    }\n",
       "\n",
       "    .dataframe tbody tr th {\n",
       "        vertical-align: top;\n",
       "    }\n",
       "\n",
       "    .dataframe thead th {\n",
       "        text-align: right;\n",
       "    }\n",
       "</style>\n",
       "<table border=\"1\" class=\"dataframe\">\n",
       "  <thead>\n",
       "    <tr style=\"text-align: right;\">\n",
       "      <th></th>\n",
       "      <th>subject</th>\n",
       "      <th>sex</th>\n",
       "      <th>height</th>\n",
       "      <th>mass</th>\n",
       "      <th>smoker</th>\n",
       "      <th>ethnicity</th>\n",
       "      <th>metabolite_A</th>\n",
       "      <th>metabolite_B</th>\n",
       "      <th>metabolite_C</th>\n",
       "      <th>metabolite_D</th>\n",
       "      <th>metabolite_E</th>\n",
       "      <th>disease_score</th>\n",
       "    </tr>\n",
       "  </thead>\n",
       "  <tbody>\n",
       "    <tr>\n",
       "      <th>9</th>\n",
       "      <td>ID23</td>\n",
       "      <td>1</td>\n",
       "      <td>177.870009</td>\n",
       "      <td>70.992259</td>\n",
       "      <td>0</td>\n",
       "      <td>Black/African/Caribbean</td>\n",
       "      <td>0.887224</td>\n",
       "      <td>1.274922</td>\n",
       "      <td>0.306667</td>\n",
       "      <td>4.953703</td>\n",
       "      <td>10.237791</td>\n",
       "      <td>3.480822</td>\n",
       "    </tr>\n",
       "    <tr>\n",
       "      <th>34</th>\n",
       "      <td>ID87</td>\n",
       "      <td>1</td>\n",
       "      <td>178.793400</td>\n",
       "      <td>72.141244</td>\n",
       "      <td>0</td>\n",
       "      <td>Black/African/Caribbean</td>\n",
       "      <td>0.887224</td>\n",
       "      <td>1.868261</td>\n",
       "      <td>0.201052</td>\n",
       "      <td>4.219526</td>\n",
       "      <td>8.662771</td>\n",
       "      <td>-6.821057</td>\n",
       "    </tr>\n",
       "  </tbody>\n",
       "</table>\n",
       "</div>"
      ],
      "text/plain": [
       "   subject  sex      height       mass  smoker                ethnicity  \\\n",
       "9     ID23    1  177.870009  70.992259       0  Black/African/Caribbean   \n",
       "34    ID87    1  178.793400  72.141244       0  Black/African/Caribbean   \n",
       "\n",
       "    metabolite_A  metabolite_B  metabolite_C  metabolite_D  metabolite_E  \\\n",
       "9       0.887224      1.274922      0.306667      4.953703     10.237791   \n",
       "34      0.887224      1.868261      0.201052      4.219526      8.662771   \n",
       "\n",
       "    disease_score  \n",
       "9        3.480822  \n",
       "34      -6.821057  "
      ]
     },
     "execution_count": 11,
     "metadata": {},
     "output_type": "execute_result"
    }
   ],
   "source": [
    "association_df.loc[[9,34]]"
   ]
  },
  {
   "cell_type": "code",
   "execution_count": null,
   "metadata": {},
   "outputs": [],
   "source": []
  },
  {
   "cell_type": "code",
   "execution_count": null,
   "metadata": {},
   "outputs": [],
   "source": []
  },
  {
   "cell_type": "code",
   "execution_count": 12,
   "metadata": {},
   "outputs": [
    {
     "name": "stderr",
     "output_type": "stream",
     "text": [
      "/home/patrick/anaconda3/lib/python3.7/site-packages/scipy/stats/stats.py:1713: FutureWarning: Using a non-tuple sequence for multidimensional indexing is deprecated; use `arr[tuple(seq)]` instead of `arr[seq]`. In the future this will be interpreted as an array index, `arr[np.array(seq)]`, which will result either in an error or a different result.\n",
      "  return np.add.reduce(sorted[indexer] * weights, axis=axis) / sumval\n"
     ]
    },
    {
     "data": {
      "image/png": "[encoded data removed]",
      "text/plain": [
       "<Figure size 720x576 with 4 Axes>"
      ]
     },
     "metadata": {},
     "output_type": "display_data"
    }
   ],
   "source": [
    "# [Write your code in this cell]\n",
    "# f, axes = plt.subplots(2, 2, figsize=(15,8))\n",
    "# f.plt(x,y)\n",
    "\n",
    "sns.set(style=\"darkgrid\")\n",
    "\n",
    "current_palette_4 = sns.color_palette(\"hls\", 4)\n",
    "current_palette_12 = sns.color_palette(\"hls\", 12)\n",
    "\n",
    "sns.set_palette(current_palette_12)\n",
    "\n",
    "plt.figure(figsize=(10,8))\n",
    "plt.subplot(2,2,1)\n",
    "# plt.plot(x,y1)\n",
    "sns.countplot(x=\"sex\", data=association_df)\n",
    "plt.title('Barchart of Gender Counts')\n",
    "\n",
    "plt.subplot(2,2,2)\n",
    "# plt.plot(x,y2)\n",
    "sns.countplot(x=\"ethnicity\", data=association_df)\n",
    "plt.title('Barchart of Ethnicity Count')\n",
    "\n",
    "plt.subplot(2,2,3)\n",
    "# plt.plot(x,y3)\n",
    "sns.distplot(association_df['mass'])\n",
    "plt.title('Mass Distribution')\n",
    "\n",
    "plt.subplot(2,2,4)\n",
    "# plt.plot(x,y4)\n",
    "sns.distplot(association_df['metabolite_A'])\n",
    "plt.title('Metabolite A Ditribution')\n",
    "plt.show()"
   ]
  },
  {
   "cell_type": "code",
   "execution_count": null,
   "metadata": {},
   "outputs": [],
   "source": [
    "\n"
   ]
  },
  {
   "cell_type": "code",
   "execution_count": 13,
   "metadata": {},
   "outputs": [],
   "source": [
    "# man_df = association_df[association_df['sex']==0]\n",
    "\n",
    "# woman_df = association_df[association_df['sex']==1]\n",
    "\n",
    "\n",
    "# man_df['mass'].median()\n",
    "# man_df['mass'].mean()\n",
    "# woman_df['mass'].median()\n",
    "\n",
    "# # not currently sharing x\n",
    "# plt.figure(figsize=(8,5))\n",
    "# plt.subplot(2,1,1)\n",
    "# sns.distplot(man_df['mass'])\n",
    "\n",
    "# plt.subplot(2,1,2)\n",
    "# sns.distplot(woman_df['mass'])"
   ]
  },
  {
   "cell_type": "markdown",
   "metadata": {},
   "source": [
    "**[Do not edit the contents of this cell]**\n",
    "\n",
    "### Part 3\n",
    "\n",
    "Write a function that returns the Body Mass Index (BMI).Calculate BMI for each subject and add it as new variable in the data set."
   ]
  },
  {
   "cell_type": "code",
   "execution_count": 14,
   "metadata": {},
   "outputs": [
    {
     "data": {
      "text/html": [
       "<div>\n",
       "<style scoped>\n",
       "    .dataframe tbody tr th:only-of-type {\n",
       "        vertical-align: middle;\n",
       "    }\n",
       "\n",
       "    .dataframe tbody tr th {\n",
       "        vertical-align: top;\n",
       "    }\n",
       "\n",
       "    .dataframe thead th {\n",
       "        text-align: right;\n",
       "    }\n",
       "</style>\n",
       "<table border=\"1\" class=\"dataframe\">\n",
       "  <thead>\n",
       "    <tr style=\"text-align: right;\">\n",
       "      <th></th>\n",
       "      <th>subject</th>\n",
       "      <th>sex</th>\n",
       "      <th>height</th>\n",
       "      <th>mass</th>\n",
       "      <th>smoker</th>\n",
       "      <th>ethnicity</th>\n",
       "      <th>metabolite_A</th>\n",
       "      <th>metabolite_B</th>\n",
       "      <th>metabolite_C</th>\n",
       "      <th>metabolite_D</th>\n",
       "      <th>metabolite_E</th>\n",
       "      <th>disease_score</th>\n",
       "      <th>BMI</th>\n",
       "    </tr>\n",
       "  </thead>\n",
       "  <tbody>\n",
       "    <tr>\n",
       "      <th>0</th>\n",
       "      <td>ID85</td>\n",
       "      <td>1</td>\n",
       "      <td>171.476882</td>\n",
       "      <td>71.070214</td>\n",
       "      <td>0</td>\n",
       "      <td>Asian</td>\n",
       "      <td>0.777283</td>\n",
       "      <td>1.544216</td>\n",
       "      <td>0.200118</td>\n",
       "      <td>4.963626</td>\n",
       "      <td>9.981923</td>\n",
       "      <td>0.967832</td>\n",
       "      <td>24.169990</td>\n",
       "    </tr>\n",
       "    <tr>\n",
       "      <th>1</th>\n",
       "      <td>ID86</td>\n",
       "      <td>0</td>\n",
       "      <td>186.503967</td>\n",
       "      <td>80.276194</td>\n",
       "      <td>0</td>\n",
       "      <td>Black/African/Caribbean</td>\n",
       "      <td>0.984182</td>\n",
       "      <td>2.040572</td>\n",
       "      <td>0.293487</td>\n",
       "      <td>5.250400</td>\n",
       "      <td>10.745194</td>\n",
       "      <td>-5.513232</td>\n",
       "      <td>23.078662</td>\n",
       "    </tr>\n",
       "    <tr>\n",
       "      <th>2</th>\n",
       "      <td>ID48</td>\n",
       "      <td>1</td>\n",
       "      <td>177.289453</td>\n",
       "      <td>70.102716</td>\n",
       "      <td>1</td>\n",
       "      <td>Other</td>\n",
       "      <td>0.989442</td>\n",
       "      <td>1.983742</td>\n",
       "      <td>0.410665</td>\n",
       "      <td>4.302722</td>\n",
       "      <td>9.032480</td>\n",
       "      <td>-3.236092</td>\n",
       "      <td>22.303296</td>\n",
       "    </tr>\n",
       "    <tr>\n",
       "      <th>3</th>\n",
       "      <td>ID4</td>\n",
       "      <td>0</td>\n",
       "      <td>182.755756</td>\n",
       "      <td>76.286511</td>\n",
       "      <td>0</td>\n",
       "      <td>White</td>\n",
       "      <td>0.998088</td>\n",
       "      <td>1.940030</td>\n",
       "      <td>0.183667</td>\n",
       "      <td>4.243840</td>\n",
       "      <td>8.597430</td>\n",
       "      <td>-7.306565</td>\n",
       "      <td>22.840501</td>\n",
       "    </tr>\n",
       "    <tr>\n",
       "      <th>4</th>\n",
       "      <td>ID63</td>\n",
       "      <td>1</td>\n",
       "      <td>178.761595</td>\n",
       "      <td>70.987086</td>\n",
       "      <td>0</td>\n",
       "      <td>Asian</td>\n",
       "      <td>0.893859</td>\n",
       "      <td>1.794609</td>\n",
       "      <td>0.554105</td>\n",
       "      <td>4.006878</td>\n",
       "      <td>8.530953</td>\n",
       "      <td>1.514585</td>\n",
       "      <td>22.214212</td>\n",
       "    </tr>\n",
       "  </tbody>\n",
       "</table>\n",
       "</div>"
      ],
      "text/plain": [
       "  subject  sex      height       mass  smoker                ethnicity  \\\n",
       "0    ID85    1  171.476882  71.070214       0                    Asian   \n",
       "1    ID86    0  186.503967  80.276194       0  Black/African/Caribbean   \n",
       "2    ID48    1  177.289453  70.102716       1                    Other   \n",
       "3     ID4    0  182.755756  76.286511       0                    White   \n",
       "4    ID63    1  178.761595  70.987086       0                    Asian   \n",
       "\n",
       "   metabolite_A  metabolite_B  metabolite_C  metabolite_D  metabolite_E  \\\n",
       "0      0.777283      1.544216      0.200118      4.963626      9.981923   \n",
       "1      0.984182      2.040572      0.293487      5.250400     10.745194   \n",
       "2      0.989442      1.983742      0.410665      4.302722      9.032480   \n",
       "3      0.998088      1.940030      0.183667      4.243840      8.597430   \n",
       "4      0.893859      1.794609      0.554105      4.006878      8.530953   \n",
       "\n",
       "   disease_score        BMI  \n",
       "0       0.967832  24.169990  \n",
       "1      -5.513232  23.078662  \n",
       "2      -3.236092  22.303296  \n",
       "3      -7.306565  22.840501  \n",
       "4       1.514585  22.214212  "
      ]
     },
     "execution_count": 14,
     "metadata": {},
     "output_type": "execute_result"
    }
   ],
   "source": [
    "# [Write your code in this cell]\n",
    "association_df['BMI'] = association_df['mass']/((association_df['height']/100)**2)\n",
    "association_df.head(5)"
   ]
  },
  {
   "cell_type": "code",
   "execution_count": 15,
   "metadata": {},
   "outputs": [],
   "source": [
    "\n",
    "# sns.distplot(association_df['BMI'])\n"
   ]
  },
  {
   "cell_type": "markdown",
   "metadata": {},
   "source": [
    "**[Do not edit the contents of this cell]**\n",
    "\n",
    "### Part 4\n",
    "\n",
    "Calculate the correlation matrix between numerical predictors. Use this information to impute any missing values, if possible."
   ]
  },
  {
   "cell_type": "code",
   "execution_count": 16,
   "metadata": {},
   "outputs": [
    {
     "data": {
      "text/plain": [
       "array(['subject', 'sex', 'height', 'mass', 'smoker', 'ethnicity',\n",
       "       'metabolite_A', 'metabolite_B', 'metabolite_C', 'metabolite_D',\n",
       "       'metabolite_E', 'disease_score', 'BMI'], dtype=object)"
      ]
     },
     "execution_count": 16,
     "metadata": {},
     "output_type": "execute_result"
    }
   ],
   "source": [
    "association_df.columns.values"
   ]
  },
  {
   "cell_type": "code",
   "execution_count": 17,
   "metadata": {},
   "outputs": [],
   "source": [
    "# association_df.info()\n",
    "association_num_df = association_df.drop(['subject','sex', 'smoker', 'ethnicity'], axis=1)\n"
   ]
  },
  {
   "cell_type": "code",
   "execution_count": 18,
   "metadata": {},
   "outputs": [],
   "source": [
    "# [Write your code in this cell]\n",
    "pearson_corr = association_num_df.corr(method='pearson')\n",
    "kendall_corr = association_num_df.corr(method='kendall')\n",
    "spearman_corr = association_num_df.corr(method='spearman')"
   ]
  },
  {
   "cell_type": "code",
   "execution_count": 19,
   "metadata": {},
   "outputs": [
    {
     "data": {
      "text/plain": [
       "array([178.95431906,  77.37492237,   0.88722385,   1.78151704,\n",
       "         0.30254308,   4.67711672,   9.58229829,  -0.91970868,\n",
       "        23.6634447 ])"
      ]
     },
     "execution_count": 19,
     "metadata": {},
     "output_type": "execute_result"
    }
   ],
   "source": [
    "imputer = Imputer(strategy=\"median\")\n",
    "imputer.fit(association_num_df)\n",
    "imputer.statistics_"
   ]
  },
  {
   "cell_type": "code",
   "execution_count": 20,
   "metadata": {},
   "outputs": [
    {
     "data": {
      "text/plain": [
       "array([178.95431906,  77.37492237,   0.88722385,   1.78151704,\n",
       "         0.30254308,   4.67711672,   9.58229829,  -0.91970868,\n",
       "        23.6634447 ])"
      ]
     },
     "execution_count": 20,
     "metadata": {},
     "output_type": "execute_result"
    }
   ],
   "source": [
    "association_num_df.median().values"
   ]
  },
  {
   "cell_type": "code",
   "execution_count": 21,
   "metadata": {},
   "outputs": [
    {
     "data": {
      "image/png": "[encoded data removed]",
      "text/plain": [
       "<Figure size 432x288 with 2 Axes>"
      ]
     },
     "metadata": {},
     "output_type": "display_data"
    }
   ],
   "source": [
    "sns.heatmap(pearson_corr)\n",
    "plt.show()"
   ]
  },
  {
   "cell_type": "code",
   "execution_count": null,
   "metadata": {},
   "outputs": [],
   "source": []
  },
  {
   "cell_type": "code",
   "execution_count": null,
   "metadata": {},
   "outputs": [],
   "source": []
  },
  {
   "cell_type": "markdown",
   "metadata": {},
   "source": [
    "**[Do not edit the contents of this cell]**\n",
    "\n",
    "### Part 5\n",
    "\n",
    "Assuming that a disease status is recorded when the disease score is greater than 5, add a new response variable in the dataset defining the diseases status of each subject."
   ]
  },
  {
   "cell_type": "code",
   "execution_count": 22,
   "metadata": {},
   "outputs": [
    {
     "data": {
      "text/html": [
       "<div>\n",
       "<style scoped>\n",
       "    .dataframe tbody tr th:only-of-type {\n",
       "        vertical-align: middle;\n",
       "    }\n",
       "\n",
       "    .dataframe tbody tr th {\n",
       "        vertical-align: top;\n",
       "    }\n",
       "\n",
       "    .dataframe thead th {\n",
       "        text-align: right;\n",
       "    }\n",
       "</style>\n",
       "<table border=\"1\" class=\"dataframe\">\n",
       "  <thead>\n",
       "    <tr style=\"text-align: right;\">\n",
       "      <th></th>\n",
       "      <th>subject</th>\n",
       "      <th>sex</th>\n",
       "      <th>height</th>\n",
       "      <th>mass</th>\n",
       "      <th>smoker</th>\n",
       "      <th>ethnicity</th>\n",
       "      <th>metabolite_A</th>\n",
       "      <th>metabolite_B</th>\n",
       "      <th>metabolite_C</th>\n",
       "      <th>metabolite_D</th>\n",
       "      <th>metabolite_E</th>\n",
       "      <th>disease_score</th>\n",
       "      <th>BMI</th>\n",
       "      <th>disease_status</th>\n",
       "    </tr>\n",
       "  </thead>\n",
       "  <tbody>\n",
       "    <tr>\n",
       "      <th>0</th>\n",
       "      <td>ID85</td>\n",
       "      <td>1</td>\n",
       "      <td>171.476882</td>\n",
       "      <td>71.070214</td>\n",
       "      <td>0</td>\n",
       "      <td>Asian</td>\n",
       "      <td>0.777283</td>\n",
       "      <td>1.544216</td>\n",
       "      <td>0.200118</td>\n",
       "      <td>4.963626</td>\n",
       "      <td>9.981923</td>\n",
       "      <td>0.967832</td>\n",
       "      <td>24.169990</td>\n",
       "      <td>0</td>\n",
       "    </tr>\n",
       "    <tr>\n",
       "      <th>1</th>\n",
       "      <td>ID86</td>\n",
       "      <td>0</td>\n",
       "      <td>186.503967</td>\n",
       "      <td>80.276194</td>\n",
       "      <td>0</td>\n",
       "      <td>Black/African/Caribbean</td>\n",
       "      <td>0.984182</td>\n",
       "      <td>2.040572</td>\n",
       "      <td>0.293487</td>\n",
       "      <td>5.250400</td>\n",
       "      <td>10.745194</td>\n",
       "      <td>-5.513232</td>\n",
       "      <td>23.078662</td>\n",
       "      <td>0</td>\n",
       "    </tr>\n",
       "    <tr>\n",
       "      <th>2</th>\n",
       "      <td>ID48</td>\n",
       "      <td>1</td>\n",
       "      <td>177.289453</td>\n",
       "      <td>70.102716</td>\n",
       "      <td>1</td>\n",
       "      <td>Other</td>\n",
       "      <td>0.989442</td>\n",
       "      <td>1.983742</td>\n",
       "      <td>0.410665</td>\n",
       "      <td>4.302722</td>\n",
       "      <td>9.032480</td>\n",
       "      <td>-3.236092</td>\n",
       "      <td>22.303296</td>\n",
       "      <td>0</td>\n",
       "    </tr>\n",
       "    <tr>\n",
       "      <th>3</th>\n",
       "      <td>ID4</td>\n",
       "      <td>0</td>\n",
       "      <td>182.755756</td>\n",
       "      <td>76.286511</td>\n",
       "      <td>0</td>\n",
       "      <td>White</td>\n",
       "      <td>0.998088</td>\n",
       "      <td>1.940030</td>\n",
       "      <td>0.183667</td>\n",
       "      <td>4.243840</td>\n",
       "      <td>8.597430</td>\n",
       "      <td>-7.306565</td>\n",
       "      <td>22.840501</td>\n",
       "      <td>0</td>\n",
       "    </tr>\n",
       "    <tr>\n",
       "      <th>4</th>\n",
       "      <td>ID63</td>\n",
       "      <td>1</td>\n",
       "      <td>178.761595</td>\n",
       "      <td>70.987086</td>\n",
       "      <td>0</td>\n",
       "      <td>Asian</td>\n",
       "      <td>0.893859</td>\n",
       "      <td>1.794609</td>\n",
       "      <td>0.554105</td>\n",
       "      <td>4.006878</td>\n",
       "      <td>8.530953</td>\n",
       "      <td>1.514585</td>\n",
       "      <td>22.214212</td>\n",
       "      <td>0</td>\n",
       "    </tr>\n",
       "  </tbody>\n",
       "</table>\n",
       "</div>"
      ],
      "text/plain": [
       "  subject  sex      height       mass  smoker                ethnicity  \\\n",
       "0    ID85    1  171.476882  71.070214       0                    Asian   \n",
       "1    ID86    0  186.503967  80.276194       0  Black/African/Caribbean   \n",
       "2    ID48    1  177.289453  70.102716       1                    Other   \n",
       "3     ID4    0  182.755756  76.286511       0                    White   \n",
       "4    ID63    1  178.761595  70.987086       0                    Asian   \n",
       "\n",
       "   metabolite_A  metabolite_B  metabolite_C  metabolite_D  metabolite_E  \\\n",
       "0      0.777283      1.544216      0.200118      4.963626      9.981923   \n",
       "1      0.984182      2.040572      0.293487      5.250400     10.745194   \n",
       "2      0.989442      1.983742      0.410665      4.302722      9.032480   \n",
       "3      0.998088      1.940030      0.183667      4.243840      8.597430   \n",
       "4      0.893859      1.794609      0.554105      4.006878      8.530953   \n",
       "\n",
       "   disease_score        BMI  disease_status  \n",
       "0       0.967832  24.169990               0  \n",
       "1      -5.513232  23.078662               0  \n",
       "2      -3.236092  22.303296               0  \n",
       "3      -7.306565  22.840501               0  \n",
       "4       1.514585  22.214212               0  "
      ]
     },
     "execution_count": 22,
     "metadata": {},
     "output_type": "execute_result"
    }
   ],
   "source": [
    "# [Write your code in this cell]\n",
    "association_df['disease_status'] = np.where(association_df['disease_score'] > 5, 1, 0 )\n",
    "\n",
    "association_df.head(5)"
   ]
  },
  {
   "cell_type": "code",
   "execution_count": 23,
   "metadata": {
    "scrolled": true
   },
   "outputs": [
    {
     "data": {
      "text/plain": [
       "14"
      ]
     },
     "execution_count": 23,
     "metadata": {},
     "output_type": "execute_result"
    }
   ],
   "source": [
    "# 14 diseased people\n",
    "association_df.disease_status.sum()"
   ]
  },
  {
   "cell_type": "code",
   "execution_count": 24,
   "metadata": {},
   "outputs": [],
   "source": [
    "# sns.distplot(association_df['disease_score'])"
   ]
  },
  {
   "cell_type": "code",
   "execution_count": null,
   "metadata": {},
   "outputs": [],
   "source": []
  },
  {
   "cell_type": "code",
   "execution_count": null,
   "metadata": {},
   "outputs": [],
   "source": []
  },
  {
   "cell_type": "markdown",
   "metadata": {},
   "source": [
    "**[Do not edit the contents of this cell]**\n",
    "\n",
    "## Problem 2: hypothesis testing\n",
    "\n",
    "Starting from the same dataset in Problem 1, provide answers for the following questions.\n",
    "\n",
    "### Part 1\n",
    "\n",
    "Given this sample space of subjects, what is the probability that a given subject is diagnosed as diseased? What is the probability that a subject is diagnosed as diseased given that he/she is not a smoker?"
   ]
  },
  {
   "cell_type": "code",
   "execution_count": 25,
   "metadata": {},
   "outputs": [
    {
     "data": {
      "text/plain": [
       "0.13333333333333333"
      ]
     },
     "execution_count": 25,
     "metadata": {},
     "output_type": "execute_result"
    }
   ],
   "source": [
    "# [Write your code in this cell]\n",
    "association_df['disease_status'].sum()/association_df.shape[0]\n"
   ]
  },
  {
   "cell_type": "code",
   "execution_count": 26,
   "metadata": {},
   "outputs": [
    {
     "data": {
      "text/plain": [
       "0.08641975308641975"
      ]
     },
     "execution_count": 26,
     "metadata": {},
     "output_type": "execute_result"
    }
   ],
   "source": [
    "# sample space composed of non smokers = 81\n",
    "association_df[association_df['smoker']==0].shape[0]\n",
    "\n",
    "# diseased cases within the sample space = 7\n",
    "association_df.loc[(association_df['smoker']==0) & association_df['disease_status']==1].shape[0]\n",
    "\n",
    "7/81\n"
   ]
  },
  {
   "cell_type": "markdown",
   "metadata": {},
   "source": [
    "**[Provide your answer here]**\n",
    "- The probability that a subject is diseased is: xxx\n",
    "- The probability that a subject is diseased given that she/he is not a smoker is: xxx"
   ]
  },
  {
   "cell_type": "markdown",
   "metadata": {},
   "source": [
    "**[Do not edit the contents of this cell]**\n",
    "\n",
    "### Part 2\n",
    "\n",
    "Assuming that they are Normally distributed, estimate mean and variance for the distributions of height and mass separately for males and females. Use **either** a frequentist **or** likelihoodist **or** Bayesian approach."
   ]
  },
  {
   "cell_type": "code",
   "execution_count": 41,
   "metadata": {},
   "outputs": [
    {
     "name": "stdout",
     "output_type": "stream",
     "text": [
      "(55, 14)\n",
      "(50, 14)\n",
      "man avg height: 178.77109675031406\n",
      "woman avg height: 178.18186776141937\n"
     ]
    }
   ],
   "source": [
    "# [Write your code in this cell]\n",
    "\n",
    "man_df = association_df[association_df['sex']==0]\n",
    "man_height_mean = man_df['height'].sum()/man_df.shape[0]\n",
    "# avg_man_mass = man_df['mass'].sum()/man_df.shape[0]\n",
    "\n",
    "\n",
    "woman_df = association_df[association_df['sex']==1]\n",
    "woman_height_mean = woman_df['height'].sum()/woman_df.shape[0]\n",
    "# avg_woman_mass = woman_df['mass'].sum()/woman_df.shape[0]\n",
    "\n",
    "print(man_df.shape)\n",
    "print(woman_df.shape)\n",
    "print('man avg height: ' + str(man_height_mean))\n",
    "print('woman avg height: ' +str(woman_height_mean))"
   ]
  },
  {
   "cell_type": "code",
   "execution_count": 43,
   "metadata": {},
   "outputs": [
    {
     "name": "stderr",
     "output_type": "stream",
     "text": [
      "/home/patrick/anaconda3/lib/python3.7/site-packages/scipy/stats/stats.py:1713: FutureWarning: Using a non-tuple sequence for multidimensional indexing is deprecated; use `arr[tuple(seq)]` instead of `arr[seq]`. In the future this will be interpreted as an array index, `arr[np.array(seq)]`, which will result either in an error or a different result.\n",
      "  return np.add.reduce(sorted[indexer] * weights, axis=axis) / sumval\n"
     ]
    },
    {
     "data": {
      "image/png": "[encoded data removed]",
      "text/plain": [
       "<Figure size 864x576 with 2 Axes>"
      ]
     },
     "metadata": {},
     "output_type": "display_data"
    }
   ],
   "source": [
    "plt.figure(figsize=(12,8))\n",
    "\n",
    "\n",
    "plt.subplot(2,2,1)\n",
    "sns.distplot(man_df['height'])\n",
    "plt.title('Men Height(cm)', y=0.92, x=0.18)\n",
    "\n",
    "# plt.subplot(2,2,2)\n",
    "# sns.distplot(man_df['mass'])\n",
    "# plt.title('Men Weight(kg)', y=0.92, x=0.18)\n",
    "\n",
    "plt.subplot(2,2,2)\n",
    "# plt.plot(x,y3)\n",
    "sns.distplot(woman_df['height'])\n",
    "plt.title('woman height', y=0.92, x=0.18)\n",
    "\n",
    "# plt.subplot(2,2,4)\n",
    "# sns.distplot(woman_df['mass'])\n",
    "# plt.title('woman height', y=0.92, x=0.18)\n",
    "\n",
    "plt.show()"
   ]
  },
  {
   "cell_type": "code",
   "execution_count": null,
   "metadata": {},
   "outputs": [],
   "source": []
  },
  {
   "cell_type": "code",
   "execution_count": 35,
   "metadata": {},
   "outputs": [],
   "source": [
    "man_var = man_df['height'].var()\n",
    "woman_var = woman_df['height'].var()"
   ]
  },
  {
   "cell_type": "code",
   "execution_count": 50,
   "metadata": {},
   "outputs": [
    {
     "data": {
      "text/plain": [
       "0.9565082726261883"
      ]
     },
     "execution_count": 50,
     "metadata": {},
     "output_type": "execute_result"
    }
   ],
   "source": [
    "SE = np.sqrt((man_var/55)+(woman_var/50))\n",
    "SE"
   ]
  },
  {
   "cell_type": "code",
   "execution_count": 37,
   "metadata": {},
   "outputs": [
    {
     "data": {
      "text/plain": [
       "4.90931255587972"
      ]
     },
     "execution_count": 37,
     "metadata": {},
     "output_type": "execute_result"
    }
   ],
   "source": [
    "s = np.sqrt((man_var + woman_var)/2)\n",
    "s"
   ]
  },
  {
   "cell_type": "code",
   "execution_count": 51,
   "metadata": {},
   "outputs": [
    {
     "data": {
      "text/plain": [
       "0.46808458609449743"
      ]
     },
     "execution_count": 51,
     "metadata": {},
     "output_type": "execute_result"
    }
   ],
   "source": [
    "SE = s/np.sqrt(110)\n",
    "SE"
   ]
  },
  {
   "cell_type": "code",
   "execution_count": 49,
   "metadata": {},
   "outputs": [
    {
     "data": {
      "text/plain": [
       "1.2588087845638543"
      ]
     },
     "execution_count": 49,
     "metadata": {},
     "output_type": "execute_result"
    }
   ],
   "source": [
    "## Calculate the t-statistics\n",
    "t = (man_height_mean - woman_height_mean)/SE\n",
    "t"
   ]
  },
  {
   "cell_type": "code",
   "execution_count": null,
   "metadata": {},
   "outputs": [],
   "source": []
  },
  {
   "cell_type": "markdown",
   "metadata": {},
   "source": [
    "**[Do not edit the contents of this cell]**\n",
    "\n",
    "### Part 3\n",
    "\n",
    "Test whether height is different between males and females. Perform the same test on the mass variable. Define (in words) which ones are your null and alternative hypotheses and significance threshold. Finally, discuss (in words) any conclusion you can make out the results of your statistical tests."
   ]
  },
  {
   "cell_type": "code",
   "execution_count": 1,
   "metadata": {},
   "outputs": [],
   "source": [
    "# [Write your code in this cell]\n"
   ]
  },
  {
   "cell_type": "code",
   "execution_count": 57,
   "metadata": {},
   "outputs": [
    {
     "data": {
      "text/plain": [
       "Ttest_indResult(statistic=0.612432005198897, pvalue=0.5416017014078051)"
      ]
     },
     "execution_count": 57,
     "metadata": {},
     "output_type": "execute_result"
    }
   ],
   "source": [
    "from scipy import stats\n",
    "stats.ttest_ind(man_df['height'], woman_df['height'])"
   ]
  },
  {
   "cell_type": "code",
   "execution_count": 56,
   "metadata": {},
   "outputs": [
    {
     "data": {
      "text/plain": [
       "Ttest_indResult(statistic=25.814418967682254, pvalue=8.907951602027204e-47)"
      ]
     },
     "execution_count": 56,
     "metadata": {},
     "output_type": "execute_result"
    }
   ],
   "source": [
    "stats.ttest_ind(man_df['mass'], woman_df['mass'])"
   ]
  },
  {
   "cell_type": "code",
   "execution_count": null,
   "metadata": {},
   "outputs": [],
   "source": []
  },
  {
   "cell_type": "code",
   "execution_count": null,
   "metadata": {},
   "outputs": [],
   "source": []
  },
  {
   "cell_type": "markdown",
   "metadata": {},
   "source": [
    "**[Provide your answer here]**\n"
   ]
  },
  {
   "cell_type": "markdown",
   "metadata": {},
   "source": [
    "**[Do not edit the contents of this cell]**\n",
    "\n",
    "### Part 4\n",
    "\n",
    "Repeat the statistical test in Part 3 for all numerical predictor variables in the dataset. How many tests are significant with $\\alpha=0.05$?\n",
    "Calculate corrected p-values for multiple tests using a Bonferroni correction. How many tests are significant now? "
   ]
  },
  {
   "cell_type": "code",
   "execution_count": null,
   "metadata": {},
   "outputs": [],
   "source": [
    "# [Write your code in this cell]\n"
   ]
  },
  {
   "cell_type": "markdown",
   "metadata": {},
   "source": [
    "**[Do not edit the contents of this cell]**\n",
    "\n",
    "## Problem 3: regression\n",
    "\n",
    "Assume you have been provided a new variable indicating a generic glucose index level. We know that such glucose index is related to the variable `metabolite_D` given in the previous dataset.\n",
    "\n",
    "### Part 1\n",
    "\n",
    "Load the new dataset called `glucose.csv` which gives the measure of a generic glucose level (`glucose_index`) for each tested subject. Perform a regression where `metabolite_D` is the predictor and `glucose_index` is the response variable."
   ]
  },
  {
   "cell_type": "code",
   "execution_count": null,
   "metadata": {},
   "outputs": [],
   "source": [
    "# [Write your code in this cell]\n"
   ]
  },
  {
   "cell_type": "markdown",
   "metadata": {},
   "source": [
    "**[Do not edit the contents of this cell]**\n",
    "\n",
    "## Problem 4: classification\n",
    "\n",
    "### Part 1\n",
    "\n",
    "Implement an algorithm to predict the disease status of a subject given all response variables provided in the dataset. You are free to choose the appropriate statistical tool you prefer. Assess the quality of your classifier."
   ]
  },
  {
   "cell_type": "code",
   "execution_count": null,
   "metadata": {},
   "outputs": [],
   "source": [
    "# [Write your code in this cell]\n"
   ]
  },
  {
   "cell_type": "markdown",
   "metadata": {},
   "source": [
    "**[Do not edit the contents of this cell]**\n",
    "\n",
    "### Part 2\n",
    "\n",
    "Given the classifier you devised in Part 1, predict the disease status of the following subject:\n",
    "- subject: ID986\n",
    "- sex: 1\n",
    "- height: 180.2\n",
    "- mass: 70.1\n",
    "- smoker: 1\n",
    "- ethnicity: \"White\"\n",
    "- metabolite_A: 0.5\n",
    "- metabolite_B: 1.2\n",
    "- metabolite_C: 0.5\n",
    "- metabolite_D: 8.5\n",
    "- metabolite_E: 10.2"
   ]
  },
  {
   "cell_type": "code",
   "execution_count": 4,
   "metadata": {},
   "outputs": [],
   "source": [
    "# [Write your code in this cell]\n"
   ]
  }
 ],
 "metadata": {
  "kernelspec": {
   "display_name": "Python 3",
   "language": "python",
   "name": "python3"
  },
  "language_info": {
   "codemirror_mode": {
    "name": "ipython",
    "version": 3
   },
   "file_extension": ".py",
   "mimetype": "text/x-python",
   "name": "python",
   "nbconvert_exporter": "python",
   "pygments_lexer": "ipython3",
   "version": "3.7.0"
  }
 },
 "nbformat": 4,
 "nbformat_minor": 2
}
