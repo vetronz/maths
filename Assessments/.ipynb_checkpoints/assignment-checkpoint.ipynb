{
 "cells": [
  {
   "cell_type": "markdown",
   "metadata": {},
   "source": [
    "**[Do not edit the contents of this cell]**\n",
    "\n",
    "# MSc in Bioinformatics and Theoretical Systems Biology - Maths and Stats Assignment 2018/19\n",
    "\n",
    "This assignment is to be completed in Python, R or Julia and returned as a Jupyter notebook. There are 4 types of cells used in this notebook:\n",
    "1. Cells containing tasks and instructions to be completed. Do not edit these. These are clearly labelled.\n",
    "2. Cells in which you are meant to provide an answer in Markdown format.\n",
    "3. Cells containing code that defines e.g. which packages to load, but can also contain routines and snippets of codes that you should use.\n",
    "4. Cells that contain the Python/R/Julia code that you write to solve the problems set.\n",
    "\n",
    "Each of these cells will contain explit comments at the top telling you whether to edit or not edit a cell. In Code cells comments are specified by the \"#\" character. In the Markdown Answer Cells, replace the xxx by your answer, whenever these are present. You will have to execute all code and Markdown cells in order to (i) make use of the provided code, and (ii) format the markdown appropriately.\n",
    "\n",
    "There are four problems to be tackled:\n",
    "1. Data exploration [40%]\n",
    "2. Hypothesis testing [20%]\n",
    "3. Regression [20%]\n",
    "4. Classification [20%]\n",
    "\n",
    "For each questions there several parts of different difficulty. Where appropriate, further reading will be given at the start of each question.\n",
    "\n",
    "You will have to specify which language (and version) you used and all packages needed in order to run all Code cells. Please add this information in the next two cells. You can also use a mix of languages but any change has to be clearly indicated in the appropriate cell."
   ]
  },
  {
   "cell_type": "markdown",
   "metadata": {},
   "source": [
    "The kernel for this Jupyter notebook is xxx, version xxx, with the following packages: xxx, xxx"
   ]
  },
  {
   "cell_type": "code",
   "execution_count": 346,
   "metadata": {},
   "outputs": [],
   "source": [
    "# here import all libraries or packages needed\n",
    "import numpy as np\n",
    "import matplotlib.pyplot as plt\n",
    "import scipy\n",
    "import pandas as pd\n",
    "import seaborn as sns\n",
    "%matplotlib inline\n",
    "# ..."
   ]
  },
  {
   "cell_type": "markdown",
   "metadata": {},
   "source": [
    "**[Do not edit the contents of this cell]**\n",
    "\n",
    "## Problem 1: data exploration\n",
    "\n",
    "We consider a subset of data coming from a putative association study where researchers collected various metrics and phenotypes to find associations with a putative generic cardiovascular disease.\n",
    "All recruited subjects are adults.\n",
    "For each subject several predictor variables are recorded: sex, height (in cm), mass (in kg), whether is a smoker or not, her/his ethnicity, and levels of 5 different metabolites (labelled A-E).\n",
    "Each subject has a unique ID number. \n",
    "For each subject a disease score, the response variable, measuring the severity of the disease phenotype in arbitrary units, is provided.\n",
    "The data is provided in the file `association.csv`.\n",
    "\n",
    "### Part 1\n",
    "\n",
    "Load the dataset `association.csv`.\n",
    "How many unique records of subjects do we have? How many unique predictor variables?"
   ]
  },
  {
   "cell_type": "code",
   "execution_count": 377,
   "metadata": {},
   "outputs": [],
   "source": [
    "# [Write your code in this cell]\n",
    "# df = pd.read_csv(\"data/cereal.csv\")\n",
    "association_df = pd.read_csv('association.csv')\n",
    "association_indep_df = association_df.drop(['disease_score'], axis=1)\n",
    "\n",
    "# association_num_df = association_df.drop(['sex', 'smoker', 'ethnicity'], axis=1)\n"
   ]
  },
  {
   "cell_type": "code",
   "execution_count": 378,
   "metadata": {},
   "outputs": [
    {
     "data": {
      "text/html": [
       "<div>\n",
       "<style scoped>\n",
       "    .dataframe tbody tr th:only-of-type {\n",
       "        vertical-align: middle;\n",
       "    }\n",
       "\n",
       "    .dataframe tbody tr th {\n",
       "        vertical-align: top;\n",
       "    }\n",
       "\n",
       "    .dataframe thead th {\n",
       "        text-align: right;\n",
       "    }\n",
       "</style>\n",
       "<table border=\"1\" class=\"dataframe\">\n",
       "  <thead>\n",
       "    <tr style=\"text-align: right;\">\n",
       "      <th></th>\n",
       "      <th>subject</th>\n",
       "      <th>sex</th>\n",
       "      <th>height</th>\n",
       "      <th>mass</th>\n",
       "      <th>smoker</th>\n",
       "      <th>ethnicity</th>\n",
       "      <th>metabolite_A</th>\n",
       "      <th>metabolite_B</th>\n",
       "      <th>metabolite_C</th>\n",
       "      <th>metabolite_D</th>\n",
       "      <th>metabolite_E</th>\n",
       "    </tr>\n",
       "  </thead>\n",
       "  <tbody>\n",
       "    <tr>\n",
       "      <th>0</th>\n",
       "      <td>ID85</td>\n",
       "      <td>1</td>\n",
       "      <td>171.476882</td>\n",
       "      <td>71.070214</td>\n",
       "      <td>0</td>\n",
       "      <td>Asian</td>\n",
       "      <td>0.777283</td>\n",
       "      <td>1.544216</td>\n",
       "      <td>0.200118</td>\n",
       "      <td>4.963626</td>\n",
       "      <td>9.981923</td>\n",
       "    </tr>\n",
       "    <tr>\n",
       "      <th>1</th>\n",
       "      <td>ID86</td>\n",
       "      <td>0</td>\n",
       "      <td>186.503967</td>\n",
       "      <td>80.276194</td>\n",
       "      <td>0</td>\n",
       "      <td>Black/African/Caribbean</td>\n",
       "      <td>0.984182</td>\n",
       "      <td>2.040572</td>\n",
       "      <td>0.293487</td>\n",
       "      <td>5.250400</td>\n",
       "      <td>10.745194</td>\n",
       "    </tr>\n",
       "    <tr>\n",
       "      <th>2</th>\n",
       "      <td>ID48</td>\n",
       "      <td>1</td>\n",
       "      <td>177.289453</td>\n",
       "      <td>70.102716</td>\n",
       "      <td>1</td>\n",
       "      <td>Other</td>\n",
       "      <td>0.989442</td>\n",
       "      <td>1.983742</td>\n",
       "      <td>0.410665</td>\n",
       "      <td>4.302722</td>\n",
       "      <td>9.032480</td>\n",
       "    </tr>\n",
       "    <tr>\n",
       "      <th>3</th>\n",
       "      <td>ID4</td>\n",
       "      <td>0</td>\n",
       "      <td>182.755756</td>\n",
       "      <td>76.286511</td>\n",
       "      <td>0</td>\n",
       "      <td>White</td>\n",
       "      <td>0.998088</td>\n",
       "      <td>1.940030</td>\n",
       "      <td>0.183667</td>\n",
       "      <td>4.243840</td>\n",
       "      <td>8.597430</td>\n",
       "    </tr>\n",
       "    <tr>\n",
       "      <th>4</th>\n",
       "      <td>ID63</td>\n",
       "      <td>1</td>\n",
       "      <td>178.761595</td>\n",
       "      <td>70.987086</td>\n",
       "      <td>0</td>\n",
       "      <td>Asian</td>\n",
       "      <td>0.893859</td>\n",
       "      <td>1.794609</td>\n",
       "      <td>0.554105</td>\n",
       "      <td>4.006878</td>\n",
       "      <td>8.530953</td>\n",
       "    </tr>\n",
       "  </tbody>\n",
       "</table>\n",
       "</div>"
      ],
      "text/plain": [
       "  subject  sex      height       mass  smoker                ethnicity  \\\n",
       "0    ID85    1  171.476882  71.070214       0                    Asian   \n",
       "1    ID86    0  186.503967  80.276194       0  Black/African/Caribbean   \n",
       "2    ID48    1  177.289453  70.102716       1                    Other   \n",
       "3     ID4    0  182.755756  76.286511       0                    White   \n",
       "4    ID63    1  178.761595  70.987086       0                    Asian   \n",
       "\n",
       "   metabolite_A  metabolite_B  metabolite_C  metabolite_D  metabolite_E  \n",
       "0      0.777283      1.544216      0.200118      4.963626      9.981923  \n",
       "1      0.984182      2.040572      0.293487      5.250400     10.745194  \n",
       "2      0.989442      1.983742      0.410665      4.302722      9.032480  \n",
       "3      0.998088      1.940030      0.183667      4.243840      8.597430  \n",
       "4      0.893859      1.794609      0.554105      4.006878      8.530953  "
      ]
     },
     "execution_count": 378,
     "metadata": {},
     "output_type": "execute_result"
    }
   ],
   "source": [
    "association_indep_df.head(5)"
   ]
  },
  {
   "cell_type": "code",
   "execution_count": 349,
   "metadata": {},
   "outputs": [],
   "source": [
    "# association_df.set_index('subject', inplace=True)"
   ]
  },
  {
   "cell_type": "code",
   "execution_count": 379,
   "metadata": {},
   "outputs": [
    {
     "data": {
      "text/plain": [
       "(106, 11)"
      ]
     },
     "execution_count": 379,
     "metadata": {},
     "output_type": "execute_result"
    }
   ],
   "source": [
    "association_indep_df.shape"
   ]
  },
  {
   "cell_type": "code",
   "execution_count": 351,
   "metadata": {},
   "outputs": [],
   "source": [
    "# association_df.info()"
   ]
  },
  {
   "cell_type": "code",
   "execution_count": null,
   "metadata": {},
   "outputs": [],
   "source": []
  },
  {
   "cell_type": "markdown",
   "metadata": {},
   "source": [
    "**[Provide your answer here]**\n",
    "- The number of unique records of subjects in the dataset is: 106\n",
    "- The number of variables in the dataset is: 12"
   ]
  },
  {
   "cell_type": "markdown",
   "metadata": {},
   "source": [
    "**[Do not edit the contents of this cell]**\n",
    "\n",
    "### Part 2\n",
    "\n",
    "Produce a plot to illustrate the distribution of variables sex, mass, ethnicity, metabolite_A. Choose the most appropriate visualisation depending on the type of each variable."
   ]
  },
  {
   "cell_type": "code",
   "execution_count": 381,
   "metadata": {},
   "outputs": [
    {
     "data": {
      "text/html": [
       "<div>\n",
       "<style scoped>\n",
       "    .dataframe tbody tr th:only-of-type {\n",
       "        vertical-align: middle;\n",
       "    }\n",
       "\n",
       "    .dataframe tbody tr th {\n",
       "        vertical-align: top;\n",
       "    }\n",
       "\n",
       "    .dataframe thead th {\n",
       "        text-align: right;\n",
       "    }\n",
       "</style>\n",
       "<table border=\"1\" class=\"dataframe\">\n",
       "  <thead>\n",
       "    <tr style=\"text-align: right;\">\n",
       "      <th></th>\n",
       "      <th>subject</th>\n",
       "      <th>sex</th>\n",
       "      <th>height</th>\n",
       "      <th>mass</th>\n",
       "      <th>smoker</th>\n",
       "      <th>ethnicity</th>\n",
       "      <th>metabolite_A</th>\n",
       "      <th>metabolite_B</th>\n",
       "      <th>metabolite_C</th>\n",
       "      <th>metabolite_D</th>\n",
       "      <th>metabolite_E</th>\n",
       "    </tr>\n",
       "  </thead>\n",
       "  <tbody>\n",
       "    <tr>\n",
       "      <th>9</th>\n",
       "      <td>ID23</td>\n",
       "      <td>1</td>\n",
       "      <td>177.870009</td>\n",
       "      <td>70.992259</td>\n",
       "      <td>0</td>\n",
       "      <td>Black/African/Caribbean</td>\n",
       "      <td>NaN</td>\n",
       "      <td>1.274922</td>\n",
       "      <td>0.306667</td>\n",
       "      <td>4.953703</td>\n",
       "      <td>10.237791</td>\n",
       "    </tr>\n",
       "    <tr>\n",
       "      <th>34</th>\n",
       "      <td>ID87</td>\n",
       "      <td>1</td>\n",
       "      <td>178.793400</td>\n",
       "      <td>72.141244</td>\n",
       "      <td>0</td>\n",
       "      <td>Black/African/Caribbean</td>\n",
       "      <td>NaN</td>\n",
       "      <td>1.868261</td>\n",
       "      <td>0.201052</td>\n",
       "      <td>4.219526</td>\n",
       "      <td>8.662771</td>\n",
       "    </tr>\n",
       "  </tbody>\n",
       "</table>\n",
       "</div>"
      ],
      "text/plain": [
       "   subject  sex      height       mass  smoker                ethnicity  \\\n",
       "9     ID23    1  177.870009  70.992259       0  Black/African/Caribbean   \n",
       "34    ID87    1  178.793400  72.141244       0  Black/African/Caribbean   \n",
       "\n",
       "    metabolite_A  metabolite_B  metabolite_C  metabolite_D  metabolite_E  \n",
       "9            NaN      1.274922      0.306667      4.953703     10.237791  \n",
       "34           NaN      1.868261      0.201052      4.219526      8.662771  "
      ]
     },
     "execution_count": 381,
     "metadata": {},
     "output_type": "execute_result"
    }
   ],
   "source": [
    "# Prior to plotting distribution I will deal with NaN values\n",
    "# Given that the data set is small I do not want to discard entries, hence I will use imputaitoin to fill NaN values.\n",
    "\n",
    "\n",
    "association_indep_df[association_indep_df.isnull().values]\n",
    "# association_df.isnull().sum()\n",
    "# association_df[association_df['metabolite_A'].isnull()]"
   ]
  },
  {
   "cell_type": "code",
   "execution_count": 383,
   "metadata": {},
   "outputs": [
    {
     "data": {
      "text/plain": [
       "(104, 11)"
      ]
     },
     "execution_count": 383,
     "metadata": {},
     "output_type": "execute_result"
    }
   ],
   "source": [
    "# Create a new dataframe containing only completed values.\n",
    "association_indep_full_df = association_indep_df.dropna()\n",
    "association_indep_full_df.shape"
   ]
  },
  {
   "cell_type": "code",
   "execution_count": 384,
   "metadata": {},
   "outputs": [
    {
     "name": "stdout",
     "output_type": "stream",
     "text": [
      "0.8873754996493881\n"
     ]
    }
   ],
   "source": [
    "met_A_median = association_indep_df['metabolite_A'].median()\n",
    "print(met_A_median)"
   ]
  },
  {
   "cell_type": "code",
   "execution_count": 385,
   "metadata": {},
   "outputs": [],
   "source": [
    "association_indep_df['metabolite_A'].fillna(value = met_A_median, inplace=True)"
   ]
  },
  {
   "cell_type": "code",
   "execution_count": 386,
   "metadata": {},
   "outputs": [
    {
     "data": {
      "text/html": [
       "<div>\n",
       "<style scoped>\n",
       "    .dataframe tbody tr th:only-of-type {\n",
       "        vertical-align: middle;\n",
       "    }\n",
       "\n",
       "    .dataframe tbody tr th {\n",
       "        vertical-align: top;\n",
       "    }\n",
       "\n",
       "    .dataframe thead th {\n",
       "        text-align: right;\n",
       "    }\n",
       "</style>\n",
       "<table border=\"1\" class=\"dataframe\">\n",
       "  <thead>\n",
       "    <tr style=\"text-align: right;\">\n",
       "      <th></th>\n",
       "      <th>subject</th>\n",
       "      <th>sex</th>\n",
       "      <th>height</th>\n",
       "      <th>mass</th>\n",
       "      <th>smoker</th>\n",
       "      <th>ethnicity</th>\n",
       "      <th>metabolite_A</th>\n",
       "      <th>metabolite_B</th>\n",
       "      <th>metabolite_C</th>\n",
       "      <th>metabolite_D</th>\n",
       "      <th>metabolite_E</th>\n",
       "    </tr>\n",
       "  </thead>\n",
       "  <tbody>\n",
       "    <tr>\n",
       "      <th>9</th>\n",
       "      <td>ID23</td>\n",
       "      <td>1</td>\n",
       "      <td>177.870009</td>\n",
       "      <td>70.992259</td>\n",
       "      <td>0</td>\n",
       "      <td>Black/African/Caribbean</td>\n",
       "      <td>0.887375</td>\n",
       "      <td>1.274922</td>\n",
       "      <td>0.306667</td>\n",
       "      <td>4.953703</td>\n",
       "      <td>10.237791</td>\n",
       "    </tr>\n",
       "    <tr>\n",
       "      <th>34</th>\n",
       "      <td>ID87</td>\n",
       "      <td>1</td>\n",
       "      <td>178.793400</td>\n",
       "      <td>72.141244</td>\n",
       "      <td>0</td>\n",
       "      <td>Black/African/Caribbean</td>\n",
       "      <td>0.887375</td>\n",
       "      <td>1.868261</td>\n",
       "      <td>0.201052</td>\n",
       "      <td>4.219526</td>\n",
       "      <td>8.662771</td>\n",
       "    </tr>\n",
       "  </tbody>\n",
       "</table>\n",
       "</div>"
      ],
      "text/plain": [
       "   subject  sex      height       mass  smoker                ethnicity  \\\n",
       "9     ID23    1  177.870009  70.992259       0  Black/African/Caribbean   \n",
       "34    ID87    1  178.793400  72.141244       0  Black/African/Caribbean   \n",
       "\n",
       "    metabolite_A  metabolite_B  metabolite_C  metabolite_D  metabolite_E  \n",
       "9       0.887375      1.274922      0.306667      4.953703     10.237791  \n",
       "34      0.887375      1.868261      0.201052      4.219526      8.662771  "
      ]
     },
     "execution_count": 386,
     "metadata": {},
     "output_type": "execute_result"
    }
   ],
   "source": [
    "association_indep_df.isnull().sum()\n",
    "association_indep_df.iloc[[9,34]]"
   ]
  },
  {
   "cell_type": "code",
   "execution_count": 387,
   "metadata": {},
   "outputs": [
    {
     "name": "stderr",
     "output_type": "stream",
     "text": [
      "/home/patrick/anaconda3/lib/python3.7/site-packages/scipy/stats/stats.py:1713: FutureWarning: Using a non-tuple sequence for multidimensional indexing is deprecated; use `arr[tuple(seq)]` instead of `arr[seq]`. In the future this will be interpreted as an array index, `arr[np.array(seq)]`, which will result either in an error or a different result.\n",
      "  return np.add.reduce(sorted[indexer] * weights, axis=axis) / sumval\n"
     ]
    },
    {
     "data": {
      "image/png": "[encoded data removed]",
      "text/plain": [
       "<Figure size 1008x864 with 4 Axes>"
      ]
     },
     "metadata": {},
     "output_type": "display_data"
    }
   ],
   "source": [
    "# [Write your code in this cell]\n",
    "sns.set(style=\"darkgrid\")\n",
    "\n",
    "\n",
    "fig = plt.figure(figsize=(14,12))\n",
    "fig.add_subplot(2,2,1)\n",
    "# sns.countplot(x=\"class\", data=titanic)\n",
    "sns.countplot(association_indep_df['sex'])\n",
    "plt.title('Gender Counts', y=0.94, x=0.85)\n",
    "\n",
    "fig.add_subplot(2,2,2)\n",
    "sns.countplot(association_indep_df['ethnicity'])\n",
    "plt.title('Ethnicity Counts', y=0.94, x=0.85)\n",
    "\n",
    "fig.add_subplot(2,2,3)\n",
    "sns.distplot(association_indep_df['mass'])\n",
    "plt.title('Mass Distribution', y=0.94, x=0.86)\n",
    "\n",
    "fig.add_subplot(2,2,4)\n",
    "sns.distplot(association_indep_df['metabolite_A'])\n",
    "plt.title('Metabolite_A Distribution', y=0.94, x=0.77)\n",
    "\n",
    "plt.show()\n",
    "# ax = fig.add_subplot(2, 2,1)"
   ]
  },
  {
   "cell_type": "markdown",
   "metadata": {},
   "source": [
    "**[Do not edit the contents of this cell]**\n",
    "\n",
    "### Part 3\n",
    "\n",
    "Write a function that returns the Body Mass Index (BMI).Calculate BMI for each subject and add it as new variable in the data set."
   ]
  },
  {
   "cell_type": "code",
   "execution_count": 388,
   "metadata": {},
   "outputs": [
    {
     "data": {
      "text/html": [
       "<div>\n",
       "<style scoped>\n",
       "    .dataframe tbody tr th:only-of-type {\n",
       "        vertical-align: middle;\n",
       "    }\n",
       "\n",
       "    .dataframe tbody tr th {\n",
       "        vertical-align: top;\n",
       "    }\n",
       "\n",
       "    .dataframe thead th {\n",
       "        text-align: right;\n",
       "    }\n",
       "</style>\n",
       "<table border=\"1\" class=\"dataframe\">\n",
       "  <thead>\n",
       "    <tr style=\"text-align: right;\">\n",
       "      <th></th>\n",
       "      <th>subject</th>\n",
       "      <th>sex</th>\n",
       "      <th>height</th>\n",
       "      <th>mass</th>\n",
       "      <th>smoker</th>\n",
       "      <th>ethnicity</th>\n",
       "      <th>metabolite_A</th>\n",
       "      <th>metabolite_B</th>\n",
       "      <th>metabolite_C</th>\n",
       "      <th>metabolite_D</th>\n",
       "      <th>metabolite_E</th>\n",
       "      <th>BMI</th>\n",
       "    </tr>\n",
       "  </thead>\n",
       "  <tbody>\n",
       "    <tr>\n",
       "      <th>0</th>\n",
       "      <td>ID85</td>\n",
       "      <td>1</td>\n",
       "      <td>171.476882</td>\n",
       "      <td>71.070214</td>\n",
       "      <td>0</td>\n",
       "      <td>Asian</td>\n",
       "      <td>0.777283</td>\n",
       "      <td>1.544216</td>\n",
       "      <td>0.200118</td>\n",
       "      <td>4.963626</td>\n",
       "      <td>9.981923</td>\n",
       "      <td>24.169990</td>\n",
       "    </tr>\n",
       "    <tr>\n",
       "      <th>1</th>\n",
       "      <td>ID86</td>\n",
       "      <td>0</td>\n",
       "      <td>186.503967</td>\n",
       "      <td>80.276194</td>\n",
       "      <td>0</td>\n",
       "      <td>Black/African/Caribbean</td>\n",
       "      <td>0.984182</td>\n",
       "      <td>2.040572</td>\n",
       "      <td>0.293487</td>\n",
       "      <td>5.250400</td>\n",
       "      <td>10.745194</td>\n",
       "      <td>23.078662</td>\n",
       "    </tr>\n",
       "    <tr>\n",
       "      <th>2</th>\n",
       "      <td>ID48</td>\n",
       "      <td>1</td>\n",
       "      <td>177.289453</td>\n",
       "      <td>70.102716</td>\n",
       "      <td>1</td>\n",
       "      <td>Other</td>\n",
       "      <td>0.989442</td>\n",
       "      <td>1.983742</td>\n",
       "      <td>0.410665</td>\n",
       "      <td>4.302722</td>\n",
       "      <td>9.032480</td>\n",
       "      <td>22.303296</td>\n",
       "    </tr>\n",
       "    <tr>\n",
       "      <th>3</th>\n",
       "      <td>ID4</td>\n",
       "      <td>0</td>\n",
       "      <td>182.755756</td>\n",
       "      <td>76.286511</td>\n",
       "      <td>0</td>\n",
       "      <td>White</td>\n",
       "      <td>0.998088</td>\n",
       "      <td>1.940030</td>\n",
       "      <td>0.183667</td>\n",
       "      <td>4.243840</td>\n",
       "      <td>8.597430</td>\n",
       "      <td>22.840501</td>\n",
       "    </tr>\n",
       "    <tr>\n",
       "      <th>4</th>\n",
       "      <td>ID63</td>\n",
       "      <td>1</td>\n",
       "      <td>178.761595</td>\n",
       "      <td>70.987086</td>\n",
       "      <td>0</td>\n",
       "      <td>Asian</td>\n",
       "      <td>0.893859</td>\n",
       "      <td>1.794609</td>\n",
       "      <td>0.554105</td>\n",
       "      <td>4.006878</td>\n",
       "      <td>8.530953</td>\n",
       "      <td>22.214212</td>\n",
       "    </tr>\n",
       "  </tbody>\n",
       "</table>\n",
       "</div>"
      ],
      "text/plain": [
       "  subject  sex      height       mass  smoker                ethnicity  \\\n",
       "0    ID85    1  171.476882  71.070214       0                    Asian   \n",
       "1    ID86    0  186.503967  80.276194       0  Black/African/Caribbean   \n",
       "2    ID48    1  177.289453  70.102716       1                    Other   \n",
       "3     ID4    0  182.755756  76.286511       0                    White   \n",
       "4    ID63    1  178.761595  70.987086       0                    Asian   \n",
       "\n",
       "   metabolite_A  metabolite_B  metabolite_C  metabolite_D  metabolite_E  \\\n",
       "0      0.777283      1.544216      0.200118      4.963626      9.981923   \n",
       "1      0.984182      2.040572      0.293487      5.250400     10.745194   \n",
       "2      0.989442      1.983742      0.410665      4.302722      9.032480   \n",
       "3      0.998088      1.940030      0.183667      4.243840      8.597430   \n",
       "4      0.893859      1.794609      0.554105      4.006878      8.530953   \n",
       "\n",
       "         BMI  \n",
       "0  24.169990  \n",
       "1  23.078662  \n",
       "2  22.303296  \n",
       "3  22.840501  \n",
       "4  22.214212  "
      ]
     },
     "execution_count": 388,
     "metadata": {},
     "output_type": "execute_result"
    }
   ],
   "source": [
    "# [Write your code in this cell]\n",
    "\n",
    "association_indep_df['BMI'] = association_indep_df['mass']/(association_df['height']/100)**2\n",
    "\n",
    "association_indep_df.head(5)\n",
    "\n"
   ]
  },
  {
   "cell_type": "markdown",
   "metadata": {},
   "source": [
    "**[Do not edit the contents of this cell]**\n",
    "\n",
    "### Part 4\n",
    "\n",
    "Calculate the correlation matrix between numerical predictors. Use this information to impute any missing values, if possible."
   ]
  },
  {
   "cell_type": "code",
   "execution_count": 389,
   "metadata": {
    "scrolled": true
   },
   "outputs": [],
   "source": [
    "# [Write your code in this cell]\n",
    "# df.drop(['B', 'C'], axis=1)\n",
    "    \n",
    "    \n",
    "association_num_df = association_indep_df.drop(['sex', 'smoker', 'ethnicity'], axis=1)\n",
    "# association_num_df"
   ]
  },
  {
   "cell_type": "code",
   "execution_count": 390,
   "metadata": {},
   "outputs": [
    {
     "data": {
      "text/html": [
       "<div>\n",
       "<style scoped>\n",
       "    .dataframe tbody tr th:only-of-type {\n",
       "        vertical-align: middle;\n",
       "    }\n",
       "\n",
       "    .dataframe tbody tr th {\n",
       "        vertical-align: top;\n",
       "    }\n",
       "\n",
       "    .dataframe thead th {\n",
       "        text-align: right;\n",
       "    }\n",
       "</style>\n",
       "<table border=\"1\" class=\"dataframe\">\n",
       "  <thead>\n",
       "    <tr style=\"text-align: right;\">\n",
       "      <th></th>\n",
       "      <th>height</th>\n",
       "      <th>mass</th>\n",
       "      <th>metabolite_A</th>\n",
       "      <th>metabolite_B</th>\n",
       "      <th>metabolite_C</th>\n",
       "      <th>metabolite_D</th>\n",
       "      <th>metabolite_E</th>\n",
       "      <th>BMI</th>\n",
       "    </tr>\n",
       "  </thead>\n",
       "  <tbody>\n",
       "    <tr>\n",
       "      <th>height</th>\n",
       "      <td>1.000000</td>\n",
       "      <td>-0.026897</td>\n",
       "      <td>0.000612</td>\n",
       "      <td>0.009252</td>\n",
       "      <td>0.168963</td>\n",
       "      <td>-0.031566</td>\n",
       "      <td>-0.007976</td>\n",
       "      <td>-0.633986</td>\n",
       "    </tr>\n",
       "    <tr>\n",
       "      <th>mass</th>\n",
       "      <td>-0.026897</td>\n",
       "      <td>1.000000</td>\n",
       "      <td>-0.077541</td>\n",
       "      <td>-0.046275</td>\n",
       "      <td>-0.052984</td>\n",
       "      <td>0.086385</td>\n",
       "      <td>0.069013</td>\n",
       "      <td>0.787598</td>\n",
       "    </tr>\n",
       "    <tr>\n",
       "      <th>metabolite_A</th>\n",
       "      <td>0.000612</td>\n",
       "      <td>-0.077541</td>\n",
       "      <td>1.000000</td>\n",
       "      <td>0.967051</td>\n",
       "      <td>-0.071814</td>\n",
       "      <td>-0.181476</td>\n",
       "      <td>-0.190391</td>\n",
       "      <td>-0.054424</td>\n",
       "    </tr>\n",
       "    <tr>\n",
       "      <th>metabolite_B</th>\n",
       "      <td>0.009252</td>\n",
       "      <td>-0.046275</td>\n",
       "      <td>0.967051</td>\n",
       "      <td>1.000000</td>\n",
       "      <td>-0.064729</td>\n",
       "      <td>-0.176815</td>\n",
       "      <td>-0.186316</td>\n",
       "      <td>-0.034397</td>\n",
       "    </tr>\n",
       "    <tr>\n",
       "      <th>metabolite_C</th>\n",
       "      <td>0.168963</td>\n",
       "      <td>-0.052984</td>\n",
       "      <td>-0.071814</td>\n",
       "      <td>-0.064729</td>\n",
       "      <td>1.000000</td>\n",
       "      <td>0.110601</td>\n",
       "      <td>0.192683</td>\n",
       "      <td>-0.147379</td>\n",
       "    </tr>\n",
       "    <tr>\n",
       "      <th>metabolite_D</th>\n",
       "      <td>-0.031566</td>\n",
       "      <td>0.086385</td>\n",
       "      <td>-0.181476</td>\n",
       "      <td>-0.176815</td>\n",
       "      <td>0.110601</td>\n",
       "      <td>1.000000</td>\n",
       "      <td>0.994927</td>\n",
       "      <td>0.089411</td>\n",
       "    </tr>\n",
       "    <tr>\n",
       "      <th>metabolite_E</th>\n",
       "      <td>-0.007976</td>\n",
       "      <td>0.069013</td>\n",
       "      <td>-0.190391</td>\n",
       "      <td>-0.186316</td>\n",
       "      <td>0.192683</td>\n",
       "      <td>0.994927</td>\n",
       "      <td>1.000000</td>\n",
       "      <td>0.060654</td>\n",
       "    </tr>\n",
       "    <tr>\n",
       "      <th>BMI</th>\n",
       "      <td>-0.633986</td>\n",
       "      <td>0.787598</td>\n",
       "      <td>-0.054424</td>\n",
       "      <td>-0.034397</td>\n",
       "      <td>-0.147379</td>\n",
       "      <td>0.089411</td>\n",
       "      <td>0.060654</td>\n",
       "      <td>1.000000</td>\n",
       "    </tr>\n",
       "  </tbody>\n",
       "</table>\n",
       "</div>"
      ],
      "text/plain": [
       "                height      mass  metabolite_A  metabolite_B  metabolite_C  \\\n",
       "height        1.000000 -0.026897      0.000612      0.009252      0.168963   \n",
       "mass         -0.026897  1.000000     -0.077541     -0.046275     -0.052984   \n",
       "metabolite_A  0.000612 -0.077541      1.000000      0.967051     -0.071814   \n",
       "metabolite_B  0.009252 -0.046275      0.967051      1.000000     -0.064729   \n",
       "metabolite_C  0.168963 -0.052984     -0.071814     -0.064729      1.000000   \n",
       "metabolite_D -0.031566  0.086385     -0.181476     -0.176815      0.110601   \n",
       "metabolite_E -0.007976  0.069013     -0.190391     -0.186316      0.192683   \n",
       "BMI          -0.633986  0.787598     -0.054424     -0.034397     -0.147379   \n",
       "\n",
       "              metabolite_D  metabolite_E       BMI  \n",
       "height           -0.031566     -0.007976 -0.633986  \n",
       "mass              0.086385      0.069013  0.787598  \n",
       "metabolite_A     -0.181476     -0.190391 -0.054424  \n",
       "metabolite_B     -0.176815     -0.186316 -0.034397  \n",
       "metabolite_C      0.110601      0.192683 -0.147379  \n",
       "metabolite_D      1.000000      0.994927  0.089411  \n",
       "metabolite_E      0.994927      1.000000  0.060654  \n",
       "BMI               0.089411      0.060654  1.000000  "
      ]
     },
     "execution_count": 390,
     "metadata": {},
     "output_type": "execute_result"
    },
    {
     "data": {
      "image/png": "[encoded data removed]",
      "text/plain": [
       "<Figure size 432x288 with 2 Axes>"
      ]
     },
     "metadata": {},
     "output_type": "display_data"
    }
   ],
   "source": [
    "corr = association_num_df.corr()\n",
    "sns.heatmap(corr)\n",
    "corr\n",
    "# from pandas.tools.plotting import scatter_matrix\n",
    "# scatter_matrix(association_num_df, figsize=(15, 10))"
   ]
  },
  {
   "cell_type": "code",
   "execution_count": 361,
   "metadata": {},
   "outputs": [],
   "source": [
    "# import statsmodels.api as sm\n",
    "\n",
    "# X = association_full_df['metabolite_B']\n",
    "# X = sm.add_constant(X) ## let's add an intercept (beta_0) to our model\n",
    "# y = association_full_df['metabolite_A']\n",
    "\n",
    "# # Note the difference in argument order\n",
    "# model = sm.OLS(y, X).fit()\n",
    "\n",
    "# predictions = model.predict(X) # make the predictions by the model\n",
    "\n",
    "# # Print out the statistics\n",
    "# model.summary()\n",
    "\n",
    "# intercept = 0.0332\n",
    "# coeff = 0.4795\n",
    "\n",
    "\n",
    "# association_df['metabolite_B'][9] * coeff + intercept\n",
    "\n",
    "# association_df['metabolite_B'][34] * coeff + intercept\n",
    "\n",
    "# model.predict(10)\n",
    "\n"
   ]
  },
  {
   "cell_type": "code",
   "execution_count": 391,
   "metadata": {
    "scrolled": true
   },
   "outputs": [],
   "source": [
    "# association_df = pd.read_csv('association.csv')\n",
    "from sklearn.linear_model import LinearRegression\n",
    "\n",
    "X = association_full_df['metabolite_B']\n",
    "# X = sm.add_constant(X) ## let's add an intercept (beta_0) to our model\n",
    "Y = association_full_df['metabolite_A']\n",
    "\n",
    "\n",
    "lin_reg = LinearRegression()\n",
    "\n",
    "X = association_full_df['metabolite_B'].values\n",
    "X = X.reshape(104,1)\n",
    "Y = association_full_df['metabolite_A'].values\n",
    "Y = Y.reshape(104,1)\n",
    "\n",
    "model = lin_reg.fit(X,Y)\n",
    "# X.shape"
   ]
  },
  {
   "cell_type": "code",
   "execution_count": 392,
   "metadata": {},
   "outputs": [],
   "source": [
    "# trial loc methods\n",
    "# association_df.xs(9)['metabolite_A'] = lin_reg.predict(association_df['metabolite_B'][9])[0][0]\n",
    "# association_df.xs(34)['metabolite_A'] = lin_reg.predict(association_df['metabolite_B'][34])[0][0]"
   ]
  },
  {
   "cell_type": "code",
   "execution_count": 403,
   "metadata": {},
   "outputs": [
    {
     "data": {
      "text/html": [
       "<div>\n",
       "<style scoped>\n",
       "    .dataframe tbody tr th:only-of-type {\n",
       "        vertical-align: middle;\n",
       "    }\n",
       "\n",
       "    .dataframe tbody tr th {\n",
       "        vertical-align: top;\n",
       "    }\n",
       "\n",
       "    .dataframe thead th {\n",
       "        text-align: right;\n",
       "    }\n",
       "</style>\n",
       "<table border=\"1\" class=\"dataframe\">\n",
       "  <thead>\n",
       "    <tr style=\"text-align: right;\">\n",
       "      <th></th>\n",
       "      <th>sex</th>\n",
       "      <th>height</th>\n",
       "      <th>mass</th>\n",
       "      <th>smoker</th>\n",
       "      <th>ethnicity</th>\n",
       "      <th>metabolite_A</th>\n",
       "      <th>metabolite_B</th>\n",
       "      <th>metabolite_C</th>\n",
       "      <th>metabolite_D</th>\n",
       "      <th>metabolite_E</th>\n",
       "      <th>BMI</th>\n",
       "    </tr>\n",
       "    <tr>\n",
       "      <th>subject</th>\n",
       "      <th></th>\n",
       "      <th></th>\n",
       "      <th></th>\n",
       "      <th></th>\n",
       "      <th></th>\n",
       "      <th></th>\n",
       "      <th></th>\n",
       "      <th></th>\n",
       "      <th></th>\n",
       "      <th></th>\n",
       "      <th></th>\n",
       "    </tr>\n",
       "  </thead>\n",
       "  <tbody>\n",
       "    <tr>\n",
       "      <th>ID23</th>\n",
       "      <td>1</td>\n",
       "      <td>177.870009</td>\n",
       "      <td>70.992259</td>\n",
       "      <td>0</td>\n",
       "      <td>Black/African/Caribbean</td>\n",
       "      <td>0.887375</td>\n",
       "      <td>1.274922</td>\n",
       "      <td>0.306667</td>\n",
       "      <td>4.953703</td>\n",
       "      <td>10.237791</td>\n",
       "      <td>22.439106</td>\n",
       "    </tr>\n",
       "    <tr>\n",
       "      <th>ID87</th>\n",
       "      <td>1</td>\n",
       "      <td>178.793400</td>\n",
       "      <td>72.141244</td>\n",
       "      <td>0</td>\n",
       "      <td>Black/African/Caribbean</td>\n",
       "      <td>0.887375</td>\n",
       "      <td>1.868261</td>\n",
       "      <td>0.201052</td>\n",
       "      <td>4.219526</td>\n",
       "      <td>8.662771</td>\n",
       "      <td>22.567355</td>\n",
       "    </tr>\n",
       "  </tbody>\n",
       "</table>\n",
       "</div>"
      ],
      "text/plain": [
       "         sex      height       mass  smoker                ethnicity  \\\n",
       "subject                                                                \n",
       "ID23       1  177.870009  70.992259       0  Black/African/Caribbean   \n",
       "ID87       1  178.793400  72.141244       0  Black/African/Caribbean   \n",
       "\n",
       "         metabolite_A  metabolite_B  metabolite_C  metabolite_D  metabolite_E  \\\n",
       "subject                                                                         \n",
       "ID23         0.887375      1.274922      0.306667      4.953703     10.237791   \n",
       "ID87         0.887375      1.868261      0.201052      4.219526      8.662771   \n",
       "\n",
       "               BMI  \n",
       "subject             \n",
       "ID23     22.439106  \n",
       "ID87     22.567355  "
      ]
     },
     "execution_count": 403,
     "metadata": {},
     "output_type": "execute_result"
    }
   ],
   "source": [
    "# association_indep_df.set_index('subject', inplace=True)\n",
    "association_indep_df.loc[['ID23', 'ID87']]\n",
    "# association_df.loc['metabolite_A']"
   ]
  },
  {
   "cell_type": "code",
   "execution_count": 404,
   "metadata": {},
   "outputs": [
    {
     "data": {
      "text/plain": [
       "1.274922203025"
      ]
     },
     "execution_count": 404,
     "metadata": {},
     "output_type": "execute_result"
    }
   ],
   "source": [
    "association_indep_df['metabolite_B'][9]"
   ]
  },
  {
   "cell_type": "code",
   "execution_count": 406,
   "metadata": {},
   "outputs": [
    {
     "data": {
      "text/plain": [
       "1.274922203025"
      ]
     },
     "execution_count": 406,
     "metadata": {},
     "output_type": "execute_result"
    }
   ],
   "source": [
    "association_indep_df['metabolite_B'].loc['ID23']"
   ]
  },
  {
   "cell_type": "code",
   "execution_count": 407,
   "metadata": {},
   "outputs": [
    {
     "data": {
      "text/plain": [
       "0.6444996255426237"
      ]
     },
     "execution_count": 407,
     "metadata": {},
     "output_type": "execute_result"
    }
   ],
   "source": [
    "lin_reg.predict(association_df['metabolite_B'][9])[0][0]"
   ]
  },
  {
   "cell_type": "code",
   "execution_count": 408,
   "metadata": {},
   "outputs": [
    {
     "name": "stderr",
     "output_type": "stream",
     "text": [
      "/home/patrick/anaconda3/lib/python3.7/site-packages/pandas/core/indexing.py:189: SettingWithCopyWarning: \n",
      "A value is trying to be set on a copy of a slice from a DataFrame\n",
      "\n",
      "See the caveats in the documentation: http://pandas.pydata.org/pandas-docs/stable/indexing.html#indexing-view-versus-copy\n",
      "  self._setitem_with_indexer(indexer, value)\n"
     ]
    }
   ],
   "source": [
    "association_df['metabolite_A'].loc[['ID23']] = lin_reg.predict(association_df['metabolite_B'].loc['ID23'])[0][0]\n",
    "association_df['metabolite_A'].loc[['ID87']] = lin_reg.predict(association_df['metabolite_B'].loc['ID87'])[0][0]\n",
    "# association_df.loc[['ID87']] = lin_reg.predict(association_df['metabolite_B'][34])[0][0]"
   ]
  },
  {
   "cell_type": "code",
   "execution_count": null,
   "metadata": {},
   "outputs": [],
   "source": []
  },
  {
   "cell_type": "code",
   "execution_count": 409,
   "metadata": {},
   "outputs": [
    {
     "data": {
      "text/html": [
       "<div>\n",
       "<style scoped>\n",
       "    .dataframe tbody tr th:only-of-type {\n",
       "        vertical-align: middle;\n",
       "    }\n",
       "\n",
       "    .dataframe tbody tr th {\n",
       "        vertical-align: top;\n",
       "    }\n",
       "\n",
       "    .dataframe thead th {\n",
       "        text-align: right;\n",
       "    }\n",
       "</style>\n",
       "<table border=\"1\" class=\"dataframe\">\n",
       "  <thead>\n",
       "    <tr style=\"text-align: right;\">\n",
       "      <th></th>\n",
       "      <th>sex</th>\n",
       "      <th>height</th>\n",
       "      <th>mass</th>\n",
       "      <th>smoker</th>\n",
       "      <th>ethnicity</th>\n",
       "      <th>metabolite_A</th>\n",
       "      <th>metabolite_B</th>\n",
       "      <th>metabolite_C</th>\n",
       "      <th>metabolite_D</th>\n",
       "      <th>metabolite_E</th>\n",
       "      <th>disease_score</th>\n",
       "    </tr>\n",
       "    <tr>\n",
       "      <th>subject</th>\n",
       "      <th></th>\n",
       "      <th></th>\n",
       "      <th></th>\n",
       "      <th></th>\n",
       "      <th></th>\n",
       "      <th></th>\n",
       "      <th></th>\n",
       "      <th></th>\n",
       "      <th></th>\n",
       "      <th></th>\n",
       "      <th></th>\n",
       "    </tr>\n",
       "  </thead>\n",
       "  <tbody>\n",
       "    <tr>\n",
       "      <th>ID23</th>\n",
       "      <td>1</td>\n",
       "      <td>177.870009</td>\n",
       "      <td>70.992259</td>\n",
       "      <td>0</td>\n",
       "      <td>Black/African/Caribbean</td>\n",
       "      <td>0.644500</td>\n",
       "      <td>1.274922</td>\n",
       "      <td>0.306667</td>\n",
       "      <td>4.953703</td>\n",
       "      <td>10.237791</td>\n",
       "      <td>3.480822</td>\n",
       "    </tr>\n",
       "    <tr>\n",
       "      <th>ID87</th>\n",
       "      <td>1</td>\n",
       "      <td>178.793400</td>\n",
       "      <td>72.141244</td>\n",
       "      <td>0</td>\n",
       "      <td>Black/African/Caribbean</td>\n",
       "      <td>0.928997</td>\n",
       "      <td>1.868261</td>\n",
       "      <td>0.201052</td>\n",
       "      <td>4.219526</td>\n",
       "      <td>8.662771</td>\n",
       "      <td>-6.821057</td>\n",
       "    </tr>\n",
       "  </tbody>\n",
       "</table>\n",
       "</div>"
      ],
      "text/plain": [
       "         sex      height       mass  smoker                ethnicity  \\\n",
       "subject                                                                \n",
       "ID23       1  177.870009  70.992259       0  Black/African/Caribbean   \n",
       "ID87       1  178.793400  72.141244       0  Black/African/Caribbean   \n",
       "\n",
       "         metabolite_A  metabolite_B  metabolite_C  metabolite_D  metabolite_E  \\\n",
       "subject                                                                         \n",
       "ID23         0.644500      1.274922      0.306667      4.953703     10.237791   \n",
       "ID87         0.928997      1.868261      0.201052      4.219526      8.662771   \n",
       "\n",
       "         disease_score  \n",
       "subject                 \n",
       "ID23          3.480822  \n",
       "ID87         -6.821057  "
      ]
     },
     "execution_count": 409,
     "metadata": {},
     "output_type": "execute_result"
    }
   ],
   "source": [
    "association_df.loc[['ID23', 'ID87']]\n",
    "\n",
    "# association_df.isnull().sum()"
   ]
  },
  {
   "cell_type": "code",
   "execution_count": null,
   "metadata": {},
   "outputs": [],
   "source": []
  },
  {
   "cell_type": "markdown",
   "metadata": {},
   "source": [
    "**[Do not edit the contents of this cell]**\n",
    "\n",
    "### Part 5\n",
    "\n",
    "Assuming that a disease status is recorded when the disease score is greater than 5, add a new response variable in the dataset defining the diseases status of each subject."
   ]
  },
  {
   "cell_type": "code",
   "execution_count": 410,
   "metadata": {},
   "outputs": [
    {
     "data": {
      "text/plain": [
       "14"
      ]
     },
     "execution_count": 410,
     "metadata": {},
     "output_type": "execute_result"
    }
   ],
   "source": [
    "# [Write your code in this cell]\n",
    "association_indep_df['disease_status'] = np.where(association_df['disease_score'] > 5, 1, 0)\n",
    "\n",
    "# 14 diseased people\n",
    "association_indep_df['disease_status'].sum()"
   ]
  },
  {
   "cell_type": "code",
   "execution_count": null,
   "metadata": {},
   "outputs": [],
   "source": []
  },
  {
   "cell_type": "code",
   "execution_count": null,
   "metadata": {},
   "outputs": [],
   "source": []
  },
  {
   "cell_type": "markdown",
   "metadata": {},
   "source": [
    "**[Do not edit the contents of this cell]**\n",
    "\n",
    "## Problem 2: hypothesis testing\n",
    "\n",
    "Starting from the same dataset in Problem 1, provide answers for the following questions.\n",
    "\n",
    "### Part 1\n",
    "\n",
    "Given this sample space of subjects, what is the probability that a given subject is diagnosed as diseased? What is the probability that a subject is diagnosed as diseased given that he/she is not a smoker?"
   ]
  },
  {
   "cell_type": "code",
   "execution_count": 373,
   "metadata": {},
   "outputs": [
    {
     "ename": "KeyError",
     "evalue": "'disease_status'",
     "output_type": "error",
     "traceback": [
      "\u001b[0;31m---------------------------------------------------------------------------\u001b[0m",
      "\u001b[0;31mKeyError\u001b[0m                                  Traceback (most recent call last)",
      "\u001b[0;32m<ipython-input-373-ef5130a3b827>\u001b[0m in \u001b[0;36m<module>\u001b[0;34m()\u001b[0m\n\u001b[1;32m      3\u001b[0m \u001b[0;31m# rating_probs = df.groupby('rating').size().div(len(df))\u001b[0m\u001b[0;34m\u001b[0m\u001b[0;34m\u001b[0m\u001b[0m\n\u001b[1;32m      4\u001b[0m \u001b[0;34m\u001b[0m\u001b[0m\n\u001b[0;32m----> 5\u001b[0;31m \u001b[0mdisease_prob\u001b[0m \u001b[0;34m=\u001b[0m \u001b[0massociation_df\u001b[0m\u001b[0;34m.\u001b[0m\u001b[0mgroupby\u001b[0m\u001b[0;34m(\u001b[0m\u001b[0;34m'disease_status'\u001b[0m\u001b[0;34m)\u001b[0m\u001b[0;34m\u001b[0m\u001b[0m\n\u001b[0m",
      "\u001b[0;32m~/anaconda3/lib/python3.7/site-packages/pandas/core/generic.py\u001b[0m in \u001b[0;36mgroupby\u001b[0;34m(self, by, axis, level, as_index, sort, group_keys, squeeze, observed, **kwargs)\u001b[0m\n\u001b[1;32m   6663\u001b[0m         return groupby(self, by=by, axis=axis, level=level, as_index=as_index,\n\u001b[1;32m   6664\u001b[0m                        \u001b[0msort\u001b[0m\u001b[0;34m=\u001b[0m\u001b[0msort\u001b[0m\u001b[0;34m,\u001b[0m \u001b[0mgroup_keys\u001b[0m\u001b[0;34m=\u001b[0m\u001b[0mgroup_keys\u001b[0m\u001b[0;34m,\u001b[0m \u001b[0msqueeze\u001b[0m\u001b[0;34m=\u001b[0m\u001b[0msqueeze\u001b[0m\u001b[0;34m,\u001b[0m\u001b[0;34m\u001b[0m\u001b[0m\n\u001b[0;32m-> 6665\u001b[0;31m                        observed=observed, **kwargs)\n\u001b[0m\u001b[1;32m   6666\u001b[0m \u001b[0;34m\u001b[0m\u001b[0m\n\u001b[1;32m   6667\u001b[0m     def asfreq(self, freq, method=None, how=None, normalize=False,\n",
      "\u001b[0;32m~/anaconda3/lib/python3.7/site-packages/pandas/core/groupby/groupby.py\u001b[0m in \u001b[0;36mgroupby\u001b[0;34m(obj, by, **kwds)\u001b[0m\n\u001b[1;32m   2150\u001b[0m         \u001b[0;32mraise\u001b[0m \u001b[0mTypeError\u001b[0m\u001b[0;34m(\u001b[0m\u001b[0;34m'invalid type: %s'\u001b[0m \u001b[0;34m%\u001b[0m \u001b[0mtype\u001b[0m\u001b[0;34m(\u001b[0m\u001b[0mobj\u001b[0m\u001b[0;34m)\u001b[0m\u001b[0;34m)\u001b[0m\u001b[0;34m\u001b[0m\u001b[0m\n\u001b[1;32m   2151\u001b[0m \u001b[0;34m\u001b[0m\u001b[0m\n\u001b[0;32m-> 2152\u001b[0;31m     \u001b[0;32mreturn\u001b[0m \u001b[0mklass\u001b[0m\u001b[0;34m(\u001b[0m\u001b[0mobj\u001b[0m\u001b[0;34m,\u001b[0m \u001b[0mby\u001b[0m\u001b[0;34m,\u001b[0m \u001b[0;34m**\u001b[0m\u001b[0mkwds\u001b[0m\u001b[0;34m)\u001b[0m\u001b[0;34m\u001b[0m\u001b[0m\n\u001b[0m\u001b[1;32m   2153\u001b[0m \u001b[0;34m\u001b[0m\u001b[0m\n\u001b[1;32m   2154\u001b[0m \u001b[0;34m\u001b[0m\u001b[0m\n",
      "\u001b[0;32m~/anaconda3/lib/python3.7/site-packages/pandas/core/groupby/groupby.py\u001b[0m in \u001b[0;36m__init__\u001b[0;34m(self, obj, keys, axis, level, grouper, exclusions, selection, as_index, sort, group_keys, squeeze, observed, **kwargs)\u001b[0m\n\u001b[1;32m    597\u001b[0m                                                     \u001b[0msort\u001b[0m\u001b[0;34m=\u001b[0m\u001b[0msort\u001b[0m\u001b[0;34m,\u001b[0m\u001b[0;34m\u001b[0m\u001b[0m\n\u001b[1;32m    598\u001b[0m                                                     \u001b[0mobserved\u001b[0m\u001b[0;34m=\u001b[0m\u001b[0mobserved\u001b[0m\u001b[0;34m,\u001b[0m\u001b[0;34m\u001b[0m\u001b[0m\n\u001b[0;32m--> 599\u001b[0;31m                                                     mutated=self.mutated)\n\u001b[0m\u001b[1;32m    600\u001b[0m \u001b[0;34m\u001b[0m\u001b[0m\n\u001b[1;32m    601\u001b[0m         \u001b[0mself\u001b[0m\u001b[0;34m.\u001b[0m\u001b[0mobj\u001b[0m \u001b[0;34m=\u001b[0m \u001b[0mobj\u001b[0m\u001b[0;34m\u001b[0m\u001b[0m\n",
      "\u001b[0;32m~/anaconda3/lib/python3.7/site-packages/pandas/core/groupby/groupby.py\u001b[0m in \u001b[0;36m_get_grouper\u001b[0;34m(obj, key, axis, level, sort, observed, mutated, validate)\u001b[0m\n\u001b[1;32m   3289\u001b[0m                 \u001b[0min_axis\u001b[0m\u001b[0;34m,\u001b[0m \u001b[0mname\u001b[0m\u001b[0;34m,\u001b[0m \u001b[0mlevel\u001b[0m\u001b[0;34m,\u001b[0m \u001b[0mgpr\u001b[0m \u001b[0;34m=\u001b[0m \u001b[0;32mFalse\u001b[0m\u001b[0;34m,\u001b[0m \u001b[0;32mNone\u001b[0m\u001b[0;34m,\u001b[0m \u001b[0mgpr\u001b[0m\u001b[0;34m,\u001b[0m \u001b[0;32mNone\u001b[0m\u001b[0;34m\u001b[0m\u001b[0m\n\u001b[1;32m   3290\u001b[0m             \u001b[0;32melse\u001b[0m\u001b[0;34m:\u001b[0m\u001b[0;34m\u001b[0m\u001b[0m\n\u001b[0;32m-> 3291\u001b[0;31m                 \u001b[0;32mraise\u001b[0m \u001b[0mKeyError\u001b[0m\u001b[0;34m(\u001b[0m\u001b[0mgpr\u001b[0m\u001b[0;34m)\u001b[0m\u001b[0;34m\u001b[0m\u001b[0m\n\u001b[0m\u001b[1;32m   3292\u001b[0m         \u001b[0;32melif\u001b[0m \u001b[0misinstance\u001b[0m\u001b[0;34m(\u001b[0m\u001b[0mgpr\u001b[0m\u001b[0;34m,\u001b[0m \u001b[0mGrouper\u001b[0m\u001b[0;34m)\u001b[0m \u001b[0;32mand\u001b[0m \u001b[0mgpr\u001b[0m\u001b[0;34m.\u001b[0m\u001b[0mkey\u001b[0m \u001b[0;32mis\u001b[0m \u001b[0;32mnot\u001b[0m \u001b[0;32mNone\u001b[0m\u001b[0;34m:\u001b[0m\u001b[0;34m\u001b[0m\u001b[0m\n\u001b[1;32m   3293\u001b[0m             \u001b[0;31m# Add key to exclusions\u001b[0m\u001b[0;34m\u001b[0m\u001b[0;34m\u001b[0m\u001b[0m\n",
      "\u001b[0;31mKeyError\u001b[0m: 'disease_status'"
     ]
    }
   ],
   "source": [
    "# [Write your code in this cell]\n",
    "\n",
    "# rating_probs = df.groupby('rating').size().div(len(df))\n",
    "\n",
    "disease_prob = association_df.groupby('disease_status')\n"
   ]
  },
  {
   "cell_type": "markdown",
   "metadata": {},
   "source": [
    "**[Provide your answer here]**\n",
    "- The probability that a subject is diseased is: xxx\n",
    "- The probability that a subject is diseased given that she/he is not a smoker is: xxx"
   ]
  },
  {
   "cell_type": "markdown",
   "metadata": {},
   "source": [
    "**[Do not edit the contents of this cell]**\n",
    "\n",
    "### Part 2\n",
    "\n",
    "Assuming that they are Normally distributed, estimate mean and variance for the distributions of height and mass separately for males and females. Use **either** a frequentist **or** likelihoodist **or** Bayesian approach."
   ]
  },
  {
   "cell_type": "code",
   "execution_count": null,
   "metadata": {},
   "outputs": [],
   "source": [
    "# [Write your code in this cell]\n"
   ]
  },
  {
   "cell_type": "markdown",
   "metadata": {},
   "source": [
    "**[Do not edit the contents of this cell]**\n",
    "\n",
    "### Part 3\n",
    "\n",
    "Test whether height is different between males and females. Perform the same test on the mass variable. Define (in words) which ones are your null and alternative hypotheses and significance threshold. Finally, discuss (in words) any conclusion you can make out the results of your statistical tests."
   ]
  },
  {
   "cell_type": "code",
   "execution_count": 1,
   "metadata": {},
   "outputs": [],
   "source": [
    "# [Write your code in this cell]\n"
   ]
  },
  {
   "cell_type": "markdown",
   "metadata": {},
   "source": [
    "**[Provide your answer here]**\n"
   ]
  },
  {
   "cell_type": "markdown",
   "metadata": {},
   "source": [
    "**[Do not edit the contents of this cell]**\n",
    "\n",
    "### Part 4\n",
    "\n",
    "Repeat the statistical test in Part 3 for all numerical predictor variables in the dataset. How many tests are significant with $\\alpha=0.05$?\n",
    "Calculate corrected p-values for multiple tests using a Bonferroni correction. How many tests are significant now? "
   ]
  },
  {
   "cell_type": "code",
   "execution_count": null,
   "metadata": {},
   "outputs": [],
   "source": [
    "# [Write your code in this cell]\n"
   ]
  },
  {
   "cell_type": "markdown",
   "metadata": {},
   "source": [
    "**[Do not edit the contents of this cell]**\n",
    "\n",
    "## Problem 3: regression\n",
    "\n",
    "Assume you have been provided a new variable indicating a generic glucose index level. We know that such glucose index is related to the variable `metabolite_D` given in the previous dataset.\n",
    "\n",
    "### Part 1\n",
    "\n",
    "Load the new dataset called `glucose.csv` which gives the measure of a generic glucose level (`glucose_index`) for each tested subject. Perform a regression where `metabolite_D` is the predictor and `glucose_index` is the response variable."
   ]
  },
  {
   "cell_type": "code",
   "execution_count": null,
   "metadata": {},
   "outputs": [],
   "source": [
    "# [Write your code in this cell]\n"
   ]
  },
  {
   "cell_type": "markdown",
   "metadata": {},
   "source": [
    "**[Do not edit the contents of this cell]**\n",
    "\n",
    "## Problem 4: classification\n",
    "\n",
    "### Part 1\n",
    "\n",
    "Implement an algorithm to predict the disease status of a subject given all response variables provided in the dataset. You are free to choose the appropriate statistical tool you prefer. Assess the quality of your classifier."
   ]
  },
  {
   "cell_type": "code",
   "execution_count": null,
   "metadata": {},
   "outputs": [],
   "source": [
    "# [Write your code in this cell]\n"
   ]
  },
  {
   "cell_type": "markdown",
   "metadata": {},
   "source": [
    "**[Do not edit the contents of this cell]**\n",
    "\n",
    "### Part 2\n",
    "\n",
    "Given the classifier you devised in Part 1, predict the disease status of the following subject:\n",
    "- subject: ID986\n",
    "- sex: 1\n",
    "- height: 180.2\n",
    "- mass: 70.1\n",
    "- smoker: 1\n",
    "- ethnicity: \"White\"\n",
    "- metabolite_A: 0.5\n",
    "- metabolite_B: 1.2\n",
    "- metabolite_C: 0.5\n",
    "- metabolite_D: 8.5\n",
    "- metabolite_E: 10.2"
   ]
  },
  {
   "cell_type": "code",
   "execution_count": 4,
   "metadata": {},
   "outputs": [],
   "source": [
    "# [Write your code in this cell]\n"
   ]
  },
  {
   "cell_type": "code",
   "execution_count": null,
   "metadata": {},
   "outputs": [],
   "source": []
  },
  {
   "cell_type": "code",
   "execution_count": null,
   "metadata": {},
   "outputs": [],
   "source": []
  },
  {
   "cell_type": "code",
   "execution_count": null,
   "metadata": {},
   "outputs": [],
   "source": [
    "# split\n",
    "def split_train_test(data, test_ratio):\n",
    "shuffled_indices = np.random.permutation(len(data))\n",
    "test_set_size = int(len(data) * test_ratio)\n",
    "test_indices = shuffled_indices[:test_set_size]\n",
    "train_indices = shuffled_indices[test_set_size:]\n",
    "return data.iloc[train_indices], data.iloc[test_indices]\n",
    "You can then use this function like this:\n",
    ">>> train_set, test_set = split_train_test(housing, 0.2)\n",
    ">>> print(len(train_set), \"train +\", len(test_set), \"test\")"
   ]
  }
 ],
 "metadata": {
  "kernelspec": {
   "display_name": "Python 3",
   "language": "python",
   "name": "python3"
  },
  "language_info": {
   "codemirror_mode": {
    "name": "ipython",
    "version": 3
   },
   "file_extension": ".py",
   "mimetype": "text/x-python",
   "name": "python",
   "nbconvert_exporter": "python",
   "pygments_lexer": "ipython3",
   "version": "3.7.0"
  }
 },
 "nbformat": 4,
 "nbformat_minor": 2
}
