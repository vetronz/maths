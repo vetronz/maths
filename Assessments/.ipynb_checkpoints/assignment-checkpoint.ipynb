{
 "cells": [
  {
   "cell_type": "markdown",
   "metadata": {},
   "source": [
    "**[Do not edit the contents of this cell]**\n",
    "\n",
    "# MSc in Bioinformatics and Theoretical Systems Biology - Maths and Stats Assignment 2018/19\n",
    "\n",
    "This assignment is to be completed in Python, R or Julia and returned as a Jupyter notebook. There are 4 types of cells used in this notebook:\n",
    "1. Cells containing tasks and instructions to be completed. Do not edit these. These are clearly labelled.\n",
    "2. Cells in which you are meant to provide an answer in Markdown format.\n",
    "3. Cells containing code that defines e.g. which packages to load, but can also contain routines and snippets of codes that you should use.\n",
    "4. Cells that contain the Python/R/Julia code that you write to solve the problems set.\n",
    "\n",
    "Each of these cells will contain explit comments at the top telling you whether to edit or not edit a cell. In Code cells comments are specified by the \"#\" character. In the Markdown Answer Cells, replace the xxx by your answer, whenever these are present. You will have to execute all code and Markdown cells in order to (i) make use of the provided code, and (ii) format the markdown appropriately.\n",
    "\n",
    "There are four problems to be tackled:\n",
    "1. Data exploration [40%]\n",
    "2. Hypothesis testing [20%]\n",
    "3. Regression [20%]\n",
    "4. Classification [20%]\n",
    "\n",
    "For each questions there several parts of different difficulty. Where appropriate, further reading will be given at the start of each question.\n",
    "\n",
    "You will have to specify which language (and version) you used and all packages needed in order to run all Code cells. Please add this information in the next two cells. You can also use a mix of languages but any change has to be clearly indicated in the appropriate cell."
   ]
  },
  {
   "cell_type": "markdown",
   "metadata": {},
   "source": [
    "The kernel for this Jupyter notebook is xxx, version xxx, with the following packages: xxx, xxx"
   ]
  },
  {
   "cell_type": "code",
   "execution_count": 15,
   "metadata": {},
   "outputs": [],
   "source": [
    "# here import all libraries or packages needed\n",
    "import numpy as np\n",
    "import matplotlib.pyplot as plt\n",
    "import scipy\n",
    "import pandas as pd\n",
    "import seaborn as sns\n",
    "%matplotlib inline\n",
    "# ..."
   ]
  },
  {
   "cell_type": "markdown",
   "metadata": {},
   "source": [
    "**[Do not edit the contents of this cell]**\n",
    "\n",
    "## Problem 1: data exploration\n",
    "\n",
    "We consider a subset of data coming from a putative association study where researchers collected various metrics and phenotypes to find associations with a putative generic cardiovascular disease.\n",
    "All recruited subjects are adults.\n",
    "For each subject several predictor variables are recorded: sex, height (in cm), mass (in kg), whether is a smoker or not, her/his ethnicity, and levels of 5 different metabolites (labelled A-E).\n",
    "Each subject has a unique ID number. \n",
    "For each subject a disease score, the response variable, measuring the severity of the disease phenotype in arbitrary units, is provided.\n",
    "The data is provided in the file `association.csv`.\n",
    "\n",
    "### Part 1\n",
    "\n",
    "Load the dataset `association.csv`.\n",
    "How many unique records of subjects do we have? How many unique predictor variables?"
   ]
  },
  {
   "cell_type": "code",
   "execution_count": 70,
   "metadata": {},
   "outputs": [],
   "source": [
    "# [Write your code in this cell]\n",
    "# df = pd.read_csv(\"data/cereal.csv\")\n",
    "\n",
    "association_df = pd.read_csv('association.csv')"
   ]
  },
  {
   "cell_type": "code",
   "execution_count": 71,
   "metadata": {},
   "outputs": [
    {
     "data": {
      "text/html": [
       "<div>\n",
       "<style scoped>\n",
       "    .dataframe tbody tr th:only-of-type {\n",
       "        vertical-align: middle;\n",
       "    }\n",
       "\n",
       "    .dataframe tbody tr th {\n",
       "        vertical-align: top;\n",
       "    }\n",
       "\n",
       "    .dataframe thead th {\n",
       "        text-align: right;\n",
       "    }\n",
       "</style>\n",
       "<table border=\"1\" class=\"dataframe\">\n",
       "  <thead>\n",
       "    <tr style=\"text-align: right;\">\n",
       "      <th></th>\n",
       "      <th>subject</th>\n",
       "      <th>sex</th>\n",
       "      <th>height</th>\n",
       "      <th>mass</th>\n",
       "      <th>smoker</th>\n",
       "      <th>ethnicity</th>\n",
       "      <th>metabolite_A</th>\n",
       "      <th>metabolite_B</th>\n",
       "      <th>metabolite_C</th>\n",
       "      <th>metabolite_D</th>\n",
       "      <th>metabolite_E</th>\n",
       "      <th>disease_score</th>\n",
       "    </tr>\n",
       "  </thead>\n",
       "  <tbody>\n",
       "    <tr>\n",
       "      <th>0</th>\n",
       "      <td>ID85</td>\n",
       "      <td>1</td>\n",
       "      <td>171.476882</td>\n",
       "      <td>71.070214</td>\n",
       "      <td>0</td>\n",
       "      <td>Asian</td>\n",
       "      <td>0.777283</td>\n",
       "      <td>1.544216</td>\n",
       "      <td>0.200118</td>\n",
       "      <td>4.963626</td>\n",
       "      <td>9.981923</td>\n",
       "      <td>0.967832</td>\n",
       "    </tr>\n",
       "    <tr>\n",
       "      <th>1</th>\n",
       "      <td>ID86</td>\n",
       "      <td>0</td>\n",
       "      <td>186.503967</td>\n",
       "      <td>80.276194</td>\n",
       "      <td>0</td>\n",
       "      <td>Black/African/Caribbean</td>\n",
       "      <td>0.984182</td>\n",
       "      <td>2.040572</td>\n",
       "      <td>0.293487</td>\n",
       "      <td>5.250400</td>\n",
       "      <td>10.745194</td>\n",
       "      <td>-5.513232</td>\n",
       "    </tr>\n",
       "    <tr>\n",
       "      <th>2</th>\n",
       "      <td>ID48</td>\n",
       "      <td>1</td>\n",
       "      <td>177.289453</td>\n",
       "      <td>70.102716</td>\n",
       "      <td>1</td>\n",
       "      <td>Other</td>\n",
       "      <td>0.989442</td>\n",
       "      <td>1.983742</td>\n",
       "      <td>0.410665</td>\n",
       "      <td>4.302722</td>\n",
       "      <td>9.032480</td>\n",
       "      <td>-3.236092</td>\n",
       "    </tr>\n",
       "    <tr>\n",
       "      <th>3</th>\n",
       "      <td>ID4</td>\n",
       "      <td>0</td>\n",
       "      <td>182.755756</td>\n",
       "      <td>76.286511</td>\n",
       "      <td>0</td>\n",
       "      <td>White</td>\n",
       "      <td>0.998088</td>\n",
       "      <td>1.940030</td>\n",
       "      <td>0.183667</td>\n",
       "      <td>4.243840</td>\n",
       "      <td>8.597430</td>\n",
       "      <td>-7.306565</td>\n",
       "    </tr>\n",
       "    <tr>\n",
       "      <th>4</th>\n",
       "      <td>ID63</td>\n",
       "      <td>1</td>\n",
       "      <td>178.761595</td>\n",
       "      <td>70.987086</td>\n",
       "      <td>0</td>\n",
       "      <td>Asian</td>\n",
       "      <td>0.893859</td>\n",
       "      <td>1.794609</td>\n",
       "      <td>0.554105</td>\n",
       "      <td>4.006878</td>\n",
       "      <td>8.530953</td>\n",
       "      <td>1.514585</td>\n",
       "    </tr>\n",
       "  </tbody>\n",
       "</table>\n",
       "</div>"
      ],
      "text/plain": [
       "  subject  sex      height       mass  smoker                ethnicity  \\\n",
       "0    ID85    1  171.476882  71.070214       0                    Asian   \n",
       "1    ID86    0  186.503967  80.276194       0  Black/African/Caribbean   \n",
       "2    ID48    1  177.289453  70.102716       1                    Other   \n",
       "3     ID4    0  182.755756  76.286511       0                    White   \n",
       "4    ID63    1  178.761595  70.987086       0                    Asian   \n",
       "\n",
       "   metabolite_A  metabolite_B  metabolite_C  metabolite_D  metabolite_E  \\\n",
       "0      0.777283      1.544216      0.200118      4.963626      9.981923   \n",
       "1      0.984182      2.040572      0.293487      5.250400     10.745194   \n",
       "2      0.989442      1.983742      0.410665      4.302722      9.032480   \n",
       "3      0.998088      1.940030      0.183667      4.243840      8.597430   \n",
       "4      0.893859      1.794609      0.554105      4.006878      8.530953   \n",
       "\n",
       "   disease_score  \n",
       "0       0.967832  \n",
       "1      -5.513232  \n",
       "2      -3.236092  \n",
       "3      -7.306565  \n",
       "4       1.514585  "
      ]
     },
     "execution_count": 71,
     "metadata": {},
     "output_type": "execute_result"
    }
   ],
   "source": [
    "association_df.head(5)"
   ]
  },
  {
   "cell_type": "code",
   "execution_count": 72,
   "metadata": {},
   "outputs": [
    {
     "data": {
      "text/plain": [
       "(106, 12)"
      ]
     },
     "execution_count": 72,
     "metadata": {},
     "output_type": "execute_result"
    }
   ],
   "source": [
    "association_df.shape"
   ]
  },
  {
   "cell_type": "code",
   "execution_count": 73,
   "metadata": {},
   "outputs": [],
   "source": [
    "# association_df.info()"
   ]
  },
  {
   "cell_type": "code",
   "execution_count": null,
   "metadata": {},
   "outputs": [],
   "source": []
  },
  {
   "cell_type": "markdown",
   "metadata": {},
   "source": [
    "**[Provide your answer here]**\n",
    "- The number of unique records of subjects in the dataset is: 106\n",
    "- The number of variables in the dataset is: 12"
   ]
  },
  {
   "cell_type": "markdown",
   "metadata": {},
   "source": [
    "**[Do not edit the contents of this cell]**\n",
    "\n",
    "### Part 2\n",
    "\n",
    "Produce a plot to illustrate the distribution of variables sex, mass, ethnicity, metabolite_A. Choose the most appropriate visualisation depending on the type of each variable."
   ]
  },
  {
   "cell_type": "code",
   "execution_count": 74,
   "metadata": {},
   "outputs": [
    {
     "data": {
      "text/html": [
       "<div>\n",
       "<style scoped>\n",
       "    .dataframe tbody tr th:only-of-type {\n",
       "        vertical-align: middle;\n",
       "    }\n",
       "\n",
       "    .dataframe tbody tr th {\n",
       "        vertical-align: top;\n",
       "    }\n",
       "\n",
       "    .dataframe thead th {\n",
       "        text-align: right;\n",
       "    }\n",
       "</style>\n",
       "<table border=\"1\" class=\"dataframe\">\n",
       "  <thead>\n",
       "    <tr style=\"text-align: right;\">\n",
       "      <th></th>\n",
       "      <th>subject</th>\n",
       "      <th>sex</th>\n",
       "      <th>height</th>\n",
       "      <th>mass</th>\n",
       "      <th>smoker</th>\n",
       "      <th>ethnicity</th>\n",
       "      <th>metabolite_A</th>\n",
       "      <th>metabolite_B</th>\n",
       "      <th>metabolite_C</th>\n",
       "      <th>metabolite_D</th>\n",
       "      <th>metabolite_E</th>\n",
       "      <th>disease_score</th>\n",
       "    </tr>\n",
       "  </thead>\n",
       "  <tbody>\n",
       "    <tr>\n",
       "      <th>9</th>\n",
       "      <td>ID23</td>\n",
       "      <td>1</td>\n",
       "      <td>177.870009</td>\n",
       "      <td>70.992259</td>\n",
       "      <td>0</td>\n",
       "      <td>Black/African/Caribbean</td>\n",
       "      <td>NaN</td>\n",
       "      <td>1.274922</td>\n",
       "      <td>0.306667</td>\n",
       "      <td>4.953703</td>\n",
       "      <td>10.237791</td>\n",
       "      <td>3.480822</td>\n",
       "    </tr>\n",
       "    <tr>\n",
       "      <th>34</th>\n",
       "      <td>ID87</td>\n",
       "      <td>1</td>\n",
       "      <td>178.793400</td>\n",
       "      <td>72.141244</td>\n",
       "      <td>0</td>\n",
       "      <td>Black/African/Caribbean</td>\n",
       "      <td>NaN</td>\n",
       "      <td>1.868261</td>\n",
       "      <td>0.201052</td>\n",
       "      <td>4.219526</td>\n",
       "      <td>8.662771</td>\n",
       "      <td>-6.821057</td>\n",
       "    </tr>\n",
       "  </tbody>\n",
       "</table>\n",
       "</div>"
      ],
      "text/plain": [
       "   subject  sex      height       mass  smoker                ethnicity  \\\n",
       "9     ID23    1  177.870009  70.992259       0  Black/African/Caribbean   \n",
       "34    ID87    1  178.793400  72.141244       0  Black/African/Caribbean   \n",
       "\n",
       "    metabolite_A  metabolite_B  metabolite_C  metabolite_D  metabolite_E  \\\n",
       "9            NaN      1.274922      0.306667      4.953703     10.237791   \n",
       "34           NaN      1.868261      0.201052      4.219526      8.662771   \n",
       "\n",
       "    disease_score  \n",
       "9        3.480822  \n",
       "34      -6.821057  "
      ]
     },
     "execution_count": 74,
     "metadata": {},
     "output_type": "execute_result"
    }
   ],
   "source": [
    "# Prior to plotting distribution I will deal with NaN values\n",
    "# Given that the data set is small I do not want to discard entries, hence I will use imputaitoin to fill NaN values.\n",
    "\n",
    "\n",
    "association_df[association_df.isnull().values]\n",
    "# association_df.isnull().sum()\n",
    "# association_df[association_df['metabolite_A'].isnull()]"
   ]
  },
  {
   "cell_type": "code",
   "execution_count": 75,
   "metadata": {},
   "outputs": [
    {
     "name": "stdout",
     "output_type": "stream",
     "text": [
      "0.8873754996493881\n"
     ]
    }
   ],
   "source": [
    "met_A_median = association_df['metabolite_A'].median()\n",
    "print(met_A_median)"
   ]
  },
  {
   "cell_type": "code",
   "execution_count": 76,
   "metadata": {},
   "outputs": [],
   "source": [
    "association_df['metabolite_A'].fillna(value = met_A_median, inplace=True)"
   ]
  },
  {
   "cell_type": "code",
   "execution_count": 77,
   "metadata": {},
   "outputs": [
    {
     "data": {
      "text/html": [
       "<div>\n",
       "<style scoped>\n",
       "    .dataframe tbody tr th:only-of-type {\n",
       "        vertical-align: middle;\n",
       "    }\n",
       "\n",
       "    .dataframe tbody tr th {\n",
       "        vertical-align: top;\n",
       "    }\n",
       "\n",
       "    .dataframe thead th {\n",
       "        text-align: right;\n",
       "    }\n",
       "</style>\n",
       "<table border=\"1\" class=\"dataframe\">\n",
       "  <thead>\n",
       "    <tr style=\"text-align: right;\">\n",
       "      <th></th>\n",
       "      <th>subject</th>\n",
       "      <th>sex</th>\n",
       "      <th>height</th>\n",
       "      <th>mass</th>\n",
       "      <th>smoker</th>\n",
       "      <th>ethnicity</th>\n",
       "      <th>metabolite_A</th>\n",
       "      <th>metabolite_B</th>\n",
       "      <th>metabolite_C</th>\n",
       "      <th>metabolite_D</th>\n",
       "      <th>metabolite_E</th>\n",
       "      <th>disease_score</th>\n",
       "    </tr>\n",
       "  </thead>\n",
       "  <tbody>\n",
       "    <tr>\n",
       "      <th>9</th>\n",
       "      <td>ID23</td>\n",
       "      <td>1</td>\n",
       "      <td>177.870009</td>\n",
       "      <td>70.992259</td>\n",
       "      <td>0</td>\n",
       "      <td>Black/African/Caribbean</td>\n",
       "      <td>0.887375</td>\n",
       "      <td>1.274922</td>\n",
       "      <td>0.306667</td>\n",
       "      <td>4.953703</td>\n",
       "      <td>10.237791</td>\n",
       "      <td>3.480822</td>\n",
       "    </tr>\n",
       "    <tr>\n",
       "      <th>34</th>\n",
       "      <td>ID87</td>\n",
       "      <td>1</td>\n",
       "      <td>178.793400</td>\n",
       "      <td>72.141244</td>\n",
       "      <td>0</td>\n",
       "      <td>Black/African/Caribbean</td>\n",
       "      <td>0.887375</td>\n",
       "      <td>1.868261</td>\n",
       "      <td>0.201052</td>\n",
       "      <td>4.219526</td>\n",
       "      <td>8.662771</td>\n",
       "      <td>-6.821057</td>\n",
       "    </tr>\n",
       "  </tbody>\n",
       "</table>\n",
       "</div>"
      ],
      "text/plain": [
       "   subject  sex      height       mass  smoker                ethnicity  \\\n",
       "9     ID23    1  177.870009  70.992259       0  Black/African/Caribbean   \n",
       "34    ID87    1  178.793400  72.141244       0  Black/African/Caribbean   \n",
       "\n",
       "    metabolite_A  metabolite_B  metabolite_C  metabolite_D  metabolite_E  \\\n",
       "9       0.887375      1.274922      0.306667      4.953703     10.237791   \n",
       "34      0.887375      1.868261      0.201052      4.219526      8.662771   \n",
       "\n",
       "    disease_score  \n",
       "9        3.480822  \n",
       "34      -6.821057  "
      ]
     },
     "execution_count": 77,
     "metadata": {},
     "output_type": "execute_result"
    }
   ],
   "source": [
    "association_df.isnull().sum()\n",
    "association_df.iloc[[9,34]]"
   ]
  },
  {
   "cell_type": "code",
   "execution_count": 100,
   "metadata": {},
   "outputs": [
    {
     "name": "stderr",
     "output_type": "stream",
     "text": [
      "/home/patrick/anaconda3/lib/python3.7/site-packages/scipy/stats/stats.py:1713: FutureWarning: Using a non-tuple sequence for multidimensional indexing is deprecated; use `arr[tuple(seq)]` instead of `arr[seq]`. In the future this will be interpreted as an array index, `arr[np.array(seq)]`, which will result either in an error or a different result.\n",
      "  return np.add.reduce(sorted[indexer] * weights, axis=axis) / sumval\n"
     ]
    },
    {
     "data": {
      "image/png": "[encoded data removed]",
      "text/plain": [
       "<Figure size 1008x864 with 4 Axes>"
      ]
     },
     "metadata": {},
     "output_type": "display_data"
    }
   ],
   "source": [
    "# [Write your code in this cell]\n",
    "sns.set(style=\"darkgrid\")\n",
    "\n",
    "\n",
    "fig = plt.figure(figsize=(14,12))\n",
    "fig.add_subplot(2,2,1)\n",
    "# sns.countplot(x=\"class\", data=titanic)\n",
    "sns.countplot(association_df['sex'])\n",
    "plt.title('Gender Counts', y=0.94, x=0.85)\n",
    "\n",
    "fig.add_subplot(2,2,2)\n",
    "sns.countplot(association_df['ethnicity'])\n",
    "plt.title('Ethnicity Counts', y=0.94, x=0.85)\n",
    "\n",
    "fig.add_subplot(2,2,3)\n",
    "sns.distplot(association_df['mass'])\n",
    "plt.title('Mass Distribution', y=0.94, x=0.86)\n",
    "\n",
    "fig.add_subplot(2,2,4)\n",
    "sns.distplot(association_df['metabolite_A'])\n",
    "plt.title('Metabolite_A Distribution', y=0.94, x=0.77)\n",
    "\n",
    "plt.show()\n",
    "# ax = fig.add_subplot(2, 2,1)"
   ]
  },
  {
   "cell_type": "markdown",
   "metadata": {},
   "source": [
    "**[Do not edit the contents of this cell]**\n",
    "\n",
    "### Part 3\n",
    "\n",
    "Write a function that returns the Body Mass Index (BMI).Calculate BMI for each subject and add it as new variable in the data set."
   ]
  },
  {
   "cell_type": "code",
   "execution_count": 103,
   "metadata": {},
   "outputs": [
    {
     "data": {
      "text/html": [
       "<div>\n",
       "<style scoped>\n",
       "    .dataframe tbody tr th:only-of-type {\n",
       "        vertical-align: middle;\n",
       "    }\n",
       "\n",
       "    .dataframe tbody tr th {\n",
       "        vertical-align: top;\n",
       "    }\n",
       "\n",
       "    .dataframe thead th {\n",
       "        text-align: right;\n",
       "    }\n",
       "</style>\n",
       "<table border=\"1\" class=\"dataframe\">\n",
       "  <thead>\n",
       "    <tr style=\"text-align: right;\">\n",
       "      <th></th>\n",
       "      <th>subject</th>\n",
       "      <th>sex</th>\n",
       "      <th>height</th>\n",
       "      <th>mass</th>\n",
       "      <th>smoker</th>\n",
       "      <th>ethnicity</th>\n",
       "      <th>metabolite_A</th>\n",
       "      <th>metabolite_B</th>\n",
       "      <th>metabolite_C</th>\n",
       "      <th>metabolite_D</th>\n",
       "      <th>metabolite_E</th>\n",
       "      <th>disease_score</th>\n",
       "      <th>BMI</th>\n",
       "    </tr>\n",
       "  </thead>\n",
       "  <tbody>\n",
       "    <tr>\n",
       "      <th>0</th>\n",
       "      <td>ID85</td>\n",
       "      <td>1</td>\n",
       "      <td>171.476882</td>\n",
       "      <td>71.070214</td>\n",
       "      <td>0</td>\n",
       "      <td>Asian</td>\n",
       "      <td>0.777283</td>\n",
       "      <td>1.544216</td>\n",
       "      <td>0.200118</td>\n",
       "      <td>4.963626</td>\n",
       "      <td>9.981923</td>\n",
       "      <td>0.967832</td>\n",
       "      <td>24.169990</td>\n",
       "    </tr>\n",
       "    <tr>\n",
       "      <th>1</th>\n",
       "      <td>ID86</td>\n",
       "      <td>0</td>\n",
       "      <td>186.503967</td>\n",
       "      <td>80.276194</td>\n",
       "      <td>0</td>\n",
       "      <td>Black/African/Caribbean</td>\n",
       "      <td>0.984182</td>\n",
       "      <td>2.040572</td>\n",
       "      <td>0.293487</td>\n",
       "      <td>5.250400</td>\n",
       "      <td>10.745194</td>\n",
       "      <td>-5.513232</td>\n",
       "      <td>23.078662</td>\n",
       "    </tr>\n",
       "    <tr>\n",
       "      <th>2</th>\n",
       "      <td>ID48</td>\n",
       "      <td>1</td>\n",
       "      <td>177.289453</td>\n",
       "      <td>70.102716</td>\n",
       "      <td>1</td>\n",
       "      <td>Other</td>\n",
       "      <td>0.989442</td>\n",
       "      <td>1.983742</td>\n",
       "      <td>0.410665</td>\n",
       "      <td>4.302722</td>\n",
       "      <td>9.032480</td>\n",
       "      <td>-3.236092</td>\n",
       "      <td>22.303296</td>\n",
       "    </tr>\n",
       "    <tr>\n",
       "      <th>3</th>\n",
       "      <td>ID4</td>\n",
       "      <td>0</td>\n",
       "      <td>182.755756</td>\n",
       "      <td>76.286511</td>\n",
       "      <td>0</td>\n",
       "      <td>White</td>\n",
       "      <td>0.998088</td>\n",
       "      <td>1.940030</td>\n",
       "      <td>0.183667</td>\n",
       "      <td>4.243840</td>\n",
       "      <td>8.597430</td>\n",
       "      <td>-7.306565</td>\n",
       "      <td>22.840501</td>\n",
       "    </tr>\n",
       "    <tr>\n",
       "      <th>4</th>\n",
       "      <td>ID63</td>\n",
       "      <td>1</td>\n",
       "      <td>178.761595</td>\n",
       "      <td>70.987086</td>\n",
       "      <td>0</td>\n",
       "      <td>Asian</td>\n",
       "      <td>0.893859</td>\n",
       "      <td>1.794609</td>\n",
       "      <td>0.554105</td>\n",
       "      <td>4.006878</td>\n",
       "      <td>8.530953</td>\n",
       "      <td>1.514585</td>\n",
       "      <td>22.214212</td>\n",
       "    </tr>\n",
       "  </tbody>\n",
       "</table>\n",
       "</div>"
      ],
      "text/plain": [
       "  subject  sex      height       mass  smoker                ethnicity  \\\n",
       "0    ID85    1  171.476882  71.070214       0                    Asian   \n",
       "1    ID86    0  186.503967  80.276194       0  Black/African/Caribbean   \n",
       "2    ID48    1  177.289453  70.102716       1                    Other   \n",
       "3     ID4    0  182.755756  76.286511       0                    White   \n",
       "4    ID63    1  178.761595  70.987086       0                    Asian   \n",
       "\n",
       "   metabolite_A  metabolite_B  metabolite_C  metabolite_D  metabolite_E  \\\n",
       "0      0.777283      1.544216      0.200118      4.963626      9.981923   \n",
       "1      0.984182      2.040572      0.293487      5.250400     10.745194   \n",
       "2      0.989442      1.983742      0.410665      4.302722      9.032480   \n",
       "3      0.998088      1.940030      0.183667      4.243840      8.597430   \n",
       "4      0.893859      1.794609      0.554105      4.006878      8.530953   \n",
       "\n",
       "   disease_score        BMI  \n",
       "0       0.967832  24.169990  \n",
       "1      -5.513232  23.078662  \n",
       "2      -3.236092  22.303296  \n",
       "3      -7.306565  22.840501  \n",
       "4       1.514585  22.214212  "
      ]
     },
     "execution_count": 103,
     "metadata": {},
     "output_type": "execute_result"
    }
   ],
   "source": [
    "# [Write your code in this cell]\n",
    "\n",
    "association_df['BMI'] = association_df['mass']/(association_df['height']/100)**2\n",
    "\n",
    "association_df.head(5)\n",
    "\n"
   ]
  },
  {
   "cell_type": "markdown",
   "metadata": {},
   "source": [
    "**[Do not edit the contents of this cell]**\n",
    "\n",
    "### Part 4\n",
    "\n",
    "Calculate the correlation matrix between numerical predictors. Use this information to impute any missing values, if possible."
   ]
  },
  {
   "cell_type": "code",
   "execution_count": null,
   "metadata": {},
   "outputs": [],
   "source": [
    "# [Write your code in this cell]\n"
   ]
  },
  {
   "cell_type": "markdown",
   "metadata": {},
   "source": [
    "**[Do not edit the contents of this cell]**\n",
    "\n",
    "### Part 5\n",
    "\n",
    "Assuming that a disease status is recorded when the disease score is greater than 5, add a new response variable in the dataset defining the diseases status of each subject."
   ]
  },
  {
   "cell_type": "code",
   "execution_count": 5,
   "metadata": {},
   "outputs": [],
   "source": [
    "# [Write your code in this cell]\n"
   ]
  },
  {
   "cell_type": "markdown",
   "metadata": {},
   "source": [
    "**[Do not edit the contents of this cell]**\n",
    "\n",
    "## Problem 2: hypothesis testing\n",
    "\n",
    "Starting from the same dataset in Problem 1, provide answers for the following questions.\n",
    "\n",
    "### Part 1\n",
    "\n",
    "Given this sample space of subjects, what is the probability that a given subject is diagnosed as diseased? What is the probability that a subject is diagnosed as diseased given that he/she is not a smoker?"
   ]
  },
  {
   "cell_type": "code",
   "execution_count": null,
   "metadata": {},
   "outputs": [],
   "source": [
    "# [Write your code in this cell]\n"
   ]
  },
  {
   "cell_type": "markdown",
   "metadata": {},
   "source": [
    "**[Provide your answer here]**\n",
    "- The probability that a subject is diseased is: xxx\n",
    "- The probability that a subject is diseased given that she/he is not a smoker is: xxx"
   ]
  },
  {
   "cell_type": "markdown",
   "metadata": {},
   "source": [
    "**[Do not edit the contents of this cell]**\n",
    "\n",
    "### Part 2\n",
    "\n",
    "Assuming that they are Normally distributed, estimate mean and variance for the distributions of height and mass separately for males and females. Use **either** a frequentist **or** likelihoodist **or** Bayesian approach."
   ]
  },
  {
   "cell_type": "code",
   "execution_count": null,
   "metadata": {},
   "outputs": [],
   "source": [
    "# [Write your code in this cell]\n"
   ]
  },
  {
   "cell_type": "markdown",
   "metadata": {},
   "source": [
    "**[Do not edit the contents of this cell]**\n",
    "\n",
    "### Part 3\n",
    "\n",
    "Test whether height is different between males and females. Perform the same test on the mass variable. Define (in words) which ones are your null and alternative hypotheses and significance threshold. Finally, discuss (in words) any conclusion you can make out the results of your statistical tests."
   ]
  },
  {
   "cell_type": "code",
   "execution_count": 1,
   "metadata": {},
   "outputs": [],
   "source": [
    "# [Write your code in this cell]\n"
   ]
  },
  {
   "cell_type": "markdown",
   "metadata": {},
   "source": [
    "**[Provide your answer here]**\n"
   ]
  },
  {
   "cell_type": "markdown",
   "metadata": {},
   "source": [
    "**[Do not edit the contents of this cell]**\n",
    "\n",
    "### Part 4\n",
    "\n",
    "Repeat the statistical test in Part 3 for all numerical predictor variables in the dataset. How many tests are significant with $\\alpha=0.05$?\n",
    "Calculate corrected p-values for multiple tests using a Bonferroni correction. How many tests are significant now? "
   ]
  },
  {
   "cell_type": "code",
   "execution_count": null,
   "metadata": {},
   "outputs": [],
   "source": [
    "# [Write your code in this cell]\n"
   ]
  },
  {
   "cell_type": "markdown",
   "metadata": {},
   "source": [
    "**[Do not edit the contents of this cell]**\n",
    "\n",
    "## Problem 3: regression\n",
    "\n",
    "Assume you have been provided a new variable indicating a generic glucose index level. We know that such glucose index is related to the variable `metabolite_D` given in the previous dataset.\n",
    "\n",
    "### Part 1\n",
    "\n",
    "Load the new dataset called `glucose.csv` which gives the measure of a generic glucose level (`glucose_index`) for each tested subject. Perform a regression where `metabolite_D` is the predictor and `glucose_index` is the response variable."
   ]
  },
  {
   "cell_type": "code",
   "execution_count": null,
   "metadata": {},
   "outputs": [],
   "source": [
    "# [Write your code in this cell]\n"
   ]
  },
  {
   "cell_type": "markdown",
   "metadata": {},
   "source": [
    "**[Do not edit the contents of this cell]**\n",
    "\n",
    "## Problem 4: classification\n",
    "\n",
    "### Part 1\n",
    "\n",
    "Implement an algorithm to predict the disease status of a subject given all response variables provided in the dataset. You are free to choose the appropriate statistical tool you prefer. Assess the quality of your classifier."
   ]
  },
  {
   "cell_type": "code",
   "execution_count": null,
   "metadata": {},
   "outputs": [],
   "source": [
    "# [Write your code in this cell]\n"
   ]
  },
  {
   "cell_type": "markdown",
   "metadata": {},
   "source": [
    "**[Do not edit the contents of this cell]**\n",
    "\n",
    "### Part 2\n",
    "\n",
    "Given the classifier you devised in Part 1, predict the disease status of the following subject:\n",
    "- subject: ID986\n",
    "- sex: 1\n",
    "- height: 180.2\n",
    "- mass: 70.1\n",
    "- smoker: 1\n",
    "- ethnicity: \"White\"\n",
    "- metabolite_A: 0.5\n",
    "- metabolite_B: 1.2\n",
    "- metabolite_C: 0.5\n",
    "- metabolite_D: 8.5\n",
    "- metabolite_E: 10.2"
   ]
  },
  {
   "cell_type": "code",
   "execution_count": 4,
   "metadata": {},
   "outputs": [],
   "source": [
    "# [Write your code in this cell]\n"
   ]
  }
 ],
 "metadata": {
  "kernelspec": {
   "display_name": "Python 3",
   "language": "python",
   "name": "python3"
  },
  "language_info": {
   "codemirror_mode": {
    "name": "ipython",
    "version": 3
   },
   "file_extension": ".py",
   "mimetype": "text/x-python",
   "name": "python",
   "nbconvert_exporter": "python",
   "pygments_lexer": "ipython3",
   "version": "3.7.0"
  }
 },
 "nbformat": 4,
 "nbformat_minor": 2
}
