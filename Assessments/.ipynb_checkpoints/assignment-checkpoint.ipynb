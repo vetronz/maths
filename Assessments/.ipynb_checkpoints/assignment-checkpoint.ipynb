{
 "cells": [
  {
   "cell_type": "markdown",
   "metadata": {},
   "source": [
    "**[Do not edit the contents of this cell]**\n",
    "\n",
    "# MSc in Bioinformatics and Theoretical Systems Biology - Maths and Stats Assignment 2018/19\n",
    "\n",
    "This assignment is to be completed in Python, R or Julia and returned as a Jupyter notebook. There are 4 types of cells used in this notebook:\n",
    "1. Cells containing tasks and instructions to be completed. Do not edit these. These are clearly labelled.\n",
    "2. Cells in which you are meant to provide an answer in Markdown format.\n",
    "3. Cells containing code that defines e.g. which packages to load, but can also contain routines and snippets of codes that you should use.\n",
    "4. Cells that contain the Python/R/Julia code that you write to solve the problems set.\n",
    "\n",
    "Each of these cells will contain explit comments at the top telling you whether to edit or not edit a cell. In Code cells comments are specified by the \"#\" character. In the Markdown Answer Cells, replace the xxx by your answer, whenever these are present. You will have to execute all code and Markdown cells in order to (i) make use of the provided code, and (ii) format the markdown appropriately.\n",
    "\n",
    "There are four problems to be tackled:\n",
    "1. Data exploration [40%]\n",
    "2. Hypothesis testing [20%]\n",
    "3. Regression [20%]\n",
    "4. Classification [20%]\n",
    "\n",
    "For each questions there several parts of different difficulty. Where appropriate, further reading will be given at the start of each question.\n",
    "\n",
    "You will have to specify which language (and version) you used and all packages needed in order to run all Code cells. Please add this information in the next two cells. You can also use a mix of languages but any change has to be clearly indicated in the appropriate cell."
   ]
  },
  {
   "cell_type": "markdown",
   "metadata": {},
   "source": [
    "The kernel for this Jupyter notebook is xxx, version xxx, with the following packages: xxx, xxx"
   ]
  },
  {
   "cell_type": "code",
   "execution_count": 175,
   "metadata": {},
   "outputs": [],
   "source": [
    "# here import all libraries or packages needed\n",
    "import numpy as np\n",
    "import matplotlib.pyplot as plt\n",
    "import scipy\n",
    "import pandas as pd\n",
    "import seaborn as sns\n",
    "from scipy import stats\n",
    "\n",
    "%matplotlib inline\n",
    "# ..."
   ]
  },
  {
   "cell_type": "markdown",
   "metadata": {},
   "source": [
    "**[Do not edit the contents of this cell]**\n",
    "\n",
    "## Problem 1: data exploration\n",
    "\n",
    "We consider a subset of data coming from a putative association study where researchers collected various metrics and phenotypes to find associations with a putative generic cardiovascular disease.\n",
    "All recruited subjects are adults.\n",
    "For each subject several predictor variables are recorded: sex, height (in cm), mass (in kg), whether is a smoker or not, her/his ethnicity, and levels of 5 different metabolites (labelled A-E).\n",
    "Each subject has a unique ID number. \n",
    "For each subject a disease score, the response variable, measuring the severity of the disease phenotype in arbitrary units, is provided.\n",
    "The data is provided in the file `association.csv`.\n",
    "\n",
    "### Part 1\n",
    "\n",
    "Load the dataset `association.csv`.\n",
    "How many unique records of subjects do we have? How many unique predictor variables?"
   ]
  },
  {
   "cell_type": "code",
   "execution_count": 176,
   "metadata": {},
   "outputs": [],
   "source": [
    "# [Write your code in this cell]\n",
    "# df = pd.read_csv(\"data/cereal.csv\")\n",
    "association_df = pd.read_csv('association.csv')\n",
    "association_df.set_index('subject', inplace=True)\n",
    "\n",
    "association_indep_df = association_df.drop(['disease_score'], axis=1)\n",
    "association_dep_df = association_df['disease_score']\n",
    "\n",
    "\n",
    "# association_dep_df.columns = ['disease_score']"
   ]
  },
  {
   "cell_type": "code",
   "execution_count": 177,
   "metadata": {},
   "outputs": [],
   "source": [
    "# type(association_dep_df)"
   ]
  },
  {
   "cell_type": "code",
   "execution_count": 178,
   "metadata": {},
   "outputs": [
    {
     "data": {
      "text/html": [
       "<div>\n",
       "<style scoped>\n",
       "    .dataframe tbody tr th:only-of-type {\n",
       "        vertical-align: middle;\n",
       "    }\n",
       "\n",
       "    .dataframe tbody tr th {\n",
       "        vertical-align: top;\n",
       "    }\n",
       "\n",
       "    .dataframe thead th {\n",
       "        text-align: right;\n",
       "    }\n",
       "</style>\n",
       "<table border=\"1\" class=\"dataframe\">\n",
       "  <thead>\n",
       "    <tr style=\"text-align: right;\">\n",
       "      <th></th>\n",
       "      <th>sex</th>\n",
       "      <th>height</th>\n",
       "      <th>mass</th>\n",
       "      <th>smoker</th>\n",
       "      <th>ethnicity</th>\n",
       "      <th>metabolite_A</th>\n",
       "      <th>metabolite_B</th>\n",
       "      <th>metabolite_C</th>\n",
       "      <th>metabolite_D</th>\n",
       "      <th>metabolite_E</th>\n",
       "    </tr>\n",
       "    <tr>\n",
       "      <th>subject</th>\n",
       "      <th></th>\n",
       "      <th></th>\n",
       "      <th></th>\n",
       "      <th></th>\n",
       "      <th></th>\n",
       "      <th></th>\n",
       "      <th></th>\n",
       "      <th></th>\n",
       "      <th></th>\n",
       "      <th></th>\n",
       "    </tr>\n",
       "  </thead>\n",
       "  <tbody>\n",
       "    <tr>\n",
       "      <th>ID85</th>\n",
       "      <td>1</td>\n",
       "      <td>171.476882</td>\n",
       "      <td>71.070214</td>\n",
       "      <td>0</td>\n",
       "      <td>Asian</td>\n",
       "      <td>0.777283</td>\n",
       "      <td>1.544216</td>\n",
       "      <td>0.200118</td>\n",
       "      <td>4.963626</td>\n",
       "      <td>9.981923</td>\n",
       "    </tr>\n",
       "    <tr>\n",
       "      <th>ID86</th>\n",
       "      <td>0</td>\n",
       "      <td>186.503967</td>\n",
       "      <td>80.276194</td>\n",
       "      <td>0</td>\n",
       "      <td>Black/African/Caribbean</td>\n",
       "      <td>0.984182</td>\n",
       "      <td>2.040572</td>\n",
       "      <td>0.293487</td>\n",
       "      <td>5.250400</td>\n",
       "      <td>10.745194</td>\n",
       "    </tr>\n",
       "    <tr>\n",
       "      <th>ID48</th>\n",
       "      <td>1</td>\n",
       "      <td>177.289453</td>\n",
       "      <td>70.102716</td>\n",
       "      <td>1</td>\n",
       "      <td>Other</td>\n",
       "      <td>0.989442</td>\n",
       "      <td>1.983742</td>\n",
       "      <td>0.410665</td>\n",
       "      <td>4.302722</td>\n",
       "      <td>9.032480</td>\n",
       "    </tr>\n",
       "    <tr>\n",
       "      <th>ID4</th>\n",
       "      <td>0</td>\n",
       "      <td>182.755756</td>\n",
       "      <td>76.286511</td>\n",
       "      <td>0</td>\n",
       "      <td>White</td>\n",
       "      <td>0.998088</td>\n",
       "      <td>1.940030</td>\n",
       "      <td>0.183667</td>\n",
       "      <td>4.243840</td>\n",
       "      <td>8.597430</td>\n",
       "    </tr>\n",
       "    <tr>\n",
       "      <th>ID63</th>\n",
       "      <td>1</td>\n",
       "      <td>178.761595</td>\n",
       "      <td>70.987086</td>\n",
       "      <td>0</td>\n",
       "      <td>Asian</td>\n",
       "      <td>0.893859</td>\n",
       "      <td>1.794609</td>\n",
       "      <td>0.554105</td>\n",
       "      <td>4.006878</td>\n",
       "      <td>8.530953</td>\n",
       "    </tr>\n",
       "  </tbody>\n",
       "</table>\n",
       "</div>"
      ],
      "text/plain": [
       "         sex      height       mass  smoker                ethnicity  \\\n",
       "subject                                                                \n",
       "ID85       1  171.476882  71.070214       0                    Asian   \n",
       "ID86       0  186.503967  80.276194       0  Black/African/Caribbean   \n",
       "ID48       1  177.289453  70.102716       1                    Other   \n",
       "ID4        0  182.755756  76.286511       0                    White   \n",
       "ID63       1  178.761595  70.987086       0                    Asian   \n",
       "\n",
       "         metabolite_A  metabolite_B  metabolite_C  metabolite_D  metabolite_E  \n",
       "subject                                                                        \n",
       "ID85         0.777283      1.544216      0.200118      4.963626      9.981923  \n",
       "ID86         0.984182      2.040572      0.293487      5.250400     10.745194  \n",
       "ID48         0.989442      1.983742      0.410665      4.302722      9.032480  \n",
       "ID4          0.998088      1.940030      0.183667      4.243840      8.597430  \n",
       "ID63         0.893859      1.794609      0.554105      4.006878      8.530953  "
      ]
     },
     "execution_count": 178,
     "metadata": {},
     "output_type": "execute_result"
    }
   ],
   "source": [
    "association_indep_df.head(5)"
   ]
  },
  {
   "cell_type": "code",
   "execution_count": 179,
   "metadata": {},
   "outputs": [
    {
     "data": {
      "text/plain": [
       "(106, 10)"
      ]
     },
     "execution_count": 179,
     "metadata": {},
     "output_type": "execute_result"
    }
   ],
   "source": [
    "association_indep_df.shape"
   ]
  },
  {
   "cell_type": "code",
   "execution_count": 180,
   "metadata": {},
   "outputs": [],
   "source": [
    "# association_df.info()"
   ]
  },
  {
   "cell_type": "code",
   "execution_count": null,
   "metadata": {},
   "outputs": [],
   "source": []
  },
  {
   "cell_type": "markdown",
   "metadata": {},
   "source": [
    "**[Provide your answer here]**\n",
    "- The number of unique records of subjects in the dataset is: 105\n",
    "- The number of variables in the dataset is: 11"
   ]
  },
  {
   "cell_type": "markdown",
   "metadata": {},
   "source": [
    "**[Do not edit the contents of this cell]**\n",
    "\n",
    "### Part 2\n",
    "\n",
    "Produce a plot to illustrate the distribution of variables sex, mass, ethnicity, metabolite_A. Choose the most appropriate visualisation depending on the type of each variable."
   ]
  },
  {
   "cell_type": "code",
   "execution_count": 181,
   "metadata": {},
   "outputs": [
    {
     "data": {
      "text/html": [
       "<div>\n",
       "<style scoped>\n",
       "    .dataframe tbody tr th:only-of-type {\n",
       "        vertical-align: middle;\n",
       "    }\n",
       "\n",
       "    .dataframe tbody tr th {\n",
       "        vertical-align: top;\n",
       "    }\n",
       "\n",
       "    .dataframe thead th {\n",
       "        text-align: right;\n",
       "    }\n",
       "</style>\n",
       "<table border=\"1\" class=\"dataframe\">\n",
       "  <thead>\n",
       "    <tr style=\"text-align: right;\">\n",
       "      <th></th>\n",
       "      <th>sex</th>\n",
       "      <th>height</th>\n",
       "      <th>mass</th>\n",
       "      <th>smoker</th>\n",
       "      <th>ethnicity</th>\n",
       "      <th>metabolite_A</th>\n",
       "      <th>metabolite_B</th>\n",
       "      <th>metabolite_C</th>\n",
       "      <th>metabolite_D</th>\n",
       "      <th>metabolite_E</th>\n",
       "    </tr>\n",
       "    <tr>\n",
       "      <th>subject</th>\n",
       "      <th></th>\n",
       "      <th></th>\n",
       "      <th></th>\n",
       "      <th></th>\n",
       "      <th></th>\n",
       "      <th></th>\n",
       "      <th></th>\n",
       "      <th></th>\n",
       "      <th></th>\n",
       "      <th></th>\n",
       "    </tr>\n",
       "  </thead>\n",
       "  <tbody>\n",
       "    <tr>\n",
       "      <th>ID18</th>\n",
       "      <td>0</td>\n",
       "      <td>177.942864</td>\n",
       "      <td>80.523783</td>\n",
       "      <td>1</td>\n",
       "      <td>Other</td>\n",
       "      <td>0.919727</td>\n",
       "      <td>1.860333</td>\n",
       "      <td>0.228201</td>\n",
       "      <td>5.488476</td>\n",
       "      <td>11.25401</td>\n",
       "    </tr>\n",
       "    <tr>\n",
       "      <th>ID18</th>\n",
       "      <td>0</td>\n",
       "      <td>177.942864</td>\n",
       "      <td>80.523783</td>\n",
       "      <td>1</td>\n",
       "      <td>Other</td>\n",
       "      <td>0.919727</td>\n",
       "      <td>1.860333</td>\n",
       "      <td>0.228201</td>\n",
       "      <td>5.488476</td>\n",
       "      <td>11.25401</td>\n",
       "    </tr>\n",
       "  </tbody>\n",
       "</table>\n",
       "</div>"
      ],
      "text/plain": [
       "         sex      height       mass  smoker ethnicity  metabolite_A  \\\n",
       "subject                                                               \n",
       "ID18       0  177.942864  80.523783       1     Other      0.919727   \n",
       "ID18       0  177.942864  80.523783       1     Other      0.919727   \n",
       "\n",
       "         metabolite_B  metabolite_C  metabolite_D  metabolite_E  \n",
       "subject                                                          \n",
       "ID18         1.860333      0.228201      5.488476      11.25401  \n",
       "ID18         1.860333      0.228201      5.488476      11.25401  "
      ]
     },
     "execution_count": 181,
     "metadata": {},
     "output_type": "execute_result"
    }
   ],
   "source": [
    "# Prior to plotting distribution I will deal with duplicates\n",
    "association_indep_df.loc[association_indep_df.duplicated(keep=False),:]"
   ]
  },
  {
   "cell_type": "code",
   "execution_count": 194,
   "metadata": {
    "scrolled": true
   },
   "outputs": [],
   "source": [
    "association_indep_df.drop_duplicates(keep='first', inplace=True)\n",
    "association_dep_df.drop_duplicates(keep='first', inplace=True)"
   ]
  },
  {
   "cell_type": "code",
   "execution_count": 195,
   "metadata": {},
   "outputs": [
    {
     "data": {
      "text/plain": [
       "(105,)"
      ]
     },
     "execution_count": 195,
     "metadata": {},
     "output_type": "execute_result"
    }
   ],
   "source": [
    "association_indep_df.shape # I have removed the second of the duplicated ID18 training examples\n",
    "association_dep_df.shape # I have removed the second of the duplicated ID18 training examples"
   ]
  },
  {
   "cell_type": "code",
   "execution_count": 196,
   "metadata": {},
   "outputs": [
    {
     "data": {
      "text/html": [
       "<div>\n",
       "<style scoped>\n",
       "    .dataframe tbody tr th:only-of-type {\n",
       "        vertical-align: middle;\n",
       "    }\n",
       "\n",
       "    .dataframe tbody tr th {\n",
       "        vertical-align: top;\n",
       "    }\n",
       "\n",
       "    .dataframe thead th {\n",
       "        text-align: right;\n",
       "    }\n",
       "</style>\n",
       "<table border=\"1\" class=\"dataframe\">\n",
       "  <thead>\n",
       "    <tr style=\"text-align: right;\">\n",
       "      <th></th>\n",
       "      <th>sex</th>\n",
       "      <th>height</th>\n",
       "      <th>mass</th>\n",
       "      <th>smoker</th>\n",
       "      <th>ethnicity</th>\n",
       "      <th>metabolite_A</th>\n",
       "      <th>metabolite_B</th>\n",
       "      <th>metabolite_C</th>\n",
       "      <th>metabolite_D</th>\n",
       "      <th>metabolite_E</th>\n",
       "      <th>BMI</th>\n",
       "    </tr>\n",
       "    <tr>\n",
       "      <th>subject</th>\n",
       "      <th></th>\n",
       "      <th></th>\n",
       "      <th></th>\n",
       "      <th></th>\n",
       "      <th></th>\n",
       "      <th></th>\n",
       "      <th></th>\n",
       "      <th></th>\n",
       "      <th></th>\n",
       "      <th></th>\n",
       "      <th></th>\n",
       "    </tr>\n",
       "  </thead>\n",
       "  <tbody>\n",
       "    <tr>\n",
       "      <th>ID23</th>\n",
       "      <td>1</td>\n",
       "      <td>177.870009</td>\n",
       "      <td>70.992259</td>\n",
       "      <td>0</td>\n",
       "      <td>Black/African/Caribbean</td>\n",
       "      <td>NaN</td>\n",
       "      <td>1.274922</td>\n",
       "      <td>0.306667</td>\n",
       "      <td>4.953703</td>\n",
       "      <td>10.237791</td>\n",
       "      <td>22.439106</td>\n",
       "    </tr>\n",
       "    <tr>\n",
       "      <th>ID87</th>\n",
       "      <td>1</td>\n",
       "      <td>178.793400</td>\n",
       "      <td>72.141244</td>\n",
       "      <td>0</td>\n",
       "      <td>Black/African/Caribbean</td>\n",
       "      <td>NaN</td>\n",
       "      <td>1.868261</td>\n",
       "      <td>0.201052</td>\n",
       "      <td>4.219526</td>\n",
       "      <td>8.662771</td>\n",
       "      <td>22.567355</td>\n",
       "    </tr>\n",
       "  </tbody>\n",
       "</table>\n",
       "</div>"
      ],
      "text/plain": [
       "         sex      height       mass  smoker                ethnicity  \\\n",
       "subject                                                                \n",
       "ID23       1  177.870009  70.992259       0  Black/African/Caribbean   \n",
       "ID87       1  178.793400  72.141244       0  Black/African/Caribbean   \n",
       "\n",
       "         metabolite_A  metabolite_B  metabolite_C  metabolite_D  metabolite_E  \\\n",
       "subject                                                                         \n",
       "ID23              NaN      1.274922      0.306667      4.953703     10.237791   \n",
       "ID87              NaN      1.868261      0.201052      4.219526      8.662771   \n",
       "\n",
       "               BMI  \n",
       "subject             \n",
       "ID23     22.439106  \n",
       "ID87     22.567355  "
      ]
     },
     "execution_count": 196,
     "metadata": {},
     "output_type": "execute_result"
    }
   ],
   "source": [
    "# Given that the data set is small I do not want to discard entries, hence I will use imputaitoin to fill NaN values.\n",
    "\n",
    "association_indep_df[association_indep_df.isnull().values]\n",
    "# association_df.isnull().sum()\n",
    "# association_df[association_df['metabolite_A'].isnull()]"
   ]
  },
  {
   "cell_type": "code",
   "execution_count": 197,
   "metadata": {},
   "outputs": [
    {
     "data": {
      "text/plain": [
       "(103, 11)"
      ]
     },
     "execution_count": 197,
     "metadata": {},
     "output_type": "execute_result"
    }
   ],
   "source": [
    "# Create a new dataframe containing only completed values.\n",
    "association_indep_full_df = association_indep_df.dropna()\n",
    "association_indep_full_df.shape"
   ]
  },
  {
   "cell_type": "code",
   "execution_count": 198,
   "metadata": {},
   "outputs": [],
   "source": [
    "# met_A_median = association_indep_df['metabolite_A'].median()\n",
    "# print(met_A_median)\n",
    "\n",
    "# association_indep_df['metabolite_A'].fillna(value = met_A_median, inplace=True)\n",
    "\n",
    "# association_indep_df.isnull().sum()\n",
    "# association_indep_df.iloc[[9,34]]"
   ]
  },
  {
   "cell_type": "code",
   "execution_count": 199,
   "metadata": {},
   "outputs": [
    {
     "name": "stderr",
     "output_type": "stream",
     "text": [
      "/home/patrick/anaconda3/lib/python3.7/site-packages/scipy/stats/stats.py:1713: FutureWarning: Using a non-tuple sequence for multidimensional indexing is deprecated; use `arr[tuple(seq)]` instead of `arr[seq]`. In the future this will be interpreted as an array index, `arr[np.array(seq)]`, which will result either in an error or a different result.\n",
      "  return np.add.reduce(sorted[indexer] * weights, axis=axis) / sumval\n"
     ]
    },
    {
     "data": {
      "image/png": "[encoded data removed]",
      "text/plain": [
       "<Figure size 1008x864 with 4 Axes>"
      ]
     },
     "metadata": {},
     "output_type": "display_data"
    }
   ],
   "source": [
    "# [Write your code in this cell]\n",
    "sns.set(style=\"darkgrid\")\n",
    "\n",
    "\n",
    "fig = plt.figure(figsize=(14,12))\n",
    "fig.add_subplot(2,2,1)\n",
    "# sns.countplot(x=\"class\", data=titanic)\n",
    "sns.countplot(association_indep_full_df['sex'])\n",
    "plt.title('Gender Counts', y=0.94, x=0.85)\n",
    "\n",
    "fig.add_subplot(2,2,2)\n",
    "sns.countplot(association_indep_full_df['ethnicity'])\n",
    "plt.title('Ethnicity Counts', y=0.94, x=0.85)\n",
    "\n",
    "fig.add_subplot(2,2,3)\n",
    "sns.distplot(association_indep_full_df['mass'])\n",
    "plt.title('Mass Distribution', y=0.94, x=0.86)\n",
    "\n",
    "fig.add_subplot(2,2,4)\n",
    "sns.distplot(association_indep_full_df['metabolite_A'])\n",
    "plt.title('Metabolite_A Distribution', y=0.94, x=0.77)\n",
    "\n",
    "plt.show()\n",
    "# ax = fig.add_subplot(2, 2,1)"
   ]
  },
  {
   "cell_type": "markdown",
   "metadata": {},
   "source": [
    "**[Do not edit the contents of this cell]**\n",
    "\n",
    "### Part 3\n",
    "\n",
    "Write a function that returns the Body Mass Index (BMI).Calculate BMI for each subject and add it as new variable in the data set."
   ]
  },
  {
   "cell_type": "code",
   "execution_count": 200,
   "metadata": {},
   "outputs": [],
   "source": [
    "# [Write your code in this cell]\n",
    "\n",
    "association_indep_df['BMI'] = association_indep_df['mass']/(association_indep_df['height']/100)**2"
   ]
  },
  {
   "cell_type": "code",
   "execution_count": 201,
   "metadata": {},
   "outputs": [
    {
     "data": {
      "text/html": [
       "<div>\n",
       "<style scoped>\n",
       "    .dataframe tbody tr th:only-of-type {\n",
       "        vertical-align: middle;\n",
       "    }\n",
       "\n",
       "    .dataframe tbody tr th {\n",
       "        vertical-align: top;\n",
       "    }\n",
       "\n",
       "    .dataframe thead th {\n",
       "        text-align: right;\n",
       "    }\n",
       "</style>\n",
       "<table border=\"1\" class=\"dataframe\">\n",
       "  <thead>\n",
       "    <tr style=\"text-align: right;\">\n",
       "      <th></th>\n",
       "      <th>sex</th>\n",
       "      <th>height</th>\n",
       "      <th>mass</th>\n",
       "      <th>smoker</th>\n",
       "      <th>ethnicity</th>\n",
       "      <th>metabolite_A</th>\n",
       "      <th>metabolite_B</th>\n",
       "      <th>metabolite_C</th>\n",
       "      <th>metabolite_D</th>\n",
       "      <th>metabolite_E</th>\n",
       "      <th>BMI</th>\n",
       "    </tr>\n",
       "    <tr>\n",
       "      <th>subject</th>\n",
       "      <th></th>\n",
       "      <th></th>\n",
       "      <th></th>\n",
       "      <th></th>\n",
       "      <th></th>\n",
       "      <th></th>\n",
       "      <th></th>\n",
       "      <th></th>\n",
       "      <th></th>\n",
       "      <th></th>\n",
       "      <th></th>\n",
       "    </tr>\n",
       "  </thead>\n",
       "  <tbody>\n",
       "    <tr>\n",
       "      <th>ID85</th>\n",
       "      <td>1</td>\n",
       "      <td>171.476882</td>\n",
       "      <td>71.070214</td>\n",
       "      <td>0</td>\n",
       "      <td>Asian</td>\n",
       "      <td>0.777283</td>\n",
       "      <td>1.544216</td>\n",
       "      <td>0.200118</td>\n",
       "      <td>4.963626</td>\n",
       "      <td>9.981923</td>\n",
       "      <td>24.169990</td>\n",
       "    </tr>\n",
       "    <tr>\n",
       "      <th>ID86</th>\n",
       "      <td>0</td>\n",
       "      <td>186.503967</td>\n",
       "      <td>80.276194</td>\n",
       "      <td>0</td>\n",
       "      <td>Black/African/Caribbean</td>\n",
       "      <td>0.984182</td>\n",
       "      <td>2.040572</td>\n",
       "      <td>0.293487</td>\n",
       "      <td>5.250400</td>\n",
       "      <td>10.745194</td>\n",
       "      <td>23.078662</td>\n",
       "    </tr>\n",
       "    <tr>\n",
       "      <th>ID48</th>\n",
       "      <td>1</td>\n",
       "      <td>177.289453</td>\n",
       "      <td>70.102716</td>\n",
       "      <td>1</td>\n",
       "      <td>Other</td>\n",
       "      <td>0.989442</td>\n",
       "      <td>1.983742</td>\n",
       "      <td>0.410665</td>\n",
       "      <td>4.302722</td>\n",
       "      <td>9.032480</td>\n",
       "      <td>22.303296</td>\n",
       "    </tr>\n",
       "    <tr>\n",
       "      <th>ID4</th>\n",
       "      <td>0</td>\n",
       "      <td>182.755756</td>\n",
       "      <td>76.286511</td>\n",
       "      <td>0</td>\n",
       "      <td>White</td>\n",
       "      <td>0.998088</td>\n",
       "      <td>1.940030</td>\n",
       "      <td>0.183667</td>\n",
       "      <td>4.243840</td>\n",
       "      <td>8.597430</td>\n",
       "      <td>22.840501</td>\n",
       "    </tr>\n",
       "    <tr>\n",
       "      <th>ID63</th>\n",
       "      <td>1</td>\n",
       "      <td>178.761595</td>\n",
       "      <td>70.987086</td>\n",
       "      <td>0</td>\n",
       "      <td>Asian</td>\n",
       "      <td>0.893859</td>\n",
       "      <td>1.794609</td>\n",
       "      <td>0.554105</td>\n",
       "      <td>4.006878</td>\n",
       "      <td>8.530953</td>\n",
       "      <td>22.214212</td>\n",
       "    </tr>\n",
       "  </tbody>\n",
       "</table>\n",
       "</div>"
      ],
      "text/plain": [
       "         sex      height       mass  smoker                ethnicity  \\\n",
       "subject                                                                \n",
       "ID85       1  171.476882  71.070214       0                    Asian   \n",
       "ID86       0  186.503967  80.276194       0  Black/African/Caribbean   \n",
       "ID48       1  177.289453  70.102716       1                    Other   \n",
       "ID4        0  182.755756  76.286511       0                    White   \n",
       "ID63       1  178.761595  70.987086       0                    Asian   \n",
       "\n",
       "         metabolite_A  metabolite_B  metabolite_C  metabolite_D  metabolite_E  \\\n",
       "subject                                                                         \n",
       "ID85         0.777283      1.544216      0.200118      4.963626      9.981923   \n",
       "ID86         0.984182      2.040572      0.293487      5.250400     10.745194   \n",
       "ID48         0.989442      1.983742      0.410665      4.302722      9.032480   \n",
       "ID4          0.998088      1.940030      0.183667      4.243840      8.597430   \n",
       "ID63         0.893859      1.794609      0.554105      4.006878      8.530953   \n",
       "\n",
       "               BMI  \n",
       "subject             \n",
       "ID85     24.169990  \n",
       "ID86     23.078662  \n",
       "ID48     22.303296  \n",
       "ID4      22.840501  \n",
       "ID63     22.214212  "
      ]
     },
     "execution_count": 201,
     "metadata": {},
     "output_type": "execute_result"
    }
   ],
   "source": [
    "association_indep_df.head(5)"
   ]
  },
  {
   "cell_type": "markdown",
   "metadata": {},
   "source": [
    "**[Do not edit the contents of this cell]**\n",
    "\n",
    "### Part 4\n",
    "\n",
    "Calculate the correlation matrix between numerical predictors. Use this information to impute any missing values, if possible."
   ]
  },
  {
   "cell_type": "code",
   "execution_count": 202,
   "metadata": {
    "scrolled": true
   },
   "outputs": [],
   "source": [
    "# [Write your code in this cell]\n",
    "# df.drop(['B', 'C'], axis=1)\n",
    "\n",
    "association_num_df = association_indep_df.drop(['sex', 'smoker', 'ethnicity'], axis=1)\n",
    "# association_num_df"
   ]
  },
  {
   "cell_type": "code",
   "execution_count": 203,
   "metadata": {},
   "outputs": [
    {
     "data": {
      "text/html": [
       "<div>\n",
       "<style scoped>\n",
       "    .dataframe tbody tr th:only-of-type {\n",
       "        vertical-align: middle;\n",
       "    }\n",
       "\n",
       "    .dataframe tbody tr th {\n",
       "        vertical-align: top;\n",
       "    }\n",
       "\n",
       "    .dataframe thead th {\n",
       "        text-align: right;\n",
       "    }\n",
       "</style>\n",
       "<table border=\"1\" class=\"dataframe\">\n",
       "  <thead>\n",
       "    <tr style=\"text-align: right;\">\n",
       "      <th></th>\n",
       "      <th>height</th>\n",
       "      <th>mass</th>\n",
       "      <th>metabolite_A</th>\n",
       "      <th>metabolite_B</th>\n",
       "      <th>metabolite_C</th>\n",
       "      <th>metabolite_D</th>\n",
       "      <th>metabolite_E</th>\n",
       "      <th>BMI</th>\n",
       "    </tr>\n",
       "  </thead>\n",
       "  <tbody>\n",
       "    <tr>\n",
       "      <th>height</th>\n",
       "      <td>1.000000</td>\n",
       "      <td>-0.025994</td>\n",
       "      <td>0.001490</td>\n",
       "      <td>0.009982</td>\n",
       "      <td>0.168668</td>\n",
       "      <td>-0.030849</td>\n",
       "      <td>-0.007210</td>\n",
       "      <td>-0.635011</td>\n",
       "    </tr>\n",
       "    <tr>\n",
       "      <th>mass</th>\n",
       "      <td>-0.025994</td>\n",
       "      <td>1.000000</td>\n",
       "      <td>-0.078896</td>\n",
       "      <td>-0.052697</td>\n",
       "      <td>-0.049396</td>\n",
       "      <td>0.080060</td>\n",
       "      <td>0.062709</td>\n",
       "      <td>0.786219</td>\n",
       "    </tr>\n",
       "    <tr>\n",
       "      <th>metabolite_A</th>\n",
       "      <td>0.001490</td>\n",
       "      <td>-0.078896</td>\n",
       "      <td>1.000000</td>\n",
       "      <td>0.983715</td>\n",
       "      <td>-0.067958</td>\n",
       "      <td>-0.185901</td>\n",
       "      <td>-0.194760</td>\n",
       "      <td>-0.055390</td>\n",
       "    </tr>\n",
       "    <tr>\n",
       "      <th>metabolite_B</th>\n",
       "      <td>0.009982</td>\n",
       "      <td>-0.052697</td>\n",
       "      <td>0.983715</td>\n",
       "      <td>1.000000</td>\n",
       "      <td>-0.062237</td>\n",
       "      <td>-0.182491</td>\n",
       "      <td>-0.191910</td>\n",
       "      <td>-0.039499</td>\n",
       "    </tr>\n",
       "    <tr>\n",
       "      <th>metabolite_C</th>\n",
       "      <td>0.168668</td>\n",
       "      <td>-0.049396</td>\n",
       "      <td>-0.067958</td>\n",
       "      <td>-0.062237</td>\n",
       "      <td>1.000000</td>\n",
       "      <td>0.114041</td>\n",
       "      <td>0.196326</td>\n",
       "      <td>-0.144810</td>\n",
       "    </tr>\n",
       "    <tr>\n",
       "      <th>metabolite_D</th>\n",
       "      <td>-0.030849</td>\n",
       "      <td>0.080060</td>\n",
       "      <td>-0.185901</td>\n",
       "      <td>-0.182491</td>\n",
       "      <td>0.114041</td>\n",
       "      <td>1.000000</td>\n",
       "      <td>0.994901</td>\n",
       "      <td>0.084319</td>\n",
       "    </tr>\n",
       "    <tr>\n",
       "      <th>metabolite_E</th>\n",
       "      <td>-0.007210</td>\n",
       "      <td>0.062709</td>\n",
       "      <td>-0.194760</td>\n",
       "      <td>-0.191910</td>\n",
       "      <td>0.196326</td>\n",
       "      <td>0.994901</td>\n",
       "      <td>1.000000</td>\n",
       "      <td>0.055517</td>\n",
       "    </tr>\n",
       "    <tr>\n",
       "      <th>BMI</th>\n",
       "      <td>-0.635011</td>\n",
       "      <td>0.786219</td>\n",
       "      <td>-0.055390</td>\n",
       "      <td>-0.039499</td>\n",
       "      <td>-0.144810</td>\n",
       "      <td>0.084319</td>\n",
       "      <td>0.055517</td>\n",
       "      <td>1.000000</td>\n",
       "    </tr>\n",
       "  </tbody>\n",
       "</table>\n",
       "</div>"
      ],
      "text/plain": [
       "                height      mass  metabolite_A  metabolite_B  metabolite_C  \\\n",
       "height        1.000000 -0.025994      0.001490      0.009982      0.168668   \n",
       "mass         -0.025994  1.000000     -0.078896     -0.052697     -0.049396   \n",
       "metabolite_A  0.001490 -0.078896      1.000000      0.983715     -0.067958   \n",
       "metabolite_B  0.009982 -0.052697      0.983715      1.000000     -0.062237   \n",
       "metabolite_C  0.168668 -0.049396     -0.067958     -0.062237      1.000000   \n",
       "metabolite_D -0.030849  0.080060     -0.185901     -0.182491      0.114041   \n",
       "metabolite_E -0.007210  0.062709     -0.194760     -0.191910      0.196326   \n",
       "BMI          -0.635011  0.786219     -0.055390     -0.039499     -0.144810   \n",
       "\n",
       "              metabolite_D  metabolite_E       BMI  \n",
       "height           -0.030849     -0.007210 -0.635011  \n",
       "mass              0.080060      0.062709  0.786219  \n",
       "metabolite_A     -0.185901     -0.194760 -0.055390  \n",
       "metabolite_B     -0.182491     -0.191910 -0.039499  \n",
       "metabolite_C      0.114041      0.196326 -0.144810  \n",
       "metabolite_D      1.000000      0.994901  0.084319  \n",
       "metabolite_E      0.994901      1.000000  0.055517  \n",
       "BMI               0.084319      0.055517  1.000000  "
      ]
     },
     "execution_count": 203,
     "metadata": {},
     "output_type": "execute_result"
    },
    {
     "data": {
      "image/png": "[encoded data removed]",
      "text/plain": [
       "<Figure size 432x288 with 2 Axes>"
      ]
     },
     "metadata": {},
     "output_type": "display_data"
    }
   ],
   "source": [
    "corr = association_num_df.corr()\n",
    "sns.heatmap(corr)\n",
    "corr\n",
    "# from pandas.tools.plotting import scatter_matrix\n",
    "# scatter_matrix(association_num_df, figsize=(15, 10))"
   ]
  },
  {
   "cell_type": "code",
   "execution_count": 204,
   "metadata": {},
   "outputs": [],
   "source": [
    "# import statsmodels.api as sm\n",
    "\n",
    "# X = association_full_df['metabolite_B']\n",
    "# X = sm.add_constant(X) ## let's add an intercept (beta_0) to our model\n",
    "# y = association_full_df['metabolite_A']\n",
    "\n",
    "# # Note the difference in argument order\n",
    "# model = sm.OLS(y, X).fit()\n",
    "\n",
    "# predictions = model.predict(X) # make the predictions by the model\n",
    "\n",
    "# # Print out the statistics\n",
    "# model.summary()\n",
    "\n",
    "# intercept = 0.0332\n",
    "# coeff = 0.4795\n",
    "\n",
    "\n",
    "# association_df['metabolite_B'][9] * coeff + intercept\n",
    "\n",
    "# association_df['metabolite_B'][34] * coeff + intercept\n",
    "\n",
    "# model.predict(10)\n",
    "\n"
   ]
  },
  {
   "cell_type": "code",
   "execution_count": 209,
   "metadata": {
    "scrolled": true
   },
   "outputs": [],
   "source": [
    "# association_df = pd.read_csv('association.csv')\n",
    "from sklearn.linear_model import LinearRegression\n",
    "\n",
    "# X = association_indep_full_df['metabolite_B']\n",
    "# Y = association_indep_full_df['metabolite_A']\n",
    "\n",
    "lin_reg = LinearRegression()\n",
    "\n",
    "X = association_indep_full_df['metabolite_B'].values\n",
    "X = X.reshape(103,1)\n",
    "Y = association_indep_full_df['metabolite_A'].values\n",
    "Y = Y.reshape(103,1)\n",
    "\n",
    "model = lin_reg.fit(X,Y)\n",
    "# X.shape"
   ]
  },
  {
   "cell_type": "code",
   "execution_count": 210,
   "metadata": {},
   "outputs": [],
   "source": [
    "# trial loc methods\n",
    "# association_df.xs(9)['metabolite_A'] = lin_reg.predict(association_df['metabolite_B'][9])[0][0]\n",
    "# association_df.xs(34)['metabolite_A'] = lin_reg.predict(association_df['metabolite_B'][34])[0][0]"
   ]
  },
  {
   "cell_type": "code",
   "execution_count": 211,
   "metadata": {},
   "outputs": [
    {
     "data": {
      "text/html": [
       "<div>\n",
       "<style scoped>\n",
       "    .dataframe tbody tr th:only-of-type {\n",
       "        vertical-align: middle;\n",
       "    }\n",
       "\n",
       "    .dataframe tbody tr th {\n",
       "        vertical-align: top;\n",
       "    }\n",
       "\n",
       "    .dataframe thead th {\n",
       "        text-align: right;\n",
       "    }\n",
       "</style>\n",
       "<table border=\"1\" class=\"dataframe\">\n",
       "  <thead>\n",
       "    <tr style=\"text-align: right;\">\n",
       "      <th></th>\n",
       "      <th>sex</th>\n",
       "      <th>height</th>\n",
       "      <th>mass</th>\n",
       "      <th>smoker</th>\n",
       "      <th>ethnicity</th>\n",
       "      <th>metabolite_A</th>\n",
       "      <th>metabolite_B</th>\n",
       "      <th>metabolite_C</th>\n",
       "      <th>metabolite_D</th>\n",
       "      <th>metabolite_E</th>\n",
       "      <th>BMI</th>\n",
       "    </tr>\n",
       "    <tr>\n",
       "      <th>subject</th>\n",
       "      <th></th>\n",
       "      <th></th>\n",
       "      <th></th>\n",
       "      <th></th>\n",
       "      <th></th>\n",
       "      <th></th>\n",
       "      <th></th>\n",
       "      <th></th>\n",
       "      <th></th>\n",
       "      <th></th>\n",
       "      <th></th>\n",
       "    </tr>\n",
       "  </thead>\n",
       "  <tbody>\n",
       "    <tr>\n",
       "      <th>ID23</th>\n",
       "      <td>1</td>\n",
       "      <td>177.870009</td>\n",
       "      <td>70.992259</td>\n",
       "      <td>0</td>\n",
       "      <td>Black/African/Caribbean</td>\n",
       "      <td>NaN</td>\n",
       "      <td>1.274922</td>\n",
       "      <td>0.306667</td>\n",
       "      <td>4.953703</td>\n",
       "      <td>10.237791</td>\n",
       "      <td>22.439106</td>\n",
       "    </tr>\n",
       "    <tr>\n",
       "      <th>ID87</th>\n",
       "      <td>1</td>\n",
       "      <td>178.793400</td>\n",
       "      <td>72.141244</td>\n",
       "      <td>0</td>\n",
       "      <td>Black/African/Caribbean</td>\n",
       "      <td>NaN</td>\n",
       "      <td>1.868261</td>\n",
       "      <td>0.201052</td>\n",
       "      <td>4.219526</td>\n",
       "      <td>8.662771</td>\n",
       "      <td>22.567355</td>\n",
       "    </tr>\n",
       "  </tbody>\n",
       "</table>\n",
       "</div>"
      ],
      "text/plain": [
       "         sex      height       mass  smoker                ethnicity  \\\n",
       "subject                                                                \n",
       "ID23       1  177.870009  70.992259       0  Black/African/Caribbean   \n",
       "ID87       1  178.793400  72.141244       0  Black/African/Caribbean   \n",
       "\n",
       "         metabolite_A  metabolite_B  metabolite_C  metabolite_D  metabolite_E  \\\n",
       "subject                                                                         \n",
       "ID23              NaN      1.274922      0.306667      4.953703     10.237791   \n",
       "ID87              NaN      1.868261      0.201052      4.219526      8.662771   \n",
       "\n",
       "               BMI  \n",
       "subject             \n",
       "ID23     22.439106  \n",
       "ID87     22.567355  "
      ]
     },
     "execution_count": 211,
     "metadata": {},
     "output_type": "execute_result"
    }
   ],
   "source": [
    "\n",
    "association_indep_df.loc[['ID23', 'ID87']]\n",
    "# association_df.loc['metabolite_A']"
   ]
  },
  {
   "cell_type": "code",
   "execution_count": 212,
   "metadata": {},
   "outputs": [
    {
     "data": {
      "text/plain": [
       "1.274922203025"
      ]
     },
     "execution_count": 212,
     "metadata": {},
     "output_type": "execute_result"
    }
   ],
   "source": [
    "association_indep_df['metabolite_B'][9]"
   ]
  },
  {
   "cell_type": "code",
   "execution_count": 213,
   "metadata": {},
   "outputs": [
    {
     "data": {
      "text/plain": [
       "1.274922203025"
      ]
     },
     "execution_count": 213,
     "metadata": {},
     "output_type": "execute_result"
    }
   ],
   "source": [
    "association_indep_df['metabolite_B'].loc['ID23']"
   ]
  },
  {
   "cell_type": "code",
   "execution_count": 214,
   "metadata": {},
   "outputs": [
    {
     "data": {
      "text/plain": [
       "0.6444997366952996"
      ]
     },
     "execution_count": 214,
     "metadata": {},
     "output_type": "execute_result"
    }
   ],
   "source": [
    "lin_reg.predict(association_df['metabolite_B'][9])[0][0]"
   ]
  },
  {
   "cell_type": "code",
   "execution_count": 215,
   "metadata": {},
   "outputs": [
    {
     "name": "stderr",
     "output_type": "stream",
     "text": [
      "/home/patrick/anaconda3/lib/python3.7/site-packages/pandas/core/indexing.py:189: SettingWithCopyWarning: \n",
      "A value is trying to be set on a copy of a slice from a DataFrame\n",
      "\n",
      "See the caveats in the documentation: http://pandas.pydata.org/pandas-docs/stable/indexing.html#indexing-view-versus-copy\n",
      "  self._setitem_with_indexer(indexer, value)\n"
     ]
    }
   ],
   "source": [
    "association_indep_df['metabolite_A'].loc[['ID23']] = lin_reg.predict(association_df['metabolite_B'].loc['ID23'])[0][0]\n",
    "association_indep_df['metabolite_A'].loc[['ID87']] = lin_reg.predict(association_df['metabolite_B'].loc['ID87'])[0][0]\n",
    "# association_df.loc[['ID87']] = lin_reg.predict(association_df['metabolite_B'][34])[0][0]"
   ]
  },
  {
   "cell_type": "code",
   "execution_count": null,
   "metadata": {},
   "outputs": [],
   "source": []
  },
  {
   "cell_type": "code",
   "execution_count": 216,
   "metadata": {},
   "outputs": [
    {
     "data": {
      "text/html": [
       "<div>\n",
       "<style scoped>\n",
       "    .dataframe tbody tr th:only-of-type {\n",
       "        vertical-align: middle;\n",
       "    }\n",
       "\n",
       "    .dataframe tbody tr th {\n",
       "        vertical-align: top;\n",
       "    }\n",
       "\n",
       "    .dataframe thead th {\n",
       "        text-align: right;\n",
       "    }\n",
       "</style>\n",
       "<table border=\"1\" class=\"dataframe\">\n",
       "  <thead>\n",
       "    <tr style=\"text-align: right;\">\n",
       "      <th></th>\n",
       "      <th>sex</th>\n",
       "      <th>height</th>\n",
       "      <th>mass</th>\n",
       "      <th>smoker</th>\n",
       "      <th>ethnicity</th>\n",
       "      <th>metabolite_A</th>\n",
       "      <th>metabolite_B</th>\n",
       "      <th>metabolite_C</th>\n",
       "      <th>metabolite_D</th>\n",
       "      <th>metabolite_E</th>\n",
       "      <th>BMI</th>\n",
       "    </tr>\n",
       "    <tr>\n",
       "      <th>subject</th>\n",
       "      <th></th>\n",
       "      <th></th>\n",
       "      <th></th>\n",
       "      <th></th>\n",
       "      <th></th>\n",
       "      <th></th>\n",
       "      <th></th>\n",
       "      <th></th>\n",
       "      <th></th>\n",
       "      <th></th>\n",
       "      <th></th>\n",
       "    </tr>\n",
       "  </thead>\n",
       "  <tbody>\n",
       "    <tr>\n",
       "      <th>ID23</th>\n",
       "      <td>1</td>\n",
       "      <td>177.870009</td>\n",
       "      <td>70.992259</td>\n",
       "      <td>0</td>\n",
       "      <td>Black/African/Caribbean</td>\n",
       "      <td>0.644500</td>\n",
       "      <td>1.274922</td>\n",
       "      <td>0.306667</td>\n",
       "      <td>4.953703</td>\n",
       "      <td>10.237791</td>\n",
       "      <td>22.439106</td>\n",
       "    </tr>\n",
       "    <tr>\n",
       "      <th>ID87</th>\n",
       "      <td>1</td>\n",
       "      <td>178.793400</td>\n",
       "      <td>72.141244</td>\n",
       "      <td>0</td>\n",
       "      <td>Black/African/Caribbean</td>\n",
       "      <td>0.929075</td>\n",
       "      <td>1.868261</td>\n",
       "      <td>0.201052</td>\n",
       "      <td>4.219526</td>\n",
       "      <td>8.662771</td>\n",
       "      <td>22.567355</td>\n",
       "    </tr>\n",
       "  </tbody>\n",
       "</table>\n",
       "</div>"
      ],
      "text/plain": [
       "         sex      height       mass  smoker                ethnicity  \\\n",
       "subject                                                                \n",
       "ID23       1  177.870009  70.992259       0  Black/African/Caribbean   \n",
       "ID87       1  178.793400  72.141244       0  Black/African/Caribbean   \n",
       "\n",
       "         metabolite_A  metabolite_B  metabolite_C  metabolite_D  metabolite_E  \\\n",
       "subject                                                                         \n",
       "ID23         0.644500      1.274922      0.306667      4.953703     10.237791   \n",
       "ID87         0.929075      1.868261      0.201052      4.219526      8.662771   \n",
       "\n",
       "               BMI  \n",
       "subject             \n",
       "ID23     22.439106  \n",
       "ID87     22.567355  "
      ]
     },
     "execution_count": 216,
     "metadata": {},
     "output_type": "execute_result"
    }
   ],
   "source": [
    "association_indep_df.loc[['ID23', 'ID87']]\n",
    "\n",
    "# association_df.isnull().sum()"
   ]
  },
  {
   "cell_type": "code",
   "execution_count": null,
   "metadata": {},
   "outputs": [],
   "source": []
  },
  {
   "cell_type": "markdown",
   "metadata": {},
   "source": [
    "**[Do not edit the contents of this cell]**\n",
    "\n",
    "### Part 5\n",
    "\n",
    "Assuming that a disease status is recorded when the disease score is greater than 5, add a new response variable in the dataset defining the diseases status of each subject."
   ]
  },
  {
   "cell_type": "code",
   "execution_count": 217,
   "metadata": {},
   "outputs": [
    {
     "data": {
      "text/plain": [
       "(105,)"
      ]
     },
     "execution_count": 217,
     "metadata": {},
     "output_type": "execute_result"
    }
   ],
   "source": [
    "association_dep_df.shape"
   ]
  },
  {
   "cell_type": "code",
   "execution_count": 218,
   "metadata": {},
   "outputs": [],
   "source": [
    "# [Write your code in this cell]\n",
    "association_indep_df['disease_status'] = np.where(association_dep_df > 5, 1, 0)\n",
    "\n",
    "# 14 diseased people\n",
    "# association_indep_df['disease_status'].sum()"
   ]
  },
  {
   "cell_type": "code",
   "execution_count": 219,
   "metadata": {},
   "outputs": [
    {
     "data": {
      "text/plain": [
       "14"
      ]
     },
     "execution_count": 219,
     "metadata": {},
     "output_type": "execute_result"
    }
   ],
   "source": [
    "association_indep_df['disease_status'].sum()"
   ]
  },
  {
   "cell_type": "code",
   "execution_count": null,
   "metadata": {},
   "outputs": [],
   "source": []
  },
  {
   "cell_type": "markdown",
   "metadata": {},
   "source": [
    "**[Do not edit the contents of this cell]**\n",
    "\n",
    "## Problem 2: hypothesis testing\n",
    "\n",
    "Starting from the same dataset in Problem 1, provide answers for the following questions.\n",
    "\n",
    "### Part 1\n",
    "\n",
    "Given this sample space of subjects, what is the probability that a given subject is diagnosed as diseased? What is the probability that a subject is diagnosed as diseased given that he/she is not a smoker?"
   ]
  },
  {
   "cell_type": "code",
   "execution_count": 220,
   "metadata": {},
   "outputs": [
    {
     "data": {
      "text/plain": [
       "disease_status\n",
       "0    0.866667\n",
       "1    0.133333\n",
       "dtype: float64"
      ]
     },
     "execution_count": 220,
     "metadata": {},
     "output_type": "execute_result"
    }
   ],
   "source": [
    "# [Write your code in this cell]\n",
    "\n",
    "association_indep_df.groupby('disease_status').size().div(len(association_indep_df))"
   ]
  },
  {
   "cell_type": "code",
   "execution_count": 221,
   "metadata": {},
   "outputs": [
    {
     "data": {
      "text/plain": [
       "smoker  disease_status\n",
       "0       0                 74\n",
       "        1                  7\n",
       "1       0                 17\n",
       "        1                  7\n",
       "dtype: int64"
      ]
     },
     "execution_count": 221,
     "metadata": {},
     "output_type": "execute_result"
    }
   ],
   "source": [
    "association_indep_df.groupby(['smoker', 'disease_status']).size()\n"
   ]
  },
  {
   "cell_type": "code",
   "execution_count": 222,
   "metadata": {},
   "outputs": [
    {
     "data": {
      "text/plain": [
       "smoker\n",
       "0    81\n",
       "1    24\n",
       "dtype: int64"
      ]
     },
     "execution_count": 222,
     "metadata": {},
     "output_type": "execute_result"
    }
   ],
   "source": [
    "# association_indep_df.groupby('disease_status').size()\n",
    "association_indep_df.groupby('smoker').size()"
   ]
  },
  {
   "cell_type": "code",
   "execution_count": 223,
   "metadata": {},
   "outputs": [
    {
     "data": {
      "text/plain": [
       "0.08641975308641975"
      ]
     },
     "execution_count": 223,
     "metadata": {},
     "output_type": "execute_result"
    }
   ],
   "source": [
    "# non smokers who are disease\n",
    "7/81"
   ]
  },
  {
   "cell_type": "markdown",
   "metadata": {},
   "source": [
    "**[Provide your answer here]**\n",
    "- The probability that a subject is diseased is: xxx\n",
    "- The probability that a subject is diseased given that she/he is not a smoker is: xxx"
   ]
  },
  {
   "cell_type": "markdown",
   "metadata": {},
   "source": [
    "**[Do not edit the contents of this cell]**\n",
    "\n",
    "### Part 2\n",
    "\n",
    "Assuming that they are Normally distributed, estimate mean and variance for the distributions of height and mass separately for males and females. Use **either** a frequentist **or** likelihoodist **or** Bayesian approach."
   ]
  },
  {
   "cell_type": "code",
   "execution_count": 224,
   "metadata": {},
   "outputs": [
    {
     "name": "stdout",
     "output_type": "stream",
     "text": [
      "Height\n",
      "Mean woman height: 178.18186776141937\n",
      "Variance woman height: 21.17244615491872\n",
      "Mean man height: 178.77109675031406\n",
      "Variance man height: 27.03025338771781\n",
      "\n",
      "Mass\n",
      "Mean woman mass: 70.33025107998441\n",
      "Variance woman mass: 4.053329369363679\n",
      "Mean man mass: 80.10691251520628\n",
      "Variance man mass: 3.487426146492937\n"
     ]
    }
   ],
   "source": [
    "# [Write your code in this cell]\n",
    "\n",
    "print('Height')\n",
    "print('Mean woman height: ' + str(association_indep_df.loc[association_indep_df['sex'] == 1]['height'].mean()))\n",
    "print('Variance woman height: ' + str(association_indep_df.loc[association_indep_df['sex'] == 1]['height'].var()))\n",
    "\n",
    "print('Mean man height: ' + str(association_indep_df.loc[association_indep_df['sex'] == 0]['height'].mean()))\n",
    "print('Variance man height: ' + str(association_indep_df.loc[association_indep_df['sex'] == 0]['height'].var()))\n",
    "\n",
    "\n",
    "print('\\nMass')\n",
    "print('Mean woman mass: ' + str(association_indep_df.loc[association_indep_df['sex'] == 1]['mass'].mean()))\n",
    "print('Variance woman mass: ' + str(association_indep_df.loc[association_indep_df['sex'] == 1]['mass'].var()))\n",
    "\n",
    "print('Mean man mass: ' + str(association_indep_df.loc[association_indep_df['sex'] == 0]['mass'].mean()))\n",
    "print('Variance man mass: ' + str(association_indep_df.loc[association_indep_df['sex'] == 0]['mass'].var()))\n",
    "\n",
    "\n",
    "\n"
   ]
  },
  {
   "cell_type": "code",
   "execution_count": null,
   "metadata": {},
   "outputs": [],
   "source": []
  },
  {
   "cell_type": "code",
   "execution_count": null,
   "metadata": {},
   "outputs": [],
   "source": []
  },
  {
   "cell_type": "code",
   "execution_count": null,
   "metadata": {},
   "outputs": [],
   "source": []
  },
  {
   "cell_type": "markdown",
   "metadata": {},
   "source": [
    "**[Do not edit the contents of this cell]**\n",
    "\n",
    "### Part 3\n",
    "\n",
    "Test whether height is different between males and females. Perform the same test on the mass variable. Define (in words) which ones are your null and alternative hypotheses and significance threshold. Finally, discuss (in words) any conclusion you can make out the results of your statistical tests."
   ]
  },
  {
   "cell_type": "code",
   "execution_count": 225,
   "metadata": {},
   "outputs": [
    {
     "name": "stdout",
     "output_type": "stream",
     "text": [
      "x_diff: 0.5892289888946891\n",
      "\n",
      "-1.3435487060072704 2.522006683796649\n"
     ]
    },
    {
     "data": {
      "text/plain": [
       "0.612466214718748"
      ]
     },
     "execution_count": 225,
     "metadata": {},
     "output_type": "execute_result"
    }
   ],
   "source": [
    "x_diff = 178.77109675031406-178.18186776141937\n",
    "T_score = 2.009 # t-stat associated with alpha 0.05/2 and 49 degrees of freedom (50-1) danielsoper.com\n",
    "SE = np.sqrt((21.17244615491872/55)+(27.0302533877178/50))\n",
    "ME = T_score*SE\n",
    "\n",
    "print('x_diff: '+str(x_diff)+'\\n')\n",
    "print(x_diff-ME, x_diff+ME)\n",
    "\n",
    "# H0 = x_diff = 0\n",
    "# HA = x_diff != 0\n",
    "\n",
    "H0 = 0\n",
    "\n",
    "Z_score = (x_diff - H0)/SE\n",
    "Z_score\n"
   ]
  },
  {
   "cell_type": "code",
   "execution_count": 226,
   "metadata": {},
   "outputs": [
    {
     "name": "stdout",
     "output_type": "stream",
     "text": [
      "Ttest_indResult(statistic=-0.612432005198897, pvalue=0.5416017014078051)\n"
     ]
    }
   ],
   "source": [
    "# [Write your code in this cell]\n",
    "\n",
    "\n",
    "wom_height = association_indep_df.loc[association_indep_df['sex'] == 1]['height']\n",
    "man_height = association_indep_df.loc[association_indep_df['sex'] == 0]['height']\n",
    "\n",
    "print(stats.ttest_ind(wom_height, man_height))"
   ]
  },
  {
   "cell_type": "code",
   "execution_count": 227,
   "metadata": {},
   "outputs": [],
   "source": [
    "wom_height = association_indep_df.loc[association_indep_df['sex'] == 1]['mass']\n",
    "man_height = association_indep_df.loc[association_indep_df['sex'] == 0]['mass']"
   ]
  },
  {
   "cell_type": "code",
   "execution_count": null,
   "metadata": {},
   "outputs": [],
   "source": []
  },
  {
   "cell_type": "code",
   "execution_count": 228,
   "metadata": {},
   "outputs": [
    {
     "name": "stdout",
     "output_type": "stream",
     "text": [
      "Ttest_indResult(statistic=-25.721436706305806, pvalue=6.694124145896172e-46)\n"
     ]
    }
   ],
   "source": [
    "# print(stats.ttest_ind(wom_mass, man_mass))\n",
    "print(stats.ttest_ind(wom_mass, man_mass, equal_var = False))"
   ]
  },
  {
   "cell_type": "markdown",
   "metadata": {},
   "source": [
    "**[Provide your answer here]**\n"
   ]
  },
  {
   "cell_type": "markdown",
   "metadata": {},
   "source": [
    "**[Do not edit the contents of this cell]**\n",
    "\n",
    "### Part 4\n",
    "\n",
    "Repeat the statistical test in Part 3 for all numerical predictor variables in the dataset. How many tests are significant with $\\alpha=0.05$?\n",
    "Calculate corrected p-values for multiple tests using a Bonferroni correction. How many tests are significant now? "
   ]
  },
  {
   "cell_type": "code",
   "execution_count": 229,
   "metadata": {},
   "outputs": [],
   "source": [
    "# [Write your code in this cell]\n"
   ]
  },
  {
   "cell_type": "code",
   "execution_count": 230,
   "metadata": {},
   "outputs": [
    {
     "data": {
      "text/plain": [
       "['height',\n",
       " 'mass',\n",
       " 'metabolite_A',\n",
       " 'metabolite_B',\n",
       " 'metabolite_C',\n",
       " 'metabolite_D',\n",
       " 'metabolite_E',\n",
       " 'BMI']"
      ]
     },
     "execution_count": 230,
     "metadata": {},
     "output_type": "execute_result"
    }
   ],
   "source": [
    "df_columns = list(association_num_df.columns.values)\n",
    "df_columns"
   ]
  },
  {
   "cell_type": "code",
   "execution_count": 231,
   "metadata": {},
   "outputs": [],
   "source": [
    "def TTestParams(myList):\n",
    "    woman_values = []\n",
    "    man_values = []\n",
    "    p_values = []\n",
    "    for i in myList:\n",
    "        \n",
    "        woman =association_indep_df.loc[association_indep_df['sex'] == 1][i]\n",
    "        man =association_indep_df.loc[association_indep_df['sex'] == 0][i]\n",
    "        \n",
    "        p_val = stats.ttest_ind(woman, man, equal_var = False)\n",
    "        p_values.append(p_val)\n",
    "    return(p_values)"
   ]
  },
  {
   "cell_type": "code",
   "execution_count": 232,
   "metadata": {},
   "outputs": [],
   "source": [
    "c = TTestParams(df_columns)"
   ]
  },
  {
   "cell_type": "code",
   "execution_count": 233,
   "metadata": {},
   "outputs": [
    {
     "data": {
      "text/plain": [
       "[Ttest_indResult(statistic=-0.616020797475073, pvalue=0.539240682310238),\n",
       " Ttest_indResult(statistic=-25.721436706305806, pvalue=6.694124145896172e-46),\n",
       " Ttest_indResult(statistic=0.6845287201755234, pvalue=0.4951901695220233),\n",
       " Ttest_indResult(statistic=0.549891631577453, pvalue=0.5835844982018759),\n",
       " Ttest_indResult(statistic=0.9282407811931965, pvalue=0.3555065814214443),\n",
       " Ttest_indResult(statistic=-0.3685963357489555, pvalue=0.7131894616375611),\n",
       " Ttest_indResult(statistic=-0.21945521639816526, pvalue=0.8267336781040077),\n",
       " Ttest_indResult(statistic=-9.474208993625004, pvalue=1.5205052418644302e-15)]"
      ]
     },
     "execution_count": 233,
     "metadata": {},
     "output_type": "execute_result"
    }
   ],
   "source": [
    "c"
   ]
  },
  {
   "cell_type": "code",
   "execution_count": null,
   "metadata": {},
   "outputs": [],
   "source": []
  },
  {
   "cell_type": "code",
   "execution_count": null,
   "metadata": {},
   "outputs": [],
   "source": []
  },
  {
   "cell_type": "code",
   "execution_count": null,
   "metadata": {},
   "outputs": [],
   "source": []
  },
  {
   "cell_type": "code",
   "execution_count": null,
   "metadata": {},
   "outputs": [],
   "source": []
  },
  {
   "cell_type": "code",
   "execution_count": null,
   "metadata": {},
   "outputs": [],
   "source": []
  },
  {
   "cell_type": "markdown",
   "metadata": {},
   "source": [
    "**[Do not edit the contents of this cell]**\n",
    "\n",
    "## Problem 3: regression\n",
    "\n",
    "Assume you have been provided a new variable indicating a generic glucose index level. We know that such glucose index is related to the variable `metabolite_D` given in the previous dataset.\n",
    "\n",
    "### Part 1\n",
    "\n",
    "Load the new dataset called `glucose.csv` which gives the measure of a generic glucose level (`glucose_index`) for each tested subject. Perform a regression where `metabolite_D` is the predictor and `glucose_index` is the response variable."
   ]
  },
  {
   "cell_type": "code",
   "execution_count": null,
   "metadata": {},
   "outputs": [],
   "source": [
    "# [Write your code in this cell]\n"
   ]
  },
  {
   "cell_type": "markdown",
   "metadata": {},
   "source": [
    "**[Do not edit the contents of this cell]**\n",
    "\n",
    "## Problem 4: classification\n",
    "\n",
    "### Part 1\n",
    "\n",
    "Implement an algorithm to predict the disease status of a subject given all response variables provided in the dataset. You are free to choose the appropriate statistical tool you prefer. Assess the quality of your classifier."
   ]
  },
  {
   "cell_type": "code",
   "execution_count": null,
   "metadata": {},
   "outputs": [],
   "source": [
    "# [Write your code in this cell]\n"
   ]
  },
  {
   "cell_type": "markdown",
   "metadata": {},
   "source": [
    "**[Do not edit the contents of this cell]**\n",
    "\n",
    "### Part 2\n",
    "\n",
    "Given the classifier you devised in Part 1, predict the disease status of the following subject:\n",
    "- subject: ID986\n",
    "- sex: 1\n",
    "- height: 180.2\n",
    "- mass: 70.1\n",
    "- smoker: 1\n",
    "- ethnicity: \"White\"\n",
    "- metabolite_A: 0.5\n",
    "- metabolite_B: 1.2\n",
    "- metabolite_C: 0.5\n",
    "- metabolite_D: 8.5\n",
    "- metabolite_E: 10.2"
   ]
  },
  {
   "cell_type": "code",
   "execution_count": 4,
   "metadata": {},
   "outputs": [],
   "source": [
    "# [Write your code in this cell]\n"
   ]
  },
  {
   "cell_type": "code",
   "execution_count": null,
   "metadata": {},
   "outputs": [],
   "source": []
  },
  {
   "cell_type": "code",
   "execution_count": null,
   "metadata": {},
   "outputs": [],
   "source": []
  },
  {
   "cell_type": "code",
   "execution_count": null,
   "metadata": {},
   "outputs": [],
   "source": [
    "# split\n",
    "def split_train_test(data, test_ratio):\n",
    "shuffled_indices = np.random.permutation(len(data))\n",
    "test_set_size = int(len(data) * test_ratio)\n",
    "test_indices = shuffled_indices[:test_set_size]\n",
    "train_indices = shuffled_indices[test_set_size:]\n",
    "return data.iloc[train_indices], data.iloc[test_indices]\n",
    "You can then use this function like this:\n",
    ">>> train_set, test_set = split_train_test(housing, 0.2)\n",
    ">>> print(len(train_set), \"train +\", len(test_set), \"test\")"
   ]
  }
 ],
 "metadata": {
  "kernelspec": {
   "display_name": "Python 3",
   "language": "python",
   "name": "python3"
  },
  "language_info": {
   "codemirror_mode": {
    "name": "ipython",
    "version": 3
   },
   "file_extension": ".py",
   "mimetype": "text/x-python",
   "name": "python",
   "nbconvert_exporter": "python",
   "pygments_lexer": "ipython3",
   "version": "3.7.0"
  }
 },
 "nbformat": 4,
 "nbformat_minor": 2
}
