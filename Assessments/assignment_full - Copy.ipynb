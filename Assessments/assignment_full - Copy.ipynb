{
 "cells": [
  {
   "cell_type": "markdown",
   "metadata": {},
   "source": [
    "**[Do not edit the contents of this cell]**\n",
    "\n",
    "# MSc in Bioinformatics and Theoretical Systems Biology - Maths and Stats Assignment 2018/19\n",
    "\n",
    "This assignment is to be completed in Python, R or Julia and returned as a Jupyter notebook. There are 4 types of cells used in this notebook:\n",
    "1. Cells containing tasks and instructions to be completed. Do not edit these. These are clearly labelled.\n",
    "2. Cells in which you are meant to provide an answer in Markdown format.\n",
    "3. Cells containing code that defines e.g. which packages to load, but can also contain routines and snippets of codes that you should use.\n",
    "4. Cells that contain the Python/R/Julia code that you write to solve the problems set.\n",
    "\n",
    "Each of these cells will contain explit comments at the top telling you whether to edit or not edit a cell. In Code cells comments are specified by the \"#\" character. In the Markdown Answer Cells, replace the xxx by your answer, whenever these are present. You will have to execute all code and Markdown cells in order to (i) make use of the provided code, and (ii) format the markdown appropriately.\n",
    "\n",
    "There are four problems to be tackled:\n",
    "1. Data exploration [40%]\n",
    "2. Hypothesis testing [20%]\n",
    "3. Regression [20%]\n",
    "4. Classification [20%]\n",
    "\n",
    "For each questions there several parts of different difficulty. Where appropriate, further reading will be given at the start of each question.\n",
    "\n",
    "You will have to specify which language (and version) you used and all packages needed in order to run all Code cells. Please add this information in the next two cells. You can also use a mix of languages but any change has to be clearly indicated in the appropriate cell."
   ]
  },
  {
   "cell_type": "markdown",
   "metadata": {},
   "source": [
    "The kernel for this Jupyter notebook is xxx, version xxx, with the following packages: xxx, xxx"
   ]
  },
  {
   "cell_type": "code",
   "execution_count": 3,
   "metadata": {},
   "outputs": [],
   "source": [
    "# here import all libraries or packages needed\n",
    "import numpy as np\n",
    "import matplotlib.pyplot as plt\n",
    "import scipy\n",
    "import pandas as pd\n",
    "import seaborn as sns\n",
    "from sklearn.linear_model import LinearRegression\n",
    "from scipy import stats\n",
    "from statsmodels.sandbox.stats.multicomp import multipletests\n",
    "\n",
    "from sklearn.neighbors import KNeighborsClassifier\n",
    "%matplotlib inline\n",
    "# ..."
   ]
  },
  {
   "cell_type": "markdown",
   "metadata": {},
   "source": [
    "**[Do not edit the contents of this cell]**\n",
    "\n",
    "## Problem 1: data exploration\n",
    "\n",
    "We consider a subset of data coming from a putative association study where researchers collected various metrics and phenotypes to find associations with a putative generic cardiovascular disease.\n",
    "All recruited subjects are adults.\n",
    "For each subject several predictor variables are recorded: sex, height (in cm), mass (in kg), whether is a smoker or not, her/his ethnicity, and levels of 5 different metabolites (labelled A-E).\n",
    "Each subject has a unique ID number. \n",
    "For each subject a disease score, the response variable, measuring the severity of the disease phenotype in arbitrary units, is provided.\n",
    "The data is provided in the file `association.csv`.\n",
    "\n",
    "### Part 1\n",
    "\n",
    "Load the dataset `association.csv`.\n",
    "How many unique records of subjects do we have? How many unique predictor variables?"
   ]
  },
  {
   "cell_type": "code",
   "execution_count": 4,
   "metadata": {},
   "outputs": [],
   "source": [
    "# [Write your code in this cell]\n",
    "# df = pd.read_csv(\"data/cereal.csv\")\n",
    "association_df = pd.read_csv('association.csv')\n",
    "association_df.set_index('subject', inplace=True)\n",
    "\n",
    "association_indep_df = association_df.drop(['disease_score'], axis=1)\n",
    "association_dep_df = association_df['disease_score']\n",
    "\n",
    "\n",
    "\n",
    "\n",
    "# association_dep_df.columns = ['disease_score']"
   ]
  },
  {
   "cell_type": "code",
   "execution_count": 5,
   "metadata": {},
   "outputs": [
    {
     "data": {
      "text/html": [
       "<div>\n",
       "<style scoped>\n",
       "    .dataframe tbody tr th:only-of-type {\n",
       "        vertical-align: middle;\n",
       "    }\n",
       "\n",
       "    .dataframe tbody tr th {\n",
       "        vertical-align: top;\n",
       "    }\n",
       "\n",
       "    .dataframe thead th {\n",
       "        text-align: right;\n",
       "    }\n",
       "</style>\n",
       "<table border=\"1\" class=\"dataframe\">\n",
       "  <thead>\n",
       "    <tr style=\"text-align: right;\">\n",
       "      <th></th>\n",
       "      <th>sex</th>\n",
       "      <th>height</th>\n",
       "      <th>mass</th>\n",
       "      <th>smoker</th>\n",
       "      <th>ethnicity</th>\n",
       "      <th>metabolite_A</th>\n",
       "      <th>metabolite_B</th>\n",
       "      <th>metabolite_C</th>\n",
       "      <th>metabolite_D</th>\n",
       "      <th>metabolite_E</th>\n",
       "    </tr>\n",
       "    <tr>\n",
       "      <th>subject</th>\n",
       "      <th></th>\n",
       "      <th></th>\n",
       "      <th></th>\n",
       "      <th></th>\n",
       "      <th></th>\n",
       "      <th></th>\n",
       "      <th></th>\n",
       "      <th></th>\n",
       "      <th></th>\n",
       "      <th></th>\n",
       "    </tr>\n",
       "  </thead>\n",
       "  <tbody>\n",
       "    <tr>\n",
       "      <th>ID85</th>\n",
       "      <td>1</td>\n",
       "      <td>171.476882</td>\n",
       "      <td>71.070214</td>\n",
       "      <td>0</td>\n",
       "      <td>Asian</td>\n",
       "      <td>0.777283</td>\n",
       "      <td>1.544216</td>\n",
       "      <td>0.200118</td>\n",
       "      <td>4.963626</td>\n",
       "      <td>9.981923</td>\n",
       "    </tr>\n",
       "    <tr>\n",
       "      <th>ID86</th>\n",
       "      <td>0</td>\n",
       "      <td>186.503967</td>\n",
       "      <td>80.276194</td>\n",
       "      <td>0</td>\n",
       "      <td>Black/African/Caribbean</td>\n",
       "      <td>0.984182</td>\n",
       "      <td>2.040572</td>\n",
       "      <td>0.293487</td>\n",
       "      <td>5.250400</td>\n",
       "      <td>10.745194</td>\n",
       "    </tr>\n",
       "    <tr>\n",
       "      <th>ID48</th>\n",
       "      <td>1</td>\n",
       "      <td>177.289453</td>\n",
       "      <td>70.102716</td>\n",
       "      <td>1</td>\n",
       "      <td>Other</td>\n",
       "      <td>0.989442</td>\n",
       "      <td>1.983742</td>\n",
       "      <td>0.410665</td>\n",
       "      <td>4.302722</td>\n",
       "      <td>9.032480</td>\n",
       "    </tr>\n",
       "    <tr>\n",
       "      <th>ID4</th>\n",
       "      <td>0</td>\n",
       "      <td>182.755756</td>\n",
       "      <td>76.286511</td>\n",
       "      <td>0</td>\n",
       "      <td>White</td>\n",
       "      <td>0.998088</td>\n",
       "      <td>1.940030</td>\n",
       "      <td>0.183667</td>\n",
       "      <td>4.243840</td>\n",
       "      <td>8.597430</td>\n",
       "    </tr>\n",
       "    <tr>\n",
       "      <th>ID63</th>\n",
       "      <td>1</td>\n",
       "      <td>178.761595</td>\n",
       "      <td>70.987086</td>\n",
       "      <td>0</td>\n",
       "      <td>Asian</td>\n",
       "      <td>0.893859</td>\n",
       "      <td>1.794609</td>\n",
       "      <td>0.554105</td>\n",
       "      <td>4.006878</td>\n",
       "      <td>8.530953</td>\n",
       "    </tr>\n",
       "  </tbody>\n",
       "</table>\n",
       "</div>"
      ],
      "text/plain": [
       "         sex      height       mass  smoker                ethnicity  \\\n",
       "subject                                                                \n",
       "ID85       1  171.476882  71.070214       0                    Asian   \n",
       "ID86       0  186.503967  80.276194       0  Black/African/Caribbean   \n",
       "ID48       1  177.289453  70.102716       1                    Other   \n",
       "ID4        0  182.755756  76.286511       0                    White   \n",
       "ID63       1  178.761595  70.987086       0                    Asian   \n",
       "\n",
       "         metabolite_A  metabolite_B  metabolite_C  metabolite_D  metabolite_E  \n",
       "subject                                                                        \n",
       "ID85         0.777283      1.544216      0.200118      4.963626      9.981923  \n",
       "ID86         0.984182      2.040572      0.293487      5.250400     10.745194  \n",
       "ID48         0.989442      1.983742      0.410665      4.302722      9.032480  \n",
       "ID4          0.998088      1.940030      0.183667      4.243840      8.597430  \n",
       "ID63         0.893859      1.794609      0.554105      4.006878      8.530953  "
      ]
     },
     "execution_count": 5,
     "metadata": {},
     "output_type": "execute_result"
    }
   ],
   "source": [
    "association_indep_df.head(5)"
   ]
  },
  {
   "cell_type": "code",
   "execution_count": 6,
   "metadata": {},
   "outputs": [
    {
     "data": {
      "text/plain": [
       "(106, 10)"
      ]
     },
     "execution_count": 6,
     "metadata": {},
     "output_type": "execute_result"
    }
   ],
   "source": [
    "association_indep_df.shape"
   ]
  },
  {
   "cell_type": "markdown",
   "metadata": {},
   "source": [
    "**[Provide your answer here]**\n",
    "- The number of unique records of subjects in the dataset is: 105\n",
    "- The number of variables in the dataset is: 11"
   ]
  },
  {
   "cell_type": "markdown",
   "metadata": {},
   "source": [
    "**[Do not edit the contents of this cell]**\n",
    "\n",
    "### Part 2\n",
    "\n",
    "Produce a plot to illustrate the distribution of variables sex, mass, ethnicity, metabolite_A. Choose the most appropriate visualisation depending on the type of each variable."
   ]
  },
  {
   "cell_type": "code",
   "execution_count": 7,
   "metadata": {},
   "outputs": [
    {
     "data": {
      "text/html": [
       "<div>\n",
       "<style scoped>\n",
       "    .dataframe tbody tr th:only-of-type {\n",
       "        vertical-align: middle;\n",
       "    }\n",
       "\n",
       "    .dataframe tbody tr th {\n",
       "        vertical-align: top;\n",
       "    }\n",
       "\n",
       "    .dataframe thead th {\n",
       "        text-align: right;\n",
       "    }\n",
       "</style>\n",
       "<table border=\"1\" class=\"dataframe\">\n",
       "  <thead>\n",
       "    <tr style=\"text-align: right;\">\n",
       "      <th></th>\n",
       "      <th>sex</th>\n",
       "      <th>height</th>\n",
       "      <th>mass</th>\n",
       "      <th>smoker</th>\n",
       "      <th>ethnicity</th>\n",
       "      <th>metabolite_A</th>\n",
       "      <th>metabolite_B</th>\n",
       "      <th>metabolite_C</th>\n",
       "      <th>metabolite_D</th>\n",
       "      <th>metabolite_E</th>\n",
       "    </tr>\n",
       "    <tr>\n",
       "      <th>subject</th>\n",
       "      <th></th>\n",
       "      <th></th>\n",
       "      <th></th>\n",
       "      <th></th>\n",
       "      <th></th>\n",
       "      <th></th>\n",
       "      <th></th>\n",
       "      <th></th>\n",
       "      <th></th>\n",
       "      <th></th>\n",
       "    </tr>\n",
       "  </thead>\n",
       "  <tbody>\n",
       "    <tr>\n",
       "      <th>ID18</th>\n",
       "      <td>0</td>\n",
       "      <td>177.942864</td>\n",
       "      <td>80.523783</td>\n",
       "      <td>1</td>\n",
       "      <td>Other</td>\n",
       "      <td>0.919727</td>\n",
       "      <td>1.860333</td>\n",
       "      <td>0.228201</td>\n",
       "      <td>5.488476</td>\n",
       "      <td>11.25401</td>\n",
       "    </tr>\n",
       "    <tr>\n",
       "      <th>ID18</th>\n",
       "      <td>0</td>\n",
       "      <td>177.942864</td>\n",
       "      <td>80.523783</td>\n",
       "      <td>1</td>\n",
       "      <td>Other</td>\n",
       "      <td>0.919727</td>\n",
       "      <td>1.860333</td>\n",
       "      <td>0.228201</td>\n",
       "      <td>5.488476</td>\n",
       "      <td>11.25401</td>\n",
       "    </tr>\n",
       "  </tbody>\n",
       "</table>\n",
       "</div>"
      ],
      "text/plain": [
       "         sex      height       mass  smoker ethnicity  metabolite_A  \\\n",
       "subject                                                               \n",
       "ID18       0  177.942864  80.523783       1     Other      0.919727   \n",
       "ID18       0  177.942864  80.523783       1     Other      0.919727   \n",
       "\n",
       "         metabolite_B  metabolite_C  metabolite_D  metabolite_E  \n",
       "subject                                                          \n",
       "ID18         1.860333      0.228201      5.488476      11.25401  \n",
       "ID18         1.860333      0.228201      5.488476      11.25401  "
      ]
     },
     "execution_count": 7,
     "metadata": {},
     "output_type": "execute_result"
    }
   ],
   "source": [
    "# Prior to plotting distribution I will deal with duplicates\n",
    "association_indep_df.loc[association_indep_df.duplicated(keep=False),:]"
   ]
  },
  {
   "cell_type": "code",
   "execution_count": 8,
   "metadata": {
    "scrolled": true
   },
   "outputs": [],
   "source": [
    "association_indep_df.drop_duplicates(keep='first', inplace=True)\n",
    "association_dep_df.drop_duplicates(keep='first', inplace=True)"
   ]
  },
  {
   "cell_type": "code",
   "execution_count": 9,
   "metadata": {},
   "outputs": [
    {
     "data": {
      "text/plain": [
       "(105,)"
      ]
     },
     "execution_count": 9,
     "metadata": {},
     "output_type": "execute_result"
    }
   ],
   "source": [
    "association_indep_df.shape # I have removed the second of the duplicated ID18 training examples\n",
    "association_dep_df.shape # I have removed the second of the duplicated ID18 training examples"
   ]
  },
  {
   "cell_type": "code",
   "execution_count": 10,
   "metadata": {},
   "outputs": [
    {
     "data": {
      "text/html": [
       "<div>\n",
       "<style scoped>\n",
       "    .dataframe tbody tr th:only-of-type {\n",
       "        vertical-align: middle;\n",
       "    }\n",
       "\n",
       "    .dataframe tbody tr th {\n",
       "        vertical-align: top;\n",
       "    }\n",
       "\n",
       "    .dataframe thead th {\n",
       "        text-align: right;\n",
       "    }\n",
       "</style>\n",
       "<table border=\"1\" class=\"dataframe\">\n",
       "  <thead>\n",
       "    <tr style=\"text-align: right;\">\n",
       "      <th></th>\n",
       "      <th>sex</th>\n",
       "      <th>height</th>\n",
       "      <th>mass</th>\n",
       "      <th>smoker</th>\n",
       "      <th>ethnicity</th>\n",
       "      <th>metabolite_A</th>\n",
       "      <th>metabolite_B</th>\n",
       "      <th>metabolite_C</th>\n",
       "      <th>metabolite_D</th>\n",
       "      <th>metabolite_E</th>\n",
       "    </tr>\n",
       "    <tr>\n",
       "      <th>subject</th>\n",
       "      <th></th>\n",
       "      <th></th>\n",
       "      <th></th>\n",
       "      <th></th>\n",
       "      <th></th>\n",
       "      <th></th>\n",
       "      <th></th>\n",
       "      <th></th>\n",
       "      <th></th>\n",
       "      <th></th>\n",
       "    </tr>\n",
       "  </thead>\n",
       "  <tbody>\n",
       "    <tr>\n",
       "      <th>ID23</th>\n",
       "      <td>1</td>\n",
       "      <td>177.870009</td>\n",
       "      <td>70.992259</td>\n",
       "      <td>0</td>\n",
       "      <td>Black/African/Caribbean</td>\n",
       "      <td>NaN</td>\n",
       "      <td>1.274922</td>\n",
       "      <td>0.306667</td>\n",
       "      <td>4.953703</td>\n",
       "      <td>10.237791</td>\n",
       "    </tr>\n",
       "    <tr>\n",
       "      <th>ID87</th>\n",
       "      <td>1</td>\n",
       "      <td>178.793400</td>\n",
       "      <td>72.141244</td>\n",
       "      <td>0</td>\n",
       "      <td>Black/African/Caribbean</td>\n",
       "      <td>NaN</td>\n",
       "      <td>1.868261</td>\n",
       "      <td>0.201052</td>\n",
       "      <td>4.219526</td>\n",
       "      <td>8.662771</td>\n",
       "    </tr>\n",
       "  </tbody>\n",
       "</table>\n",
       "</div>"
      ],
      "text/plain": [
       "         sex      height       mass  smoker                ethnicity  \\\n",
       "subject                                                                \n",
       "ID23       1  177.870009  70.992259       0  Black/African/Caribbean   \n",
       "ID87       1  178.793400  72.141244       0  Black/African/Caribbean   \n",
       "\n",
       "         metabolite_A  metabolite_B  metabolite_C  metabolite_D  metabolite_E  \n",
       "subject                                                                        \n",
       "ID23              NaN      1.274922      0.306667      4.953703     10.237791  \n",
       "ID87              NaN      1.868261      0.201052      4.219526      8.662771  "
      ]
     },
     "execution_count": 10,
     "metadata": {},
     "output_type": "execute_result"
    }
   ],
   "source": [
    "# Given that the data set is small I do not want to discard entries, hence I will use imputaitoin to fill NaN values.\n",
    "\n",
    "association_indep_df[association_indep_df.isnull().values]\n",
    "# association_df.isnull().sum()\n",
    "# association_df[association_df['metabolite_A'].isnull()]"
   ]
  },
  {
   "cell_type": "code",
   "execution_count": 11,
   "metadata": {},
   "outputs": [
    {
     "data": {
      "text/plain": [
       "(103, 10)"
      ]
     },
     "execution_count": 11,
     "metadata": {},
     "output_type": "execute_result"
    }
   ],
   "source": [
    "# Create a new dataframe containing only completed values.\n",
    "association_indep_full_df = association_indep_df.dropna()\n",
    "association_indep_full_df.shape"
   ]
  },
  {
   "cell_type": "code",
   "execution_count": 12,
   "metadata": {},
   "outputs": [],
   "source": [
    "# met_A_median = association_indep_df['metabolite_A'].median()\n",
    "# print(met_A_median)\n",
    "\n",
    "# association_indep_df['metabolite_A'].fillna(value = met_A_median, inplace=True)\n",
    "\n",
    "# association_indep_df.isnull().sum()\n",
    "# association_indep_df.iloc[[9,34]]"
   ]
  },
  {
   "cell_type": "code",
   "execution_count": 13,
   "metadata": {},
   "outputs": [
    {
     "name": "stderr",
     "output_type": "stream",
     "text": [
      "C:\\Users\\patri\\Anaconda3\\lib\\site-packages\\scipy\\stats\\stats.py:1713: FutureWarning: Using a non-tuple sequence for multidimensional indexing is deprecated; use `arr[tuple(seq)]` instead of `arr[seq]`. In the future this will be interpreted as an array index, `arr[np.array(seq)]`, which will result either in an error or a different result.\n",
      "  return np.add.reduce(sorted[indexer] * weights, axis=axis) / sumval\n"
     ]
    },
    {
     "data": {
      "image/png": "[encoded data removed]",
      "text/plain": [
       "<Figure size 1008x864 with 4 Axes>"
      ]
     },
     "metadata": {},
     "output_type": "display_data"
    }
   ],
   "source": [
    "# [Write your code in this cell]\n",
    "sns.set(style=\"darkgrid\")\n",
    "\n",
    "\n",
    "fig = plt.figure(figsize=(14,12))\n",
    "fig.add_subplot(2,2,1)\n",
    "# sns.countplot(x=\"class\", data=titanic)\n",
    "sns.countplot(association_indep_full_df['sex'])\n",
    "plt.title('Gender Counts', y=0.94, x=0.85)\n",
    "\n",
    "fig.add_subplot(2,2,2)\n",
    "sns.countplot(association_indep_full_df['ethnicity'])\n",
    "plt.title('Ethnicity Counts', y=0.94, x=0.85)\n",
    "\n",
    "fig.add_subplot(2,2,3)\n",
    "sns.distplot(association_indep_full_df['mass'])\n",
    "plt.title('Mass Distribution', y=0.94, x=0.86)\n",
    "\n",
    "fig.add_subplot(2,2,4)\n",
    "sns.distplot(association_indep_full_df['metabolite_A'])\n",
    "plt.title('Metabolite_A Distribution', y=0.94, x=0.77)\n",
    "\n",
    "plt.show()\n",
    "# ax = fig.add_subplot(2, 2,1)"
   ]
  },
  {
   "cell_type": "markdown",
   "metadata": {},
   "source": [
    "**[Do not edit the contents of this cell]**\n",
    "\n",
    "### Part 3\n",
    "\n",
    "Write a function that returns the Body Mass Index (BMI).Calculate BMI for each subject and add it as new variable in the data set."
   ]
  },
  {
   "cell_type": "code",
   "execution_count": 14,
   "metadata": {},
   "outputs": [],
   "source": [
    "# [Write your code in this cell]\n",
    "\n",
    "association_indep_df['BMI'] = association_indep_df['mass']/(association_indep_df['height']/100)**2"
   ]
  },
  {
   "cell_type": "code",
   "execution_count": 15,
   "metadata": {},
   "outputs": [
    {
     "data": {
      "text/html": [
       "<div>\n",
       "<style scoped>\n",
       "    .dataframe tbody tr th:only-of-type {\n",
       "        vertical-align: middle;\n",
       "    }\n",
       "\n",
       "    .dataframe tbody tr th {\n",
       "        vertical-align: top;\n",
       "    }\n",
       "\n",
       "    .dataframe thead th {\n",
       "        text-align: right;\n",
       "    }\n",
       "</style>\n",
       "<table border=\"1\" class=\"dataframe\">\n",
       "  <thead>\n",
       "    <tr style=\"text-align: right;\">\n",
       "      <th></th>\n",
       "      <th>sex</th>\n",
       "      <th>height</th>\n",
       "      <th>mass</th>\n",
       "      <th>smoker</th>\n",
       "      <th>ethnicity</th>\n",
       "      <th>metabolite_A</th>\n",
       "      <th>metabolite_B</th>\n",
       "      <th>metabolite_C</th>\n",
       "      <th>metabolite_D</th>\n",
       "      <th>metabolite_E</th>\n",
       "      <th>BMI</th>\n",
       "    </tr>\n",
       "    <tr>\n",
       "      <th>subject</th>\n",
       "      <th></th>\n",
       "      <th></th>\n",
       "      <th></th>\n",
       "      <th></th>\n",
       "      <th></th>\n",
       "      <th></th>\n",
       "      <th></th>\n",
       "      <th></th>\n",
       "      <th></th>\n",
       "      <th></th>\n",
       "      <th></th>\n",
       "    </tr>\n",
       "  </thead>\n",
       "  <tbody>\n",
       "    <tr>\n",
       "      <th>ID85</th>\n",
       "      <td>1</td>\n",
       "      <td>171.476882</td>\n",
       "      <td>71.070214</td>\n",
       "      <td>0</td>\n",
       "      <td>Asian</td>\n",
       "      <td>0.777283</td>\n",
       "      <td>1.544216</td>\n",
       "      <td>0.200118</td>\n",
       "      <td>4.963626</td>\n",
       "      <td>9.981923</td>\n",
       "      <td>24.169990</td>\n",
       "    </tr>\n",
       "    <tr>\n",
       "      <th>ID86</th>\n",
       "      <td>0</td>\n",
       "      <td>186.503967</td>\n",
       "      <td>80.276194</td>\n",
       "      <td>0</td>\n",
       "      <td>Black/African/Caribbean</td>\n",
       "      <td>0.984182</td>\n",
       "      <td>2.040572</td>\n",
       "      <td>0.293487</td>\n",
       "      <td>5.250400</td>\n",
       "      <td>10.745194</td>\n",
       "      <td>23.078662</td>\n",
       "    </tr>\n",
       "    <tr>\n",
       "      <th>ID48</th>\n",
       "      <td>1</td>\n",
       "      <td>177.289453</td>\n",
       "      <td>70.102716</td>\n",
       "      <td>1</td>\n",
       "      <td>Other</td>\n",
       "      <td>0.989442</td>\n",
       "      <td>1.983742</td>\n",
       "      <td>0.410665</td>\n",
       "      <td>4.302722</td>\n",
       "      <td>9.032480</td>\n",
       "      <td>22.303296</td>\n",
       "    </tr>\n",
       "    <tr>\n",
       "      <th>ID4</th>\n",
       "      <td>0</td>\n",
       "      <td>182.755756</td>\n",
       "      <td>76.286511</td>\n",
       "      <td>0</td>\n",
       "      <td>White</td>\n",
       "      <td>0.998088</td>\n",
       "      <td>1.940030</td>\n",
       "      <td>0.183667</td>\n",
       "      <td>4.243840</td>\n",
       "      <td>8.597430</td>\n",
       "      <td>22.840501</td>\n",
       "    </tr>\n",
       "    <tr>\n",
       "      <th>ID63</th>\n",
       "      <td>1</td>\n",
       "      <td>178.761595</td>\n",
       "      <td>70.987086</td>\n",
       "      <td>0</td>\n",
       "      <td>Asian</td>\n",
       "      <td>0.893859</td>\n",
       "      <td>1.794609</td>\n",
       "      <td>0.554105</td>\n",
       "      <td>4.006878</td>\n",
       "      <td>8.530953</td>\n",
       "      <td>22.214212</td>\n",
       "    </tr>\n",
       "  </tbody>\n",
       "</table>\n",
       "</div>"
      ],
      "text/plain": [
       "         sex      height       mass  smoker                ethnicity  \\\n",
       "subject                                                                \n",
       "ID85       1  171.476882  71.070214       0                    Asian   \n",
       "ID86       0  186.503967  80.276194       0  Black/African/Caribbean   \n",
       "ID48       1  177.289453  70.102716       1                    Other   \n",
       "ID4        0  182.755756  76.286511       0                    White   \n",
       "ID63       1  178.761595  70.987086       0                    Asian   \n",
       "\n",
       "         metabolite_A  metabolite_B  metabolite_C  metabolite_D  metabolite_E  \\\n",
       "subject                                                                         \n",
       "ID85         0.777283      1.544216      0.200118      4.963626      9.981923   \n",
       "ID86         0.984182      2.040572      0.293487      5.250400     10.745194   \n",
       "ID48         0.989442      1.983742      0.410665      4.302722      9.032480   \n",
       "ID4          0.998088      1.940030      0.183667      4.243840      8.597430   \n",
       "ID63         0.893859      1.794609      0.554105      4.006878      8.530953   \n",
       "\n",
       "               BMI  \n",
       "subject             \n",
       "ID85     24.169990  \n",
       "ID86     23.078662  \n",
       "ID48     22.303296  \n",
       "ID4      22.840501  \n",
       "ID63     22.214212  "
      ]
     },
     "execution_count": 15,
     "metadata": {},
     "output_type": "execute_result"
    }
   ],
   "source": [
    "association_indep_df.head(5)"
   ]
  },
  {
   "cell_type": "markdown",
   "metadata": {},
   "source": [
    "**[Do not edit the contents of this cell]**\n",
    "\n",
    "### Part 4\n",
    "\n",
    "Calculate the correlation matrix between numerical predictors. Use this information to impute any missing values, if possible."
   ]
  },
  {
   "cell_type": "code",
   "execution_count": 16,
   "metadata": {
    "scrolled": true
   },
   "outputs": [],
   "source": [
    "# [Write your code in this cell]\n",
    "# df.drop(['B', 'C'], axis=1)\n",
    "\n",
    "association_num_df = association_indep_df.drop(['sex', 'smoker', 'ethnicity'], axis=1)\n",
    "# association_num_df"
   ]
  },
  {
   "cell_type": "code",
   "execution_count": 17,
   "metadata": {},
   "outputs": [
    {
     "data": {
      "text/html": [
       "<div>\n",
       "<style scoped>\n",
       "    .dataframe tbody tr th:only-of-type {\n",
       "        vertical-align: middle;\n",
       "    }\n",
       "\n",
       "    .dataframe tbody tr th {\n",
       "        vertical-align: top;\n",
       "    }\n",
       "\n",
       "    .dataframe thead th {\n",
       "        text-align: right;\n",
       "    }\n",
       "</style>\n",
       "<table border=\"1\" class=\"dataframe\">\n",
       "  <thead>\n",
       "    <tr style=\"text-align: right;\">\n",
       "      <th></th>\n",
       "      <th>height</th>\n",
       "      <th>mass</th>\n",
       "      <th>metabolite_A</th>\n",
       "      <th>metabolite_B</th>\n",
       "      <th>metabolite_C</th>\n",
       "      <th>metabolite_D</th>\n",
       "      <th>metabolite_E</th>\n",
       "      <th>BMI</th>\n",
       "    </tr>\n",
       "  </thead>\n",
       "  <tbody>\n",
       "    <tr>\n",
       "      <th>height</th>\n",
       "      <td>1.000000</td>\n",
       "      <td>-0.025994</td>\n",
       "      <td>0.001490</td>\n",
       "      <td>0.009982</td>\n",
       "      <td>0.168668</td>\n",
       "      <td>-0.030849</td>\n",
       "      <td>-0.007210</td>\n",
       "      <td>-0.635011</td>\n",
       "    </tr>\n",
       "    <tr>\n",
       "      <th>mass</th>\n",
       "      <td>-0.025994</td>\n",
       "      <td>1.000000</td>\n",
       "      <td>-0.078896</td>\n",
       "      <td>-0.052697</td>\n",
       "      <td>-0.049396</td>\n",
       "      <td>0.080060</td>\n",
       "      <td>0.062709</td>\n",
       "      <td>0.786219</td>\n",
       "    </tr>\n",
       "    <tr>\n",
       "      <th>metabolite_A</th>\n",
       "      <td>0.001490</td>\n",
       "      <td>-0.078896</td>\n",
       "      <td>1.000000</td>\n",
       "      <td>0.983715</td>\n",
       "      <td>-0.067958</td>\n",
       "      <td>-0.185901</td>\n",
       "      <td>-0.194760</td>\n",
       "      <td>-0.055390</td>\n",
       "    </tr>\n",
       "    <tr>\n",
       "      <th>metabolite_B</th>\n",
       "      <td>0.009982</td>\n",
       "      <td>-0.052697</td>\n",
       "      <td>0.983715</td>\n",
       "      <td>1.000000</td>\n",
       "      <td>-0.062237</td>\n",
       "      <td>-0.182491</td>\n",
       "      <td>-0.191910</td>\n",
       "      <td>-0.039499</td>\n",
       "    </tr>\n",
       "    <tr>\n",
       "      <th>metabolite_C</th>\n",
       "      <td>0.168668</td>\n",
       "      <td>-0.049396</td>\n",
       "      <td>-0.067958</td>\n",
       "      <td>-0.062237</td>\n",
       "      <td>1.000000</td>\n",
       "      <td>0.114041</td>\n",
       "      <td>0.196326</td>\n",
       "      <td>-0.144810</td>\n",
       "    </tr>\n",
       "    <tr>\n",
       "      <th>metabolite_D</th>\n",
       "      <td>-0.030849</td>\n",
       "      <td>0.080060</td>\n",
       "      <td>-0.185901</td>\n",
       "      <td>-0.182491</td>\n",
       "      <td>0.114041</td>\n",
       "      <td>1.000000</td>\n",
       "      <td>0.994901</td>\n",
       "      <td>0.084319</td>\n",
       "    </tr>\n",
       "    <tr>\n",
       "      <th>metabolite_E</th>\n",
       "      <td>-0.007210</td>\n",
       "      <td>0.062709</td>\n",
       "      <td>-0.194760</td>\n",
       "      <td>-0.191910</td>\n",
       "      <td>0.196326</td>\n",
       "      <td>0.994901</td>\n",
       "      <td>1.000000</td>\n",
       "      <td>0.055517</td>\n",
       "    </tr>\n",
       "    <tr>\n",
       "      <th>BMI</th>\n",
       "      <td>-0.635011</td>\n",
       "      <td>0.786219</td>\n",
       "      <td>-0.055390</td>\n",
       "      <td>-0.039499</td>\n",
       "      <td>-0.144810</td>\n",
       "      <td>0.084319</td>\n",
       "      <td>0.055517</td>\n",
       "      <td>1.000000</td>\n",
       "    </tr>\n",
       "  </tbody>\n",
       "</table>\n",
       "</div>"
      ],
      "text/plain": [
       "                height      mass  metabolite_A  metabolite_B  metabolite_C  \\\n",
       "height        1.000000 -0.025994      0.001490      0.009982      0.168668   \n",
       "mass         -0.025994  1.000000     -0.078896     -0.052697     -0.049396   \n",
       "metabolite_A  0.001490 -0.078896      1.000000      0.983715     -0.067958   \n",
       "metabolite_B  0.009982 -0.052697      0.983715      1.000000     -0.062237   \n",
       "metabolite_C  0.168668 -0.049396     -0.067958     -0.062237      1.000000   \n",
       "metabolite_D -0.030849  0.080060     -0.185901     -0.182491      0.114041   \n",
       "metabolite_E -0.007210  0.062709     -0.194760     -0.191910      0.196326   \n",
       "BMI          -0.635011  0.786219     -0.055390     -0.039499     -0.144810   \n",
       "\n",
       "              metabolite_D  metabolite_E       BMI  \n",
       "height           -0.030849     -0.007210 -0.635011  \n",
       "mass              0.080060      0.062709  0.786219  \n",
       "metabolite_A     -0.185901     -0.194760 -0.055390  \n",
       "metabolite_B     -0.182491     -0.191910 -0.039499  \n",
       "metabolite_C      0.114041      0.196326 -0.144810  \n",
       "metabolite_D      1.000000      0.994901  0.084319  \n",
       "metabolite_E      0.994901      1.000000  0.055517  \n",
       "BMI               0.084319      0.055517  1.000000  "
      ]
     },
     "execution_count": 17,
     "metadata": {},
     "output_type": "execute_result"
    },
    {
     "data": {
      "image/png": "[encoded data removed]",
      "text/plain": [
       "<Figure size 432x288 with 2 Axes>"
      ]
     },
     "metadata": {},
     "output_type": "display_data"
    }
   ],
   "source": [
    "corr = association_num_df.corr()\n",
    "sns.heatmap(corr)\n",
    "corr\n",
    "# from pandas.tools.plotting import scatter_matrix\n",
    "# scatter_matrix(association_num_df, figsize=(15, 10))"
   ]
  },
  {
   "cell_type": "code",
   "execution_count": 18,
   "metadata": {},
   "outputs": [],
   "source": [
    "# import statsmodels.api as sm\n",
    "\n",
    "# X = association_full_df['metabolite_B']\n",
    "# X = sm.add_constant(X) ## let's add an intercept (beta_0) to our model\n",
    "# y = association_full_df['metabolite_A']\n",
    "\n",
    "# # Note the difference in argument order\n",
    "# model = sm.OLS(y, X).fit()\n",
    "\n",
    "# predictions = model.predict(X) # make the predictions by the model\n",
    "\n",
    "# # Print out the statistics\n",
    "# model.summary()\n",
    "\n",
    "# intercept = 0.0332\n",
    "# coeff = 0.4795\n",
    "\n",
    "\n",
    "# association_df['metabolite_B'][9] * coeff + intercept\n",
    "\n",
    "# association_df['metabolite_B'][34] * coeff + intercept\n",
    "\n",
    "# model.predict(10)\n",
    "\n"
   ]
  },
  {
   "cell_type": "code",
   "execution_count": 19,
   "metadata": {
    "scrolled": true
   },
   "outputs": [],
   "source": [
    "# association_df = pd.read_csv('association.csv')\n",
    "\n",
    "# X = association_indep_full_df['metabolite_B']\n",
    "# Y = association_indep_full_df['metabolite_A']\n",
    "\n",
    "lin_reg = LinearRegression()\n",
    "\n",
    "X = association_indep_full_df['metabolite_B'].values\n",
    "X = X.reshape(103,1)\n",
    "Y = association_indep_full_df['metabolite_A'].values\n",
    "Y = Y.reshape(103,1)\n",
    "\n",
    "model = lin_reg.fit(X,Y)\n",
    "# X.shape"
   ]
  },
  {
   "cell_type": "code",
   "execution_count": 20,
   "metadata": {},
   "outputs": [],
   "source": [
    "# trial loc methods\n",
    "# association_df.xs(9)['metabolite_A'] = lin_reg.predict(association_df['metabolite_B'][9])[0][0]\n",
    "# association_df.xs(34)['metabolite_A'] = lin_reg.predict(association_df['metabolite_B'][34])[0][0]"
   ]
  },
  {
   "cell_type": "code",
   "execution_count": 21,
   "metadata": {},
   "outputs": [
    {
     "data": {
      "text/html": [
       "<div>\n",
       "<style scoped>\n",
       "    .dataframe tbody tr th:only-of-type {\n",
       "        vertical-align: middle;\n",
       "    }\n",
       "\n",
       "    .dataframe tbody tr th {\n",
       "        vertical-align: top;\n",
       "    }\n",
       "\n",
       "    .dataframe thead th {\n",
       "        text-align: right;\n",
       "    }\n",
       "</style>\n",
       "<table border=\"1\" class=\"dataframe\">\n",
       "  <thead>\n",
       "    <tr style=\"text-align: right;\">\n",
       "      <th></th>\n",
       "      <th>sex</th>\n",
       "      <th>height</th>\n",
       "      <th>mass</th>\n",
       "      <th>smoker</th>\n",
       "      <th>ethnicity</th>\n",
       "      <th>metabolite_A</th>\n",
       "      <th>metabolite_B</th>\n",
       "      <th>metabolite_C</th>\n",
       "      <th>metabolite_D</th>\n",
       "      <th>metabolite_E</th>\n",
       "      <th>BMI</th>\n",
       "    </tr>\n",
       "    <tr>\n",
       "      <th>subject</th>\n",
       "      <th></th>\n",
       "      <th></th>\n",
       "      <th></th>\n",
       "      <th></th>\n",
       "      <th></th>\n",
       "      <th></th>\n",
       "      <th></th>\n",
       "      <th></th>\n",
       "      <th></th>\n",
       "      <th></th>\n",
       "      <th></th>\n",
       "    </tr>\n",
       "  </thead>\n",
       "  <tbody>\n",
       "    <tr>\n",
       "      <th>ID23</th>\n",
       "      <td>1</td>\n",
       "      <td>177.870009</td>\n",
       "      <td>70.992259</td>\n",
       "      <td>0</td>\n",
       "      <td>Black/African/Caribbean</td>\n",
       "      <td>NaN</td>\n",
       "      <td>1.274922</td>\n",
       "      <td>0.306667</td>\n",
       "      <td>4.953703</td>\n",
       "      <td>10.237791</td>\n",
       "      <td>22.439106</td>\n",
       "    </tr>\n",
       "    <tr>\n",
       "      <th>ID87</th>\n",
       "      <td>1</td>\n",
       "      <td>178.793400</td>\n",
       "      <td>72.141244</td>\n",
       "      <td>0</td>\n",
       "      <td>Black/African/Caribbean</td>\n",
       "      <td>NaN</td>\n",
       "      <td>1.868261</td>\n",
       "      <td>0.201052</td>\n",
       "      <td>4.219526</td>\n",
       "      <td>8.662771</td>\n",
       "      <td>22.567355</td>\n",
       "    </tr>\n",
       "  </tbody>\n",
       "</table>\n",
       "</div>"
      ],
      "text/plain": [
       "         sex      height       mass  smoker                ethnicity  \\\n",
       "subject                                                                \n",
       "ID23       1  177.870009  70.992259       0  Black/African/Caribbean   \n",
       "ID87       1  178.793400  72.141244       0  Black/African/Caribbean   \n",
       "\n",
       "         metabolite_A  metabolite_B  metabolite_C  metabolite_D  metabolite_E  \\\n",
       "subject                                                                         \n",
       "ID23              NaN      1.274922      0.306667      4.953703     10.237791   \n",
       "ID87              NaN      1.868261      0.201052      4.219526      8.662771   \n",
       "\n",
       "               BMI  \n",
       "subject             \n",
       "ID23     22.439106  \n",
       "ID87     22.567355  "
      ]
     },
     "execution_count": 21,
     "metadata": {},
     "output_type": "execute_result"
    }
   ],
   "source": [
    "\n",
    "association_indep_df.loc[['ID23', 'ID87']]\n",
    "# association_df.loc['metabolite_A']"
   ]
  },
  {
   "cell_type": "code",
   "execution_count": 22,
   "metadata": {},
   "outputs": [
    {
     "data": {
      "text/plain": [
       "1.274922203025"
      ]
     },
     "execution_count": 22,
     "metadata": {},
     "output_type": "execute_result"
    }
   ],
   "source": [
    "association_indep_df['metabolite_B'][9]"
   ]
  },
  {
   "cell_type": "code",
   "execution_count": 23,
   "metadata": {},
   "outputs": [
    {
     "data": {
      "text/plain": [
       "1.274922203025"
      ]
     },
     "execution_count": 23,
     "metadata": {},
     "output_type": "execute_result"
    }
   ],
   "source": [
    "association_indep_df['metabolite_B'].loc['ID23']"
   ]
  },
  {
   "cell_type": "code",
   "execution_count": 24,
   "metadata": {},
   "outputs": [
    {
     "data": {
      "text/plain": [
       "0.6444997366952995"
      ]
     },
     "execution_count": 24,
     "metadata": {},
     "output_type": "execute_result"
    }
   ],
   "source": [
    "lin_reg.predict(association_df['metabolite_B'][9])[0][0]"
   ]
  },
  {
   "cell_type": "code",
   "execution_count": 25,
   "metadata": {},
   "outputs": [
    {
     "name": "stderr",
     "output_type": "stream",
     "text": [
      "C:\\Users\\patri\\Anaconda3\\lib\\site-packages\\pandas\\core\\indexing.py:189: SettingWithCopyWarning: \n",
      "A value is trying to be set on a copy of a slice from a DataFrame\n",
      "\n",
      "See the caveats in the documentation: http://pandas.pydata.org/pandas-docs/stable/indexing.html#indexing-view-versus-copy\n",
      "  self._setitem_with_indexer(indexer, value)\n"
     ]
    }
   ],
   "source": [
    "association_indep_df['metabolite_A'].loc[['ID23']] = lin_reg.predict(association_df['metabolite_B'].loc['ID23'])[0][0]\n",
    "association_indep_df['metabolite_A'].loc[['ID87']] = lin_reg.predict(association_df['metabolite_B'].loc['ID87'])[0][0]\n",
    "# association_df.loc[['ID87']] = lin_reg.predict(association_df['metabolite_B'][34])[0][0]"
   ]
  },
  {
   "cell_type": "code",
   "execution_count": null,
   "metadata": {},
   "outputs": [],
   "source": []
  },
  {
   "cell_type": "code",
   "execution_count": 26,
   "metadata": {},
   "outputs": [
    {
     "data": {
      "text/html": [
       "<div>\n",
       "<style scoped>\n",
       "    .dataframe tbody tr th:only-of-type {\n",
       "        vertical-align: middle;\n",
       "    }\n",
       "\n",
       "    .dataframe tbody tr th {\n",
       "        vertical-align: top;\n",
       "    }\n",
       "\n",
       "    .dataframe thead th {\n",
       "        text-align: right;\n",
       "    }\n",
       "</style>\n",
       "<table border=\"1\" class=\"dataframe\">\n",
       "  <thead>\n",
       "    <tr style=\"text-align: right;\">\n",
       "      <th></th>\n",
       "      <th>sex</th>\n",
       "      <th>height</th>\n",
       "      <th>mass</th>\n",
       "      <th>smoker</th>\n",
       "      <th>ethnicity</th>\n",
       "      <th>metabolite_A</th>\n",
       "      <th>metabolite_B</th>\n",
       "      <th>metabolite_C</th>\n",
       "      <th>metabolite_D</th>\n",
       "      <th>metabolite_E</th>\n",
       "      <th>BMI</th>\n",
       "    </tr>\n",
       "    <tr>\n",
       "      <th>subject</th>\n",
       "      <th></th>\n",
       "      <th></th>\n",
       "      <th></th>\n",
       "      <th></th>\n",
       "      <th></th>\n",
       "      <th></th>\n",
       "      <th></th>\n",
       "      <th></th>\n",
       "      <th></th>\n",
       "      <th></th>\n",
       "      <th></th>\n",
       "    </tr>\n",
       "  </thead>\n",
       "  <tbody>\n",
       "    <tr>\n",
       "      <th>ID23</th>\n",
       "      <td>1</td>\n",
       "      <td>177.870009</td>\n",
       "      <td>70.992259</td>\n",
       "      <td>0</td>\n",
       "      <td>Black/African/Caribbean</td>\n",
       "      <td>0.644500</td>\n",
       "      <td>1.274922</td>\n",
       "      <td>0.306667</td>\n",
       "      <td>4.953703</td>\n",
       "      <td>10.237791</td>\n",
       "      <td>22.439106</td>\n",
       "    </tr>\n",
       "    <tr>\n",
       "      <th>ID87</th>\n",
       "      <td>1</td>\n",
       "      <td>178.793400</td>\n",
       "      <td>72.141244</td>\n",
       "      <td>0</td>\n",
       "      <td>Black/African/Caribbean</td>\n",
       "      <td>0.929075</td>\n",
       "      <td>1.868261</td>\n",
       "      <td>0.201052</td>\n",
       "      <td>4.219526</td>\n",
       "      <td>8.662771</td>\n",
       "      <td>22.567355</td>\n",
       "    </tr>\n",
       "  </tbody>\n",
       "</table>\n",
       "</div>"
      ],
      "text/plain": [
       "         sex      height       mass  smoker                ethnicity  \\\n",
       "subject                                                                \n",
       "ID23       1  177.870009  70.992259       0  Black/African/Caribbean   \n",
       "ID87       1  178.793400  72.141244       0  Black/African/Caribbean   \n",
       "\n",
       "         metabolite_A  metabolite_B  metabolite_C  metabolite_D  metabolite_E  \\\n",
       "subject                                                                         \n",
       "ID23         0.644500      1.274922      0.306667      4.953703     10.237791   \n",
       "ID87         0.929075      1.868261      0.201052      4.219526      8.662771   \n",
       "\n",
       "               BMI  \n",
       "subject             \n",
       "ID23     22.439106  \n",
       "ID87     22.567355  "
      ]
     },
     "execution_count": 26,
     "metadata": {},
     "output_type": "execute_result"
    }
   ],
   "source": [
    "association_indep_df.loc[['ID23', 'ID87']]\n",
    "\n",
    "# association_df.isnull().sum()"
   ]
  },
  {
   "cell_type": "code",
   "execution_count": null,
   "metadata": {},
   "outputs": [],
   "source": []
  },
  {
   "cell_type": "markdown",
   "metadata": {},
   "source": [
    "**[Do not edit the contents of this cell]**\n",
    "\n",
    "### Part 5\n",
    "\n",
    "Assuming that a disease status is recorded when the disease score is greater than 5, add a new response variable in the dataset defining the diseases status of each subject."
   ]
  },
  {
   "cell_type": "code",
   "execution_count": 27,
   "metadata": {},
   "outputs": [
    {
     "data": {
      "text/plain": [
       "(105,)"
      ]
     },
     "execution_count": 27,
     "metadata": {},
     "output_type": "execute_result"
    }
   ],
   "source": [
    "association_dep_df.shape"
   ]
  },
  {
   "cell_type": "code",
   "execution_count": 28,
   "metadata": {},
   "outputs": [],
   "source": [
    "# [Write your code in this cell]\n",
    "association_indep_df['disease_status'] = np.where(association_dep_df > 5, 1, 0)\n",
    "\n",
    "# 14 diseased people\n",
    "# association_indep_df['disease_status'].sum()"
   ]
  },
  {
   "cell_type": "code",
   "execution_count": 29,
   "metadata": {},
   "outputs": [
    {
     "data": {
      "text/plain": [
       "14"
      ]
     },
     "execution_count": 29,
     "metadata": {},
     "output_type": "execute_result"
    }
   ],
   "source": [
    "association_indep_df['disease_status'].sum()"
   ]
  },
  {
   "cell_type": "code",
   "execution_count": null,
   "metadata": {},
   "outputs": [],
   "source": []
  },
  {
   "cell_type": "markdown",
   "metadata": {},
   "source": [
    "**[Do not edit the contents of this cell]**\n",
    "\n",
    "## Problem 2: hypothesis testing\n",
    "\n",
    "Starting from the same dataset in Problem 1, provide answers for the following questions.\n",
    "\n",
    "### Part 1\n",
    "\n",
    "Given this sample space of subjects, what is the probability that a given subject is diagnosed as diseased? What is the probability that a subject is diagnosed as diseased given that he/she is not a smoker?"
   ]
  },
  {
   "cell_type": "code",
   "execution_count": 30,
   "metadata": {},
   "outputs": [
    {
     "data": {
      "text/plain": [
       "disease_status\n",
       "0    0.866667\n",
       "1    0.133333\n",
       "dtype: float64"
      ]
     },
     "execution_count": 30,
     "metadata": {},
     "output_type": "execute_result"
    }
   ],
   "source": [
    "# [Write your code in this cell]\n",
    "\n",
    "association_indep_df.groupby('disease_status').size().div(len(association_indep_df))"
   ]
  },
  {
   "cell_type": "code",
   "execution_count": 31,
   "metadata": {},
   "outputs": [
    {
     "data": {
      "text/plain": [
       "smoker  disease_status\n",
       "0       0                 74\n",
       "        1                  7\n",
       "1       0                 17\n",
       "        1                  7\n",
       "dtype: int64"
      ]
     },
     "execution_count": 31,
     "metadata": {},
     "output_type": "execute_result"
    }
   ],
   "source": [
    "association_indep_df.groupby(['smoker', 'disease_status']).size()\n"
   ]
  },
  {
   "cell_type": "code",
   "execution_count": 32,
   "metadata": {},
   "outputs": [
    {
     "data": {
      "text/plain": [
       "smoker\n",
       "0    81\n",
       "1    24\n",
       "dtype: int64"
      ]
     },
     "execution_count": 32,
     "metadata": {},
     "output_type": "execute_result"
    }
   ],
   "source": [
    "# association_indep_df.groupby('disease_status').size()\n",
    "association_indep_df.groupby('smoker').size()"
   ]
  },
  {
   "cell_type": "code",
   "execution_count": 33,
   "metadata": {},
   "outputs": [
    {
     "data": {
      "text/plain": [
       "0.08641975308641975"
      ]
     },
     "execution_count": 33,
     "metadata": {},
     "output_type": "execute_result"
    }
   ],
   "source": [
    "# non smokers who are disease\n",
    "7/81"
   ]
  },
  {
   "cell_type": "markdown",
   "metadata": {},
   "source": [
    "**[Provide your answer here]**\n",
    "- The probability that a subject is diseased is: xxx\n",
    "- The probability that a subject is diseased given that she/he is not a smoker is: xxx"
   ]
  },
  {
   "cell_type": "markdown",
   "metadata": {},
   "source": [
    "**[Do not edit the contents of this cell]**\n",
    "\n",
    "### Part 2\n",
    "\n",
    "Assuming that they are Normally distributed, estimate mean and variance for the distributions of height and mass separately for males and females. Use **either** a frequentist **or** likelihoodist **or** Bayesian approach."
   ]
  },
  {
   "cell_type": "code",
   "execution_count": 34,
   "metadata": {},
   "outputs": [
    {
     "name": "stdout",
     "output_type": "stream",
     "text": [
      "Height\n",
      "Mean woman height: 178.18186776141937\n",
      "Variance woman height: 21.17244615491872\n",
      "Mean man height: 178.77109675031406\n",
      "Variance man height: 27.03025338771781\n",
      "\n",
      "Mass\n",
      "Mean woman mass: 70.33025107998441\n",
      "Variance woman mass: 4.053329369363679\n",
      "Mean man mass: 80.10691251520628\n",
      "Variance man mass: 3.487426146492937\n"
     ]
    }
   ],
   "source": [
    "# [Write your code in this cell]\n",
    "\n",
    "print('Height')\n",
    "print('Mean woman height: ' + str(association_indep_df.loc[association_indep_df['sex'] == 1]['height'].mean()))\n",
    "print('Variance woman height: ' + str(association_indep_df.loc[association_indep_df['sex'] == 1]['height'].var()))\n",
    "\n",
    "print('Mean man height: ' + str(association_indep_df.loc[association_indep_df['sex'] == 0]['height'].mean()))\n",
    "print('Variance man height: ' + str(association_indep_df.loc[association_indep_df['sex'] == 0]['height'].var()))\n",
    "\n",
    "\n",
    "print('\\nMass')\n",
    "print('Mean woman mass: ' + str(association_indep_df.loc[association_indep_df['sex'] == 1]['mass'].mean()))\n",
    "print('Variance woman mass: ' + str(association_indep_df.loc[association_indep_df['sex'] == 1]['mass'].var()))\n",
    "\n",
    "print('Mean man mass: ' + str(association_indep_df.loc[association_indep_df['sex'] == 0]['mass'].mean()))\n",
    "print('Variance man mass: ' + str(association_indep_df.loc[association_indep_df['sex'] == 0]['mass'].var()))\n",
    "\n",
    "\n",
    "\n"
   ]
  },
  {
   "cell_type": "code",
   "execution_count": null,
   "metadata": {},
   "outputs": [],
   "source": []
  },
  {
   "cell_type": "code",
   "execution_count": null,
   "metadata": {},
   "outputs": [],
   "source": []
  },
  {
   "cell_type": "code",
   "execution_count": null,
   "metadata": {},
   "outputs": [],
   "source": []
  },
  {
   "cell_type": "markdown",
   "metadata": {},
   "source": [
    "**[Do not edit the contents of this cell]**\n",
    "\n",
    "### Part 3\n",
    "\n",
    "Test whether height is different between males and females. Perform the same test on the mass variable. Define (in words) which ones are your null and alternative hypotheses and significance threshold. Finally, discuss (in words) any conclusion you can make out the results of your statistical tests."
   ]
  },
  {
   "cell_type": "code",
   "execution_count": 35,
   "metadata": {},
   "outputs": [
    {
     "name": "stdout",
     "output_type": "stream",
     "text": [
      "x_diff: 0.5892289888946891\n",
      "\n",
      "-1.3435487060072704 2.522006683796649\n"
     ]
    },
    {
     "data": {
      "text/plain": [
       "0.612466214718748"
      ]
     },
     "execution_count": 35,
     "metadata": {},
     "output_type": "execute_result"
    }
   ],
   "source": [
    "x_diff = 178.77109675031406-178.18186776141937\n",
    "T_score = 2.009 # t-stat associated with alpha 0.05/2 and 49 degrees of freedom (50-1) danielsoper.com\n",
    "SE = np.sqrt((21.17244615491872/55)+(27.0302533877178/50))\n",
    "ME = T_score*SE\n",
    "\n",
    "print('x_diff: '+str(x_diff)+'\\n')\n",
    "print(x_diff-ME, x_diff+ME)\n",
    "\n",
    "# H0 = x_diff = 0\n",
    "# HA = x_diff != 0\n",
    "\n",
    "H0 = 0\n",
    "\n",
    "Z_score = (x_diff - H0)/SE\n",
    "Z_score\n"
   ]
  },
  {
   "cell_type": "code",
   "execution_count": 36,
   "metadata": {},
   "outputs": [
    {
     "name": "stdout",
     "output_type": "stream",
     "text": [
      "Ttest_indResult(statistic=-0.612432005198897, pvalue=0.5416017014078051)\n"
     ]
    }
   ],
   "source": [
    "# [Write your code in this cell]\n",
    "\n",
    "\n",
    "wom_height = association_indep_df.loc[association_indep_df['sex'] == 1]['height']\n",
    "man_height = association_indep_df.loc[association_indep_df['sex'] == 0]['height']\n",
    "\n",
    "print(stats.ttest_ind(wom_height, man_height))"
   ]
  },
  {
   "cell_type": "code",
   "execution_count": 37,
   "metadata": {},
   "outputs": [
    {
     "name": "stdout",
     "output_type": "stream",
     "text": [
      "Ttest_indResult(statistic=-25.721436706305806, pvalue=6.694124145896172e-46)\n"
     ]
    }
   ],
   "source": [
    "wom_mass = association_indep_df.loc[association_indep_df['sex'] == 1]['mass']\n",
    "man_mass = association_indep_df.loc[association_indep_df['sex'] == 0]['mass']\n",
    "\n",
    "\n",
    "# print(stats.ttest_ind(wom_mass, man_mass))\n",
    "print(stats.ttest_ind(wom_mass, man_mass, equal_var = False))"
   ]
  },
  {
   "cell_type": "markdown",
   "metadata": {},
   "source": [
    "**[Provide your answer here]**\n"
   ]
  },
  {
   "cell_type": "markdown",
   "metadata": {},
   "source": [
    "**[Do not edit the contents of this cell]**\n",
    "\n",
    "### Part 4\n",
    "\n",
    "Repeat the statistical test in Part 3 for all numerical predictor variables in the dataset. How many tests are significant with $\\alpha=0.05$?\n",
    "Calculate corrected p-values for multiple tests using a Bonferroni correction. How many tests are significant now? "
   ]
  },
  {
   "cell_type": "code",
   "execution_count": 38,
   "metadata": {},
   "outputs": [
    {
     "name": "stdout",
     "output_type": "stream",
     "text": [
      "[0.5416017014078051, 8.907951602027204e-47, 0.4989163458744227, 0.5850063085597454, 0.35403587029198424, 0.7134584233209571, 0.8267417090101797, 2.140482810784585e-15]\n"
     ]
    },
    {
     "data": {
      "text/plain": [
       "(array([False,  True, False, False, False, False, False,  True]),\n",
       " array([1.00000000e+00, 7.12636128e-46, 1.00000000e+00, 1.00000000e+00,\n",
       "        1.00000000e+00, 1.00000000e+00, 1.00000000e+00, 1.71238625e-14]),\n",
       " 0.006391150954545011,\n",
       " 0.00625)"
      ]
     },
     "execution_count": 38,
     "metadata": {},
     "output_type": "execute_result"
    }
   ],
   "source": [
    "# [Write your code in this cell]\n",
    "\n",
    "\n",
    "df_columns = list(association_num_df.columns.values)\n",
    "df_columns\n",
    "\n",
    "def TTestParams(myList):\n",
    "    woman_values = []\n",
    "    man_values = []\n",
    "    p_values = []\n",
    "    for i in myList:\n",
    "        \n",
    "        woman =association_indep_df.loc[association_indep_df['sex'] == 1][i]\n",
    "        man =association_indep_df.loc[association_indep_df['sex'] == 0][i]\n",
    "        \n",
    "#         p_val = stats.ttest_ind(woman, man, equal_var = False)\n",
    "        testStats = stats.ttest_ind(woman, man, equal_var = True)\n",
    "        p_val = testStats[1]\n",
    "        p_values.append(p_val)\n",
    "    return(p_values)\n",
    "\n",
    "c = TTestParams(df_columns)\n",
    "print(c)\n",
    "\n",
    "p_adjusted = multipletests(c, method='bonferroni')\n",
    "\n",
    "p_adjusted\n",
    "\n",
    "\n"
   ]
  },
  {
   "cell_type": "code",
   "execution_count": null,
   "metadata": {},
   "outputs": [],
   "source": []
  },
  {
   "cell_type": "markdown",
   "metadata": {},
   "source": [
    "**[Do not edit the contents of this cell]**\n",
    "\n",
    "## Problem 3: regression\n",
    "\n",
    "Assume you have been provided a new variable indicating a generic glucose index level. We know that such glucose index is related to the variable `metabolite_D` given in the previous dataset.\n",
    "\n",
    "### Part 1\n",
    "\n",
    "Load the new dataset called `glucose.csv` which gives the measure of a generic glucose level (`glucose_index`) for each tested subject. Perform a regression where `metabolite_D` is the predictor and `glucose_index` is the response variable."
   ]
  },
  {
   "cell_type": "code",
   "execution_count": 39,
   "metadata": {},
   "outputs": [],
   "source": [
    "# [Write your code in this cell]\n",
    "\n",
    "glucose_df = pd.read_csv('glucose.csv')\n",
    "glucose_df.set_index('subject', inplace=True)\n",
    "\n",
    "# glucose_df.loc[['ID18']]\n",
    "ID_18_avg = glucose_df.loc[['ID18']].mean().values[0]\n",
    "\n",
    "\n",
    "glucose_df = pd.read_csv('glucose.csv')\n",
    "glucose_df.drop_duplicates(subset=['subject'], keep='first', inplace=True)\n",
    "glucose_df.shape\n",
    "glucose_df.set_index('subject', inplace=True)\n",
    "glucose_df.loc[['ID18']] = ID_18_avg\n",
    "\n",
    "# print(glucose_df.shape)\n",
    "# glucose_df.loc[['ID18']]"
   ]
  },
  {
   "cell_type": "code",
   "execution_count": 40,
   "metadata": {},
   "outputs": [],
   "source": [
    "association_indep_df = pd.merge(association_indep_df, glucose_df, on='subject')"
   ]
  },
  {
   "cell_type": "code",
   "execution_count": 41,
   "metadata": {},
   "outputs": [
    {
     "data": {
      "text/html": [
       "<div>\n",
       "<style scoped>\n",
       "    .dataframe tbody tr th:only-of-type {\n",
       "        vertical-align: middle;\n",
       "    }\n",
       "\n",
       "    .dataframe tbody tr th {\n",
       "        vertical-align: top;\n",
       "    }\n",
       "\n",
       "    .dataframe thead th {\n",
       "        text-align: right;\n",
       "    }\n",
       "</style>\n",
       "<table border=\"1\" class=\"dataframe\">\n",
       "  <thead>\n",
       "    <tr style=\"text-align: right;\">\n",
       "      <th></th>\n",
       "      <th>sex</th>\n",
       "      <th>height</th>\n",
       "      <th>mass</th>\n",
       "      <th>smoker</th>\n",
       "      <th>ethnicity</th>\n",
       "      <th>metabolite_A</th>\n",
       "      <th>metabolite_B</th>\n",
       "      <th>metabolite_C</th>\n",
       "      <th>metabolite_D</th>\n",
       "      <th>metabolite_E</th>\n",
       "      <th>BMI</th>\n",
       "      <th>disease_status</th>\n",
       "      <th>glucose_index</th>\n",
       "    </tr>\n",
       "    <tr>\n",
       "      <th>subject</th>\n",
       "      <th></th>\n",
       "      <th></th>\n",
       "      <th></th>\n",
       "      <th></th>\n",
       "      <th></th>\n",
       "      <th></th>\n",
       "      <th></th>\n",
       "      <th></th>\n",
       "      <th></th>\n",
       "      <th></th>\n",
       "      <th></th>\n",
       "      <th></th>\n",
       "      <th></th>\n",
       "    </tr>\n",
       "  </thead>\n",
       "  <tbody>\n",
       "    <tr>\n",
       "      <th>ID85</th>\n",
       "      <td>1</td>\n",
       "      <td>171.476882</td>\n",
       "      <td>71.070214</td>\n",
       "      <td>0</td>\n",
       "      <td>Asian</td>\n",
       "      <td>0.777283</td>\n",
       "      <td>1.544216</td>\n",
       "      <td>0.200118</td>\n",
       "      <td>4.963626</td>\n",
       "      <td>9.981923</td>\n",
       "      <td>24.169990</td>\n",
       "      <td>0</td>\n",
       "      <td>12.922944</td>\n",
       "    </tr>\n",
       "    <tr>\n",
       "      <th>ID86</th>\n",
       "      <td>0</td>\n",
       "      <td>186.503967</td>\n",
       "      <td>80.276194</td>\n",
       "      <td>0</td>\n",
       "      <td>Black/African/Caribbean</td>\n",
       "      <td>0.984182</td>\n",
       "      <td>2.040572</td>\n",
       "      <td>0.293487</td>\n",
       "      <td>5.250400</td>\n",
       "      <td>10.745194</td>\n",
       "      <td>23.078662</td>\n",
       "      <td>0</td>\n",
       "      <td>13.573983</td>\n",
       "    </tr>\n",
       "    <tr>\n",
       "      <th>ID48</th>\n",
       "      <td>1</td>\n",
       "      <td>177.289453</td>\n",
       "      <td>70.102716</td>\n",
       "      <td>1</td>\n",
       "      <td>Other</td>\n",
       "      <td>0.989442</td>\n",
       "      <td>1.983742</td>\n",
       "      <td>0.410665</td>\n",
       "      <td>4.302722</td>\n",
       "      <td>9.032480</td>\n",
       "      <td>22.303296</td>\n",
       "      <td>0</td>\n",
       "      <td>10.786252</td>\n",
       "    </tr>\n",
       "  </tbody>\n",
       "</table>\n",
       "</div>"
      ],
      "text/plain": [
       "         sex      height       mass  smoker                ethnicity  \\\n",
       "subject                                                                \n",
       "ID85       1  171.476882  71.070214       0                    Asian   \n",
       "ID86       0  186.503967  80.276194       0  Black/African/Caribbean   \n",
       "ID48       1  177.289453  70.102716       1                    Other   \n",
       "\n",
       "         metabolite_A  metabolite_B  metabolite_C  metabolite_D  metabolite_E  \\\n",
       "subject                                                                         \n",
       "ID85         0.777283      1.544216      0.200118      4.963626      9.981923   \n",
       "ID86         0.984182      2.040572      0.293487      5.250400     10.745194   \n",
       "ID48         0.989442      1.983742      0.410665      4.302722      9.032480   \n",
       "\n",
       "               BMI  disease_status  glucose_index  \n",
       "subject                                            \n",
       "ID85     24.169990               0      12.922944  \n",
       "ID86     23.078662               0      13.573983  \n",
       "ID48     22.303296               0      10.786252  "
      ]
     },
     "execution_count": 41,
     "metadata": {},
     "output_type": "execute_result"
    }
   ],
   "source": [
    "association_indep_df.iloc[0:3]\n",
    "# glucose_df.loc[['ID4']]"
   ]
  },
  {
   "cell_type": "code",
   "execution_count": 42,
   "metadata": {},
   "outputs": [
    {
     "data": {
      "text/plain": [
       "array([[13.62141218]])"
      ]
     },
     "execution_count": 42,
     "metadata": {},
     "output_type": "execute_result"
    }
   ],
   "source": [
    "\n",
    "# lin_reg = LinearRegression()\n",
    "\n",
    "association_indep_df['glucose_index']\n",
    "\n",
    "X = association_indep_df['metabolite_D'].values\n",
    "X = X.reshape(105,1)\n",
    "Y = association_indep_df['glucose_index'].values\n",
    "Y = Y.reshape(105,1)\n",
    "\n",
    "model = lin_reg.fit(X,Y)\n",
    "\n",
    "\n",
    "model.coef_\n",
    "\n",
    "model.intercept_ \n",
    "\n",
    "model.predict(5.2)"
   ]
  },
  {
   "cell_type": "code",
   "execution_count": null,
   "metadata": {},
   "outputs": [],
   "source": []
  },
  {
   "cell_type": "code",
   "execution_count": null,
   "metadata": {},
   "outputs": [],
   "source": []
  },
  {
   "cell_type": "markdown",
   "metadata": {},
   "source": [
    "**[Do not edit the contents of this cell]**\n",
    "\n",
    "## Problem 4: classification\n",
    "\n",
    "### Part 1\n",
    "\n",
    "Implement an algorithm to predict the disease status of a subject given all response variables provided in the dataset. You are free to choose the appropriate statistical tool you prefer. Assess the quality of your classifier."
   ]
  },
  {
   "cell_type": "code",
   "execution_count": 43,
   "metadata": {},
   "outputs": [
    {
     "name": "stdout",
     "output_type": "stream",
     "text": [
      "['sex', 'height', 'mass', 'smoker', 'metabolite_A', 'metabolite_B', 'metabolite_C', 'metabolite_D', 'metabolite_E', 'BMI', 'glucose_index', 'Asian', 'Black/African/Caribbean', 'White', 'Other']\n"
     ]
    }
   ],
   "source": [
    "# association_indep_df.iloc[0:4]\n",
    "\n",
    "# prepare data for training. Create dummy variables for ethnicity categorical data\n",
    "association_indep_df['Asian'] = np.where(association_indep_df['ethnicity']=='Asian',1,0)\n",
    "association_indep_df['Black/African/Caribbean'] = np.where(association_indep_df['ethnicity']=='Black/African/Caribbean',1,0)\n",
    "association_indep_df['White'] = np.where(association_indep_df['ethnicity']=='White',1,0)\n",
    "association_indep_df['Other'] = np.where(association_indep_df['ethnicity']=='Other',1,0)\n",
    "\n",
    "baseline_columns = list(association_indep_df.columns)\n",
    "baseline_columns\n",
    "cols = baseline_columns\n",
    "cols.remove('ethnicity')\n",
    "cols.remove('disease_status')\n",
    "print(cols)"
   ]
  },
  {
   "cell_type": "code",
   "execution_count": 44,
   "metadata": {},
   "outputs": [],
   "source": [
    "cols_1 = ['sex', 'height', 'mass', 'smoker', 'metabolite_A', 'metabolite_C', 'metabolite_D', 'metabolite_E', 'BMI', 'glucose_index', 'Asian', 'Black/African/Caribbean', 'White', 'Other'] # minus B\n",
    "cols_2 = ['sex', 'height', 'mass', 'smoker', 'metabolite_A', 'metabolite_B', 'metabolite_C', 'metabolite_E', 'BMI', 'glucose_index', 'Asian', 'Black/African/Caribbean', 'White', 'Other'] # minusD\n",
    "cols_3= ['sex', 'height', 'mass', 'smoker', 'metabolite_A', 'metabolite_B', 'metabolite_C', 'metabolite_D', 'metabolite_E', 'glucose_index', 'Asian', 'Black/African/Caribbean', 'White', 'Other'] # minus BMI\n",
    "cols_4= ['sex', 'height', 'mass', 'smoker', 'metabolite_A', 'metabolite_C', 'metabolite_D', 'metabolite_E', 'glucose_index', 'Asian', 'Black/African/Caribbean', 'White', 'Other'] # minus B, BMI\n",
    "cols_5= ['sex', 'height', 'mass', 'smoker', 'metabolite_B', 'metabolite_C', 'metabolite_D', 'metabolite_E', 'glucose_index', 'Asian', 'Black/African/Caribbean', 'White', 'Other'] # minus A, BMI\n"
   ]
  },
  {
   "cell_type": "code",
   "execution_count": 55,
   "metadata": {},
   "outputs": [],
   "source": [
    "X = association_indep_df[cols_1]\n",
    "y = association_indep_df['disease_status']"
   ]
  },
  {
   "cell_type": "code",
   "execution_count": 56,
   "metadata": {},
   "outputs": [
    {
     "data": {
      "text/html": [
       "<div>\n",
       "<style scoped>\n",
       "    .dataframe tbody tr th:only-of-type {\n",
       "        vertical-align: middle;\n",
       "    }\n",
       "\n",
       "    .dataframe tbody tr th {\n",
       "        vertical-align: top;\n",
       "    }\n",
       "\n",
       "    .dataframe thead th {\n",
       "        text-align: right;\n",
       "    }\n",
       "</style>\n",
       "<table border=\"1\" class=\"dataframe\">\n",
       "  <thead>\n",
       "    <tr style=\"text-align: right;\">\n",
       "      <th></th>\n",
       "      <th>sex</th>\n",
       "      <th>height</th>\n",
       "      <th>mass</th>\n",
       "      <th>smoker</th>\n",
       "      <th>metabolite_A</th>\n",
       "      <th>metabolite_C</th>\n",
       "      <th>metabolite_D</th>\n",
       "      <th>metabolite_E</th>\n",
       "      <th>BMI</th>\n",
       "      <th>glucose_index</th>\n",
       "      <th>Asian</th>\n",
       "      <th>Black/African/Caribbean</th>\n",
       "      <th>White</th>\n",
       "      <th>Other</th>\n",
       "    </tr>\n",
       "    <tr>\n",
       "      <th>subject</th>\n",
       "      <th></th>\n",
       "      <th></th>\n",
       "      <th></th>\n",
       "      <th></th>\n",
       "      <th></th>\n",
       "      <th></th>\n",
       "      <th></th>\n",
       "      <th></th>\n",
       "      <th></th>\n",
       "      <th></th>\n",
       "      <th></th>\n",
       "      <th></th>\n",
       "      <th></th>\n",
       "      <th></th>\n",
       "    </tr>\n",
       "  </thead>\n",
       "  <tbody>\n",
       "    <tr>\n",
       "      <th>ID85</th>\n",
       "      <td>1</td>\n",
       "      <td>171.476882</td>\n",
       "      <td>71.070214</td>\n",
       "      <td>0</td>\n",
       "      <td>0.777283</td>\n",
       "      <td>0.200118</td>\n",
       "      <td>4.963626</td>\n",
       "      <td>9.981923</td>\n",
       "      <td>24.169990</td>\n",
       "      <td>12.922944</td>\n",
       "      <td>1</td>\n",
       "      <td>0</td>\n",
       "      <td>0</td>\n",
       "      <td>0</td>\n",
       "    </tr>\n",
       "    <tr>\n",
       "      <th>ID86</th>\n",
       "      <td>0</td>\n",
       "      <td>186.503967</td>\n",
       "      <td>80.276194</td>\n",
       "      <td>0</td>\n",
       "      <td>0.984182</td>\n",
       "      <td>0.293487</td>\n",
       "      <td>5.250400</td>\n",
       "      <td>10.745194</td>\n",
       "      <td>23.078662</td>\n",
       "      <td>13.573983</td>\n",
       "      <td>0</td>\n",
       "      <td>1</td>\n",
       "      <td>0</td>\n",
       "      <td>0</td>\n",
       "    </tr>\n",
       "    <tr>\n",
       "      <th>ID48</th>\n",
       "      <td>1</td>\n",
       "      <td>177.289453</td>\n",
       "      <td>70.102716</td>\n",
       "      <td>1</td>\n",
       "      <td>0.989442</td>\n",
       "      <td>0.410665</td>\n",
       "      <td>4.302722</td>\n",
       "      <td>9.032480</td>\n",
       "      <td>22.303296</td>\n",
       "      <td>10.786252</td>\n",
       "      <td>0</td>\n",
       "      <td>0</td>\n",
       "      <td>0</td>\n",
       "      <td>1</td>\n",
       "    </tr>\n",
       "  </tbody>\n",
       "</table>\n",
       "</div>"
      ],
      "text/plain": [
       "         sex      height       mass  smoker  metabolite_A  metabolite_C  \\\n",
       "subject                                                                   \n",
       "ID85       1  171.476882  71.070214       0      0.777283      0.200118   \n",
       "ID86       0  186.503967  80.276194       0      0.984182      0.293487   \n",
       "ID48       1  177.289453  70.102716       1      0.989442      0.410665   \n",
       "\n",
       "         metabolite_D  metabolite_E        BMI  glucose_index  Asian  \\\n",
       "subject                                                                \n",
       "ID85         4.963626      9.981923  24.169990      12.922944      1   \n",
       "ID86         5.250400     10.745194  23.078662      13.573983      0   \n",
       "ID48         4.302722      9.032480  22.303296      10.786252      0   \n",
       "\n",
       "         Black/African/Caribbean  White  Other  \n",
       "subject                                         \n",
       "ID85                           0      0      0  \n",
       "ID86                           1      0      0  \n",
       "ID48                           0      0      1  "
      ]
     },
     "execution_count": 56,
     "metadata": {},
     "output_type": "execute_result"
    }
   ],
   "source": [
    "# cols_1 = cols.remove('metabolite_B')\n",
    "X.head(3)"
   ]
  },
  {
   "cell_type": "code",
   "execution_count": 57,
   "metadata": {},
   "outputs": [],
   "source": [
    "from sklearn.model_selection import train_test_split\n",
    "X_train, X_test, y_train, y_test = train_test_split(X, y, test_size=0.4, random_state=32)\n",
    "# # split into training and test sets\n",
    "# # np.random.seed(2)\n",
    "\n",
    "# def split_train_test(X, y, test_ratio):\n",
    "#     shuffled_indices = np.random.permutation(len(X))\n",
    "#     test_set_size = int(len(X) * test_ratio)\n",
    "    \n",
    "#     test_indices = shuffled_indices[:test_set_size]\n",
    "#     train_indices = shuffled_indices[test_set_size:]\n",
    "    \n",
    "#     return X.iloc[train_indices], X.iloc[test_indices], y.iloc[train_indices], y.iloc[test_indices]\n",
    "\n",
    "# X_train, X_test, y_train, y_test = split_train_test(X, y, 0.3)\n",
    "# print(len(X_train), \"train +\", len(X_test), \"test\")"
   ]
  },
  {
   "cell_type": "code",
   "execution_count": 58,
   "metadata": {},
   "outputs": [],
   "source": [
    "#check that both IDs match between the indep and dep training sets\n",
    "# X_train.iloc[5::-1]\n",
    "# y_train.iloc[5::-1]"
   ]
  },
  {
   "cell_type": "code",
   "execution_count": 62,
   "metadata": {},
   "outputs": [
    {
     "data": {
      "text/plain": [
       "pandas.core.frame.DataFrame"
      ]
     },
     "execution_count": 62,
     "metadata": {},
     "output_type": "execute_result"
    }
   ],
   "source": [
    "\n",
    "type(X_train)\n",
    "# print(X_test.shape)\n",
    "\n",
    "# print(y_train.shape)\n",
    "# print(y_test.shape)"
   ]
  },
  {
   "cell_type": "code",
   "execution_count": 60,
   "metadata": {
    "scrolled": true
   },
   "outputs": [],
   "source": [
    "from sklearn.linear_model import LogisticRegression\n",
    "logReg = LogisticRegression()\n",
    "logReg.fit(X_train, y_train)\n",
    "\n",
    "# make class predictions for the testing set\n",
    "y_pred_class = logReg.predict(X_test)\n",
    "# y_test"
   ]
  },
  {
   "cell_type": "code",
   "execution_count": 51,
   "metadata": {},
   "outputs": [
    {
     "data": {
      "text/plain": [
       "array([0, 0, 0, 0, 0, 0, 0, 0, 0, 0, 0, 1, 0, 0, 0, 0, 0, 0, 0, 0, 0, 0,\n",
       "       0, 0, 0, 0, 0, 0, 0, 0, 0, 0, 0, 0, 0, 0, 0, 0, 0, 0, 0, 0])"
      ]
     },
     "execution_count": 51,
     "metadata": {},
     "output_type": "execute_result"
    }
   ],
   "source": [
    "y_pred_class"
   ]
  },
  {
   "cell_type": "code",
   "execution_count": 52,
   "metadata": {},
   "outputs": [
    {
     "name": "stdout",
     "output_type": "stream",
     "text": [
      "[[37  0]\n",
      " [ 4  1]]\n"
     ]
    }
   ],
   "source": [
    "# calculate accuracy\n",
    "from sklearn import metrics\n",
    "from sklearn.metrics import f1_score\n",
    "\n",
    "conf_matrix = metrics.confusion_matrix(y_test, y_pred_class)\n",
    "\n",
    "print(conf_matrix)\n",
    "\n",
    "TN = conf_matrix[0][0]\n",
    "FP = conf_matrix[0][1]\n",
    "FN = conf_matrix[1][0]\n",
    "TP = conf_matrix[1][1]\n",
    "\n",
    "precision = TP/float(TP+FP)\n",
    "recall = TP/float(TP+FN)"
   ]
  },
  {
   "cell_type": "code",
   "execution_count": 53,
   "metadata": {},
   "outputs": [
    {
     "name": "stdout",
     "output_type": "stream",
     "text": [
      "accuracy: 0.9047619047619048\n",
      "sensitivity: 0.2\n",
      "specificity: 1.0\n",
      "PPV: 1.0\n",
      "F1 Score: 0.33333333333333337\n"
     ]
    }
   ],
   "source": [
    "# examine the class distribution of the testing set (using a Pandas Series method)\n",
    "print('accuracy: '+str(metrics.accuracy_score(y_test, y_pred_class)))\n",
    "# print((TP+TN)/float(TP+TN+FP+FN))\n",
    "\n",
    "print('sensitivity: '+str(metrics.recall_score(y_test, y_pred_class)))\n",
    "# print('sensitivity: '+str(TP/float(TP+FN)))\n",
    "\n",
    "print('specificity: '+str(TN/float(TN+FP)))\n",
    "\n",
    "print('PPV: '+str(metrics.precision_score(y_test, y_pred_class)))\n",
    "# print('PPV: '+str(TP/float(TP+FP)))\n",
    "\n",
    "print('F1 Score: '+str(metrics.f1_score(y_test, y_pred_class)))\n",
    "# print('F1 Score: '+str(2 * (precision * recall) / (precision + recall)))"
   ]
  },
  {
   "cell_type": "code",
   "execution_count": null,
   "metadata": {},
   "outputs": [],
   "source": []
  },
  {
   "cell_type": "code",
   "execution_count": 54,
   "metadata": {},
   "outputs": [
    {
     "data": {
      "text/plain": [
       "array([0.04196418, 0.19862936, 0.15351543, 0.09200293, 0.02115061,\n",
       "       0.06935088, 0.08167239, 0.05048164, 0.04192147, 0.35098149,\n",
       "       0.18697717, 0.66924054, 0.04176434, 0.00523997, 0.38378841,\n",
       "       0.02308242, 0.07463932, 0.03121883, 0.05854466, 0.0099819 ,\n",
       "       0.08166554, 0.05804798, 0.41628222, 0.01742965, 0.10681365,\n",
       "       0.33804724, 0.28193974, 0.09147392, 0.03627716, 0.13960476,\n",
       "       0.22194612, 0.19667581, 0.42363864, 0.28966688, 0.14877017,\n",
       "       0.02197174, 0.02614085, 0.09810339, 0.03048334, 0.11922722,\n",
       "       0.02898859, 0.09018149])"
      ]
     },
     "execution_count": 54,
     "metadata": {},
     "output_type": "execute_result"
    }
   ],
   "source": [
    "# print the predicted probabilities of class membership\n",
    "y_pred_prob = logReg.predict_proba(X_test)[:, 1]\n",
    "y_pred_prob"
   ]
  },
  {
   "cell_type": "code",
   "execution_count": 355,
   "metadata": {},
   "outputs": [
    {
     "data": {
      "text/plain": [
       "Text(0,0.5,'Frequency')"
      ]
     },
     "execution_count": 355,
     "metadata": {},
     "output_type": "execute_result"
    },
    {
     "data": {
      "image/png": "[encoded data removed]",
      "text/plain": [
       "<Figure size 432x288 with 1 Axes>"
      ]
     },
     "metadata": {},
     "output_type": "display_data"
    }
   ],
   "source": [
    "# histogram of predicted probabilities\n",
    "plt.hist(y_pred_prob, bins=8)\n",
    "plt.xlim(0, 1)\n",
    "plt.title('Histogram of predicted probabilities')\n",
    "plt.xlabel('Predicted probability Disease Status')\n",
    "plt.ylabel('Frequency')"
   ]
  },
  {
   "cell_type": "code",
   "execution_count": 356,
   "metadata": {},
   "outputs": [],
   "source": [
    "# decreases the threshold to predict positive value\n",
    "from sklearn.preprocessing import binarize\n",
    "y_pred_class = binarize([y_pred_prob], 0.3)[0]"
   ]
  },
  {
   "cell_type": "code",
   "execution_count": 357,
   "metadata": {},
   "outputs": [
    {
     "data": {
      "text/plain": [
       "array([0.04196418, 0.19862936, 0.15351543, 0.09200293, 0.02115061,\n",
       "       0.06935088, 0.08167239, 0.05048164, 0.04192147, 0.35098149])"
      ]
     },
     "execution_count": 357,
     "metadata": {},
     "output_type": "execute_result"
    }
   ],
   "source": [
    "y_pred_prob[0:10]"
   ]
  },
  {
   "cell_type": "code",
   "execution_count": 358,
   "metadata": {},
   "outputs": [
    {
     "data": {
      "text/plain": [
       "array([0., 0., 0., 0., 0., 0., 0., 0., 0., 1.])"
      ]
     },
     "execution_count": 358,
     "metadata": {},
     "output_type": "execute_result"
    }
   ],
   "source": [
    "y_pred_class[0:10]"
   ]
  },
  {
   "cell_type": "code",
   "execution_count": 359,
   "metadata": {},
   "outputs": [
    {
     "name": "stdout",
     "output_type": "stream",
     "text": [
      "[[33  4]\n",
      " [ 3  2]]\n"
     ]
    }
   ],
   "source": [
    "# recalculating the confusion matrix we can see that we shifted prediction from left column (negatives)\n",
    "# to the right column (positives) thus increasing our sensitivity but potentially hitting our specificity\n",
    "conf_matrix = metrics.confusion_matrix(y_test, y_pred_class)\n",
    "print(conf_matrix)\n"
   ]
  },
  {
   "cell_type": "code",
   "execution_count": 360,
   "metadata": {},
   "outputs": [
    {
     "name": "stdout",
     "output_type": "stream",
     "text": [
      "accuracy: 0.8333333333333334\n",
      "sensitivity: 0.4\n",
      "specificity: 1.0\n",
      "PPV: 0.3333333333333333\n"
     ]
    }
   ],
   "source": [
    "# examine the class distribution of the testing set (using a Pandas Series method)\n",
    "print('accuracy: '+str(metrics.accuracy_score(y_test, y_pred_class)))\n",
    "# print((TP+TN)/float(TP+TN+FP+FN))\n",
    "\n",
    "print('sensitivity: '+str(metrics.recall_score(y_test, y_pred_class)))\n",
    "# print('sensitivity: '+str(TP/float(TP+FN)))\n",
    "\n",
    "print('specificity: '+str(TN/float(TN+FP)))\n",
    "\n",
    "print('PPV: '+str(metrics.precision_score(y_test, y_pred_class)))\n",
    "# print('PPV: '+str(TP/float(TP+FP)))"
   ]
  },
  {
   "cell_type": "code",
   "execution_count": 361,
   "metadata": {},
   "outputs": [
    {
     "data": {
      "image/png": "[encoded data removed]",
      "text/plain": [
       "<Figure size 432x288 with 1 Axes>"
      ]
     },
     "metadata": {},
     "output_type": "display_data"
    }
   ],
   "source": [
    "# IMPORTANT: first argument is true values, second argument is predicted probabilities\n",
    "fpr, tpr, thresholds = metrics.roc_curve(y_test, y_pred_prob)\n",
    "plt.plot(fpr, tpr)\n",
    "plt.xlim([0.0, 1.0])\n",
    "plt.ylim([0.0, 1.0])\n",
    "plt.title('ROC curve for diabetes classifier')\n",
    "plt.xlabel('False Positive Rate (1 - Specificity)')\n",
    "plt.ylabel('True Positive Rate (Sensitivity)')\n",
    "plt.grid(True)"
   ]
  },
  {
   "cell_type": "code",
   "execution_count": 362,
   "metadata": {},
   "outputs": [],
   "source": [
    "def evaluate_threshold(threshold):\n",
    "    print('Sensitivity:', tpr[thresholds > threshold][-1])\n",
    "    print('Specificity:', 1 - fpr[thresholds > threshold][-1])"
   ]
  },
  {
   "cell_type": "code",
   "execution_count": 363,
   "metadata": {},
   "outputs": [
    {
     "name": "stdout",
     "output_type": "stream",
     "text": [
      "Sensitivity: 0.4\n",
      "Specificity: 0.8108108108108107\n"
     ]
    }
   ],
   "source": [
    "evaluate_threshold(0.2)"
   ]
  },
  {
   "cell_type": "code",
   "execution_count": 364,
   "metadata": {},
   "outputs": [
    {
     "name": "stdout",
     "output_type": "stream",
     "text": [
      "0.7189189189189189\n"
     ]
    }
   ],
   "source": [
    "print(metrics.roc_auc_score(y_test, y_pred_prob))"
   ]
  },
  {
   "cell_type": "code",
   "execution_count": 365,
   "metadata": {},
   "outputs": [
    {
     "data": {
      "text/plain": [
       "0.7805555555555556"
      ]
     },
     "execution_count": 365,
     "metadata": {},
     "output_type": "execute_result"
    }
   ],
   "source": []
  },
  {
   "cell_type": "code",
   "execution_count": null,
   "metadata": {},
   "outputs": [],
   "source": []
  },
  {
   "cell_type": "code",
   "execution_count": 200,
   "metadata": {},
   "outputs": [],
   "source": [
    "# KNN"
   ]
  },
  {
   "cell_type": "code",
   "execution_count": 394,
   "metadata": {},
   "outputs": [],
   "source": [
    "knn = KNeighborsClassifier(n_neighbors=5)\n",
    "knn.fit(X_train, y_train)\n",
    "y_pred_class = knn.predict(X_test)\n",
    "y_pred_class = knn.predict(X_test)"
   ]
  },
  {
   "cell_type": "code",
   "execution_count": 395,
   "metadata": {},
   "outputs": [
    {
     "name": "stdout",
     "output_type": "stream",
     "text": [
      "[[36  1]\n",
      " [ 5  0]]\n"
     ]
    }
   ],
   "source": [
    "conf_matrix = metrics.confusion_matrix(y_test, y_pred_class)\n",
    "\n",
    "print(conf_matrix)"
   ]
  },
  {
   "cell_type": "code",
   "execution_count": 398,
   "metadata": {},
   "outputs": [
    {
     "name": "stdout",
     "output_type": "stream",
     "text": [
      "accuracy: 0.8571428571428571\n",
      "sensitivity: 0.0\n",
      "PPV: 0.0\n",
      "F1 Score: 0.0\n"
     ]
    }
   ],
   "source": [
    "# examine the class distribution of the testing set (using a Pandas Series method)\n",
    "print('accuracy: '+str(metrics.accuracy_score(y_test, y_pred_class)))\n",
    "print('sensitivity: '+str(metrics.recall_score(y_test, y_pred_class)))\n",
    "# print('specificity: '+str(TN/float(TN+FP)))\n",
    "print('PPV: '+str(metrics.precision_score(y_test, y_pred_class)))\n",
    "print('F1 Score: '+str(metrics.f1_score(y_test, y_pred_class)))"
   ]
  },
  {
   "cell_type": "code",
   "execution_count": 399,
   "metadata": {},
   "outputs": [
    {
     "data": {
      "text/plain": [
       "array([0, 0, 0, 0, 0, 0, 0, 0, 0, 0, 0, 0, 0, 0, 0, 0, 0, 0, 0, 0, 0, 0,\n",
       "       0, 0, 0, 0, 0, 0, 0, 0, 0, 0, 1, 0, 0, 0, 0, 0, 0, 0, 0, 0])"
      ]
     },
     "execution_count": 399,
     "metadata": {},
     "output_type": "execute_result"
    }
   ],
   "source": [
    "y_pred_class"
   ]
  },
  {
   "cell_type": "code",
   "execution_count": 63,
   "metadata": {},
   "outputs": [
    {
     "ename": "NameError",
     "evalue": "name 'cross_val_score' is not defined",
     "output_type": "error",
     "traceback": [
      "\u001b[1;31m---------------------------------------------------------------------------\u001b[0m",
      "\u001b[1;31mNameError\u001b[0m                                 Traceback (most recent call last)",
      "\u001b[1;32m<ipython-input-63-95c1255a3dce>\u001b[0m in \u001b[0;36m<module>\u001b[1;34m()\u001b[0m\n\u001b[1;32m----> 1\u001b[1;33m \u001b[0mcross_val_score\u001b[0m\u001b[1;33m(\u001b[0m\u001b[0mknn\u001b[0m\u001b[1;33m,\u001b[0m \u001b[0mX\u001b[0m\u001b[1;33m,\u001b[0m \u001b[0my\u001b[0m\u001b[1;33m,\u001b[0m \u001b[0mcv\u001b[0m\u001b[1;33m=\u001b[0m\u001b[1;36m5\u001b[0m\u001b[1;33m,\u001b[0m \u001b[0mscoring\u001b[0m\u001b[1;33m=\u001b[0m\u001b[1;34m'roc_auc'\u001b[0m\u001b[1;33m)\u001b[0m\u001b[1;33m.\u001b[0m\u001b[0mmean\u001b[0m\u001b[1;33m(\u001b[0m\u001b[1;33m)\u001b[0m\u001b[1;33m\u001b[0m\u001b[0m\n\u001b[0m",
      "\u001b[1;31mNameError\u001b[0m: name 'cross_val_score' is not defined"
     ]
    }
   ],
   "source": [
    "cross_val_score(knn, X, y, cv=5, scoring='roc_auc').mean()"
   ]
  },
  {
   "cell_type": "code",
   "execution_count": 370,
   "metadata": {},
   "outputs": [],
   "source": [
    "k_range = list(range(1, 26))\n",
    "scores = []\n",
    "for k in k_range:\n",
    "    knn = KNeighborsClassifier(n_neighbors=k)\n",
    "    knn.fit(X_train, y_train)\n",
    "    y_pred = knn.predict(X_test)\n",
    "    scores.append(metrics.accuracy_score(y_test, y_pred))"
   ]
  },
  {
   "cell_type": "code",
   "execution_count": 371,
   "metadata": {},
   "outputs": [
    {
     "data": {
      "text/plain": [
       "Text(0,0.5,'Testing Accuracy')"
      ]
     },
     "execution_count": 371,
     "metadata": {},
     "output_type": "execute_result"
    },
    {
     "data": {
      "image/png": "[encoded data removed]",
      "text/plain": [
       "<Figure size 432x288 with 1 Axes>"
      ]
     },
     "metadata": {},
     "output_type": "display_data"
    }
   ],
   "source": [
    "# plot the relationship between K and testing accuracy\n",
    "plt.plot(k_range, scores)\n",
    "plt.xlabel('Value of K for KNN')\n",
    "plt.ylabel('Testing Accuracy')"
   ]
  },
  {
   "cell_type": "code",
   "execution_count": null,
   "metadata": {},
   "outputs": [],
   "source": []
  },
  {
   "cell_type": "code",
   "execution_count": null,
   "metadata": {},
   "outputs": [],
   "source": []
  },
  {
   "cell_type": "code",
   "execution_count": 439,
   "metadata": {},
   "outputs": [
    {
     "name": "stdout",
     "output_type": "stream",
     "text": [
      "accuracy: [0.2        0.36111111 0.91666667 0.36111111 0.38888889 0.27777778\n",
      " 0.61111111 0.22222222 0.38888889 0.38888889]\n",
      "\n",
      "Mean Score: 0.4227777777777778\n"
     ]
    }
   ],
   "source": [
    "from sklearn.model_selection import cross_val_score\n",
    "X = association_indep_df[cols_2]\n",
    "\n",
    "\n",
    "knn = KNeighborsClassifier(n_neighbors=5)\n",
    "# scores = cross_val_score(knn, X, y, cv=10, scoring='accuracy')\n",
    "print('accuracy: '+str(scores))\n",
    "scores = cross_val_score(knn, X, y, cv=10, scoring='roc_auc')\n",
    "print('\\nMean Score: '+str(scores.mean()))"
   ]
  },
  {
   "cell_type": "code",
   "execution_count": 444,
   "metadata": {},
   "outputs": [
    {
     "name": "stdout",
     "output_type": "stream",
     "text": [
      "[0.4288888888888889, 0.3927777777777778, 0.43833333333333335, 0.4666666666666666, 0.4227777777777778, 0.5283333333333333, 0.5177777777777779, 0.5066666666666667, 0.4900000000000001, 0.4697222222222222, 0.4758333333333334, 0.46527777777777785, 0.5069444444444444, 0.4963888888888889, 0.5383333333333333, 0.5461111111111111, 0.5530555555555555, 0.5280555555555555, 0.5744444444444444, 0.5744444444444444, 0.5688888888888889, 0.5694444444444444, 0.5527777777777778, 0.5533333333333333, 0.5566666666666668, 0.5427777777777778, 0.5705555555555555, 0.5677777777777777, 0.5538888888888889, 0.5877777777777777, 0.605, 0.5994444444444443, 0.5955555555555556, 0.5875, 0.6263888888888889, 0.633888888888889, 0.668888888888889, 0.6716666666666666, 0.6466666666666667, 0.6361111111111112, 0.6222222222222223, 0.6138888888888889, 0.5977777777777777, 0.5922222222222222, 0.6188888888888889, 0.6272222222222223, 0.6166666666666667, 0.6297222222222223, 0.6408333333333334, 0.6297222222222223, 0.621388888888889, 0.643888888888889, 0.6761111111111111, 0.6399999999999999, 0.6572222222222222, 0.6461111111111111, 0.6294444444444445, 0.6127777777777779, 0.6133333333333334, 0.5994444444444446, 0.5833333333333333, 0.5894444444444444, 0.5774999999999999, 0.6016666666666667, 0.5958333333333333, 0.5958333333333333, 0.5961111111111111, 0.5769444444444445, 0.5355555555555555, 0.5219444444444443, 0.5072222222222222, 0.5166666666666666, 0.5166666666666666, 0.4963888888888889, 0.49111111111111116, 0.5288888888888889, 0.51, 0.4772222222222222, 0.43833333333333335, 0.4719444444444444, 0.4613888888888889, 0.4608333333333333, 0.48611111111111105, 0.5111111111111111, 0.48694444444444446, 0.4872222222222223, 0.5261111111111112, 0.4927777777777777, 0.46611111111111114]\n"
     ]
    }
   ],
   "source": [
    "# search for an optimal value of K for KNN\n",
    "k_range = list(range(1, 90))\n",
    "k_scores = []\n",
    "for k in k_range:\n",
    "    knn = KNeighborsClassifier(n_neighbors=k)\n",
    "    scores = cross_val_score(knn, X, y, cv=10, scoring='roc_auc')\n",
    "    k_scores.append(scores.mean())\n",
    "print(k_scores)"
   ]
  },
  {
   "cell_type": "code",
   "execution_count": 445,
   "metadata": {},
   "outputs": [
    {
     "data": {
      "text/plain": [
       "Text(0,0.5,'Cross-Validated AU ROC')"
      ]
     },
     "execution_count": 445,
     "metadata": {},
     "output_type": "execute_result"
    },
    {
     "data": {
      "image/png": "[encoded data removed]",
      "text/plain": [
       "<Figure size 432x288 with 1 Axes>"
      ]
     },
     "metadata": {},
     "output_type": "display_data"
    }
   ],
   "source": [
    "# plot the value of K for KNN (x-axis) versus the cross-validated accuracy (y-axis)\n",
    "plt.plot(k_range, k_scores)\n",
    "plt.xlabel('Value of K for KNN')\n",
    "plt.ylabel('Cross-Validated AU ROC')"
   ]
  },
  {
   "cell_type": "code",
   "execution_count": null,
   "metadata": {},
   "outputs": [],
   "source": []
  },
  {
   "cell_type": "code",
   "execution_count": 455,
   "metadata": {},
   "outputs": [
    {
     "name": "stdout",
     "output_type": "stream",
     "text": [
      "0.6361111111111112\n"
     ]
    }
   ],
   "source": [
    "knn = KNeighborsClassifier(n_neighbors=40)\n",
    "print(cross_val_score(knn, X, y, cv=10, scoring='roc_auc').mean())"
   ]
  },
  {
   "cell_type": "code",
   "execution_count": 547,
   "metadata": {},
   "outputs": [],
   "source": [
    "X = association_indep_df[cols_3]"
   ]
  },
  {
   "cell_type": "code",
   "execution_count": 548,
   "metadata": {},
   "outputs": [
    {
     "name": "stdout",
     "output_type": "stream",
     "text": [
      "0.9616666666666667\n"
     ]
    }
   ],
   "source": [
    "logreg = LogisticRegression()\n",
    "print(cross_val_score(logreg, X, y, cv=10, scoring='roc_auc').mean())"
   ]
  },
  {
   "cell_type": "code",
   "execution_count": 551,
   "metadata": {},
   "outputs": [
    {
     "data": {
      "text/plain": [
       "RFECV(cv=None,\n",
       "   estimator=RandomForestClassifier(bootstrap=True, class_weight=None, criterion='gini',\n",
       "            max_depth=None, max_features='auto', max_leaf_nodes=None,\n",
       "            min_impurity_decrease=0.0, min_impurity_split=None,\n",
       "            min_samples_leaf=1, min_samples_split=2,\n",
       "            min_weight_fraction_leaf=0.0, n_estimators=10, n_jobs=1,\n",
       "            oob_score=False, random_state=None, verbose=0,\n",
       "            warm_start=False),\n",
       "   n_jobs=1, scoring='roc_auc', step=1, verbose=0)"
      ]
     },
     "execution_count": 551,
     "metadata": {},
     "output_type": "execute_result"
    }
   ],
   "source": [
    "from sklearn.ensemble import RandomForestClassifier\n",
    "from sklearn.feature_selection import RFECV\n",
    "m = RFECV(RandomForestClassifier(), scoring = 'roc_auc')\n",
    "m.fit(X, y)"
   ]
  },
  {
   "cell_type": "code",
   "execution_count": null,
   "metadata": {},
   "outputs": [],
   "source": []
  },
  {
   "cell_type": "code",
   "execution_count": 553,
   "metadata": {},
   "outputs": [
    {
     "name": "stdout",
     "output_type": "stream",
     "text": [
      "0.9099999999999999\n"
     ]
    }
   ],
   "source": [
    "print(cross_val_score(m, X, y, cv=10, scoring='roc_auc').mean())"
   ]
  },
  {
   "cell_type": "code",
   "execution_count": null,
   "metadata": {},
   "outputs": [],
   "source": []
  },
  {
   "cell_type": "code",
   "execution_count": null,
   "metadata": {},
   "outputs": [],
   "source": []
  },
  {
   "cell_type": "markdown",
   "metadata": {},
   "source": [
    "**[Do not edit the contents of this cell]**\n",
    "\n",
    "### Part 2\n",
    "\n",
    "Given the classifier you devised in Part 1, predict the disease status of the following subject:\n",
    "- subject: ID986\n",
    "- sex: 1\n",
    "- height: 180.2\n",
    "- mass: 70.1\n",
    "- smoker: 1\n",
    "- ethnicity: \"White\"\n",
    "- metabolite_A: 0.5\n",
    "- metabolite_B: 1.2\n",
    "- metabolite_C: 0.5\n",
    "- metabolite_D: 8.5\n",
    "- metabolite_E: 10.2"
   ]
  },
  {
   "cell_type": "code",
   "execution_count": 52,
   "metadata": {},
   "outputs": [],
   "source": [
    "# [Write your code in this cell]\n"
   ]
  },
  {
   "cell_type": "code",
   "execution_count": 581,
   "metadata": {},
   "outputs": [],
   "source": [
    "subject_986 = np.asarray([1, '180.2', 70.1, 1, 0.5, 1.2, 0.5, 8.5, 10.2, glucose_median,0,0,1,0 ])\n",
    "subject_986 = subject_986.reshape(1,-1)\n",
    "# subject_986.reshape(-1,1).shape\n",
    "# subject_986.reshape(14,1)\n",
    "# print(X.shape)"
   ]
  },
  {
   "cell_type": "code",
   "execution_count": 584,
   "metadata": {},
   "outputs": [
    {
     "data": {
      "text/plain": [
       "1"
      ]
     },
     "execution_count": 584,
     "metadata": {},
     "output_type": "execute_result"
    }
   ],
   "source": [
    "ans = m.predict(subject_986)[0]\n",
    "ans"
   ]
  }
 ],
 "metadata": {
  "kernelspec": {
   "display_name": "Python 3",
   "language": "python",
   "name": "python3"
  },
  "language_info": {
   "codemirror_mode": {
    "name": "ipython",
    "version": 3
   },
   "file_extension": ".py",
   "mimetype": "text/x-python",
   "name": "python",
   "nbconvert_exporter": "python",
   "pygments_lexer": "ipython3",
   "version": "3.7.0"
  }
 },
 "nbformat": 4,
 "nbformat_minor": 2
}
