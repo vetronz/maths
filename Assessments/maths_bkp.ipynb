{
 "cells": [
  {
   "cell_type": "markdown",
   "metadata": {},
   "source": [
    "**[Do not edit the contents of this cell]**\n",
    "\n",
    "# MSc in Bioinformatics and Theoretical Systems Biology - Maths and Stats Assignment 2018/19\n",
    "\n",
    "This assignment is to be completed in Python, R or Julia and returned as a Jupyter notebook. There are 4 types of cells used in this notebook:\n",
    "1. Cells containing tasks and instructions to be completed. Do not edit these. These are clearly labelled.\n",
    "2. Cells in which you are meant to provide an answer in Markdown format.\n",
    "3. Cells containing code that defines e.g. which packages to load, but can also contain routines and snippets of codes that you should use.\n",
    "4. Cells that contain the Python/R/Julia code that you write to solve the problems set.\n",
    "\n",
    "Each of these cells will contain explit comments at the top telling you whether to edit or not edit a cell. In Code cells comments are specified by the \"#\" character. In the Markdown Answer Cells, replace the xxx by your answer, whenever these are present. You will have to execute all code and Markdown cells in order to (i) make use of the provided code, and (ii) format the markdown appropriately.\n",
    "\n",
    "There are four problems to be tackled:\n",
    "1. Data exploration [40%]\n",
    "2. Hypothesis testing [20%]\n",
    "3. Regression [20%]\n",
    "4. Classification [20%]\n",
    "\n",
    "For each questions there several parts of different difficulty. Where appropriate, further reading will be given at the start of each question.\n",
    "\n",
    "You will have to specify which language (and version) you used and all packages needed in order to run all Code cells. Please add this information in the next two cells. You can also use a mix of languages but any change has to be clearly indicated in the appropriate cell."
   ]
  },
  {
   "cell_type": "markdown",
   "metadata": {},
   "source": [
    "\n",
    "The kernel for this Jupyter notebook is python, version 3.7, with the following packages: numpy, matplotlib.pyplot, scipy, pandas, seaborn, sklearn, statsmodels"
   ]
  },
  {
   "cell_type": "code",
   "execution_count": 1,
   "metadata": {},
   "outputs": [
    {
     "name": "stderr",
     "output_type": "stream",
     "text": [
      "C:\\Users\\patri\\Anaconda3\\lib\\site-packages\\sklearn\\ensemble\\weight_boosting.py:29: DeprecationWarning: numpy.core.umath_tests is an internal NumPy module and should not be imported. It will be removed in a future NumPy release.\n",
      "  from numpy.core.umath_tests import inner1d\n"
     ]
    }
   ],
   "source": [
    "# here import all libraries or packages needed\n",
    "import numpy as np\n",
    "import matplotlib.pyplot as plt\n",
    "import scipy\n",
    "import pandas as pd\n",
    "import seaborn as sns\n",
    "from scipy import stats\n",
    "from sklearn.linear_model import LinearRegression\n",
    "from statsmodels.sandbox.stats.multicomp import multipletests\n",
    "from sklearn.model_selection import train_test_split\n",
    "from sklearn.metrics import mean_squared_error\n",
    "from sklearn.linear_model import LogisticRegression\n",
    "from sklearn import metrics\n",
    "from sklearn.model_selection import cross_val_score\n",
    "from sklearn.ensemble import RandomForestClassifier\n",
    "from sklearn.feature_selection import RFECV\n",
    "\n",
    "%matplotlib inline\n",
    "# ..."
   ]
  },
  {
   "cell_type": "markdown",
   "metadata": {},
   "source": [
    "**[Do not edit the contents of this cell]**\n",
    "\n",
    "## Problem 1: data exploration\n",
    "\n",
    "We consider a subset of data coming from a putative association study where researchers collected various metrics and phenotypes to find associations with a putative generic cardiovascular disease.\n",
    "All recruited subjects are adults.\n",
    "For each subject several predictor variables are recorded: sex, height (in cm), mass (in kg), whether is a smoker or not, her/his ethnicity, and levels of 5 different metabolites (labelled A-E).\n",
    "Each subject has a unique ID number. \n",
    "For each subject a disease score, the response variable, measuring the severity of the disease phenotype in arbitrary units, is provided.\n",
    "The data is provided in the file `association.csv`.\n",
    "\n",
    "### Part 1\n",
    "\n",
    "Load the dataset `association.csv`.\n",
    "How many unique records of subjects do we have? How many unique predictor variables?"
   ]
  },
  {
   "cell_type": "code",
   "execution_count": 2,
   "metadata": {},
   "outputs": [
    {
     "name": "stdout",
     "output_type": "stream",
     "text": [
      "True\n"
     ]
    },
    {
     "data": {
      "text/html": [
       "<div>\n",
       "<style scoped>\n",
       "    .dataframe tbody tr th:only-of-type {\n",
       "        vertical-align: middle;\n",
       "    }\n",
       "\n",
       "    .dataframe tbody tr th {\n",
       "        vertical-align: top;\n",
       "    }\n",
       "\n",
       "    .dataframe thead th {\n",
       "        text-align: right;\n",
       "    }\n",
       "</style>\n",
       "<table border=\"1\" class=\"dataframe\">\n",
       "  <thead>\n",
       "    <tr style=\"text-align: right;\">\n",
       "      <th></th>\n",
       "      <th>sex</th>\n",
       "      <th>height</th>\n",
       "      <th>mass</th>\n",
       "      <th>smoker</th>\n",
       "      <th>ethnicity</th>\n",
       "      <th>metabolite_A</th>\n",
       "      <th>metabolite_B</th>\n",
       "      <th>metabolite_C</th>\n",
       "      <th>metabolite_D</th>\n",
       "      <th>metabolite_E</th>\n",
       "      <th>disease_score</th>\n",
       "      <th>glucose_index</th>\n",
       "    </tr>\n",
       "    <tr>\n",
       "      <th>subject</th>\n",
       "      <th></th>\n",
       "      <th></th>\n",
       "      <th></th>\n",
       "      <th></th>\n",
       "      <th></th>\n",
       "      <th></th>\n",
       "      <th></th>\n",
       "      <th></th>\n",
       "      <th></th>\n",
       "      <th></th>\n",
       "      <th></th>\n",
       "      <th></th>\n",
       "    </tr>\n",
       "  </thead>\n",
       "  <tbody>\n",
       "    <tr>\n",
       "      <th>ID85</th>\n",
       "      <td>1</td>\n",
       "      <td>171.476882</td>\n",
       "      <td>71.070214</td>\n",
       "      <td>0</td>\n",
       "      <td>Asian</td>\n",
       "      <td>0.777283</td>\n",
       "      <td>1.544216</td>\n",
       "      <td>0.200118</td>\n",
       "      <td>4.963626</td>\n",
       "      <td>9.981923</td>\n",
       "      <td>0.967832</td>\n",
       "      <td>12.922944</td>\n",
       "    </tr>\n",
       "    <tr>\n",
       "      <th>ID86</th>\n",
       "      <td>0</td>\n",
       "      <td>186.503967</td>\n",
       "      <td>80.276194</td>\n",
       "      <td>0</td>\n",
       "      <td>Black/African/Caribbean</td>\n",
       "      <td>0.984182</td>\n",
       "      <td>2.040572</td>\n",
       "      <td>0.293487</td>\n",
       "      <td>5.250400</td>\n",
       "      <td>10.745194</td>\n",
       "      <td>-5.513232</td>\n",
       "      <td>13.573983</td>\n",
       "    </tr>\n",
       "    <tr>\n",
       "      <th>ID48</th>\n",
       "      <td>1</td>\n",
       "      <td>177.289453</td>\n",
       "      <td>70.102716</td>\n",
       "      <td>1</td>\n",
       "      <td>Other</td>\n",
       "      <td>0.989442</td>\n",
       "      <td>1.983742</td>\n",
       "      <td>0.410665</td>\n",
       "      <td>4.302722</td>\n",
       "      <td>9.032480</td>\n",
       "      <td>-3.236092</td>\n",
       "      <td>10.786252</td>\n",
       "    </tr>\n",
       "    <tr>\n",
       "      <th>ID4</th>\n",
       "      <td>0</td>\n",
       "      <td>182.755756</td>\n",
       "      <td>76.286511</td>\n",
       "      <td>0</td>\n",
       "      <td>White</td>\n",
       "      <td>0.998088</td>\n",
       "      <td>1.940030</td>\n",
       "      <td>0.183667</td>\n",
       "      <td>4.243840</td>\n",
       "      <td>8.597430</td>\n",
       "      <td>-7.306565</td>\n",
       "      <td>10.671802</td>\n",
       "    </tr>\n",
       "    <tr>\n",
       "      <th>ID63</th>\n",
       "      <td>1</td>\n",
       "      <td>178.761595</td>\n",
       "      <td>70.987086</td>\n",
       "      <td>0</td>\n",
       "      <td>Asian</td>\n",
       "      <td>0.893859</td>\n",
       "      <td>1.794609</td>\n",
       "      <td>0.554105</td>\n",
       "      <td>4.006878</td>\n",
       "      <td>8.530953</td>\n",
       "      <td>1.514585</td>\n",
       "      <td>10.002689</td>\n",
       "    </tr>\n",
       "  </tbody>\n",
       "</table>\n",
       "</div>"
      ],
      "text/plain": [
       "         sex      height       mass  smoker                ethnicity  \\\n",
       "subject                                                                \n",
       "ID85       1  171.476882  71.070214       0                    Asian   \n",
       "ID86       0  186.503967  80.276194       0  Black/African/Caribbean   \n",
       "ID48       1  177.289453  70.102716       1                    Other   \n",
       "ID4        0  182.755756  76.286511       0                    White   \n",
       "ID63       1  178.761595  70.987086       0                    Asian   \n",
       "\n",
       "         metabolite_A  metabolite_B  metabolite_C  metabolite_D  metabolite_E  \\\n",
       "subject                                                                         \n",
       "ID85         0.777283      1.544216      0.200118      4.963626      9.981923   \n",
       "ID86         0.984182      2.040572      0.293487      5.250400     10.745194   \n",
       "ID48         0.989442      1.983742      0.410665      4.302722      9.032480   \n",
       "ID4          0.998088      1.940030      0.183667      4.243840      8.597430   \n",
       "ID63         0.893859      1.794609      0.554105      4.006878      8.530953   \n",
       "\n",
       "         disease_score  glucose_index  \n",
       "subject                                \n",
       "ID85          0.967832      12.922944  \n",
       "ID86         -5.513232      13.573983  \n",
       "ID48         -3.236092      10.786252  \n",
       "ID4          -7.306565      10.671802  \n",
       "ID63          1.514585      10.002689  "
      ]
     },
     "execution_count": 2,
     "metadata": {},
     "output_type": "execute_result"
    }
   ],
   "source": [
    "# [Write your code in this cell]\n",
    "\n",
    "# load in data\n",
    "association_df = pd.read_csv('association.csv')\n",
    "glucose_df = pd.read_csv('glucose.csv')\n",
    "\n",
    "# find duplicate traing examples and remove last instance\n",
    "association_df.loc[association_df.duplicated(keep=False),:]\n",
    "association_df.drop_duplicates(keep='first', inplace=True)\n",
    "\n",
    "# find duplicates in glucose_df\n",
    "glucose_df[glucose_df['subject']=='ID18']\n",
    "\n",
    "# Since we have two different values with a unique identifier I will remove one and set others value to the mean.\n",
    "avg_glucose = glucose_df.iloc[[17,62]].glucose_index.mean()\n",
    "glucose_df.drop_duplicates(subset=['subject'], keep='first',inplace=True)\n",
    "glucose_df.at[17, 'glucose_index'] = avg_glucose\n",
    "\n",
    "# Ensure alignment of dataframe shapes\n",
    "print(glucose_df.shape[0] == association_df.shape[0])\n",
    "\n",
    "# merge dataframes on ID\n",
    "association_df.set_index('subject', inplace=True)\n",
    "glucose_df.set_index('subject', inplace=True)\n",
    "\n",
    "association_df = pd.merge(association_df, glucose_df, on='subject')\n",
    "association_df.head()"
   ]
  },
  {
   "cell_type": "markdown",
   "metadata": {},
   "source": [
    "**[Provide your answer here]**\n",
    "- The number of unique records of subjects in the dataset is: 105\n",
    "- The number of variables in the dataset is: 12"
   ]
  },
  {
   "cell_type": "markdown",
   "metadata": {},
   "source": [
    "**[Do not edit the contents of this cell]**\n",
    "\n",
    "### Part 2\n",
    "\n",
    "Produce a plot to illustrate the distribution of variables sex, mass, ethnicity, metabolite_A. Choose the most appropriate visualisation depending on the type of each variable."
   ]
  },
  {
   "cell_type": "code",
   "execution_count": 3,
   "metadata": {},
   "outputs": [
    {
     "name": "stdout",
     "output_type": "stream",
     "text": [
      "(103, 12)\n"
     ]
    },
    {
     "name": "stderr",
     "output_type": "stream",
     "text": [
      "C:\\Users\\patri\\Anaconda3\\lib\\site-packages\\scipy\\stats\\stats.py:1713: FutureWarning: Using a non-tuple sequence for multidimensional indexing is deprecated; use `arr[tuple(seq)]` instead of `arr[seq]`. In the future this will be interpreted as an array index, `arr[np.array(seq)]`, which will result either in an error or a different result.\n",
      "  return np.add.reduce(sorted[indexer] * weights, axis=axis) / sumval\n"
     ]
    },
    {
     "data": {
      "image/png": "[encoded data removed]",
      "text/plain": [
       "<Figure size 1008x864 with 4 Axes>"
      ]
     },
     "metadata": {},
     "output_type": "display_data"
    }
   ],
   "source": [
    "# [Write your code in this cell]\n",
    "\n",
    "# Create a new dataframe containing only completed values.\n",
    "association_full_df = association_df.dropna()\n",
    "print(association_full_df.shape) # 2 rows dropped\n",
    "\n",
    "sns.set(style=\"darkgrid\")\n",
    "\n",
    "fig = plt.figure(figsize=(14,12))\n",
    "fig.add_subplot(2,2,1)\n",
    "sns.countplot(association_full_df['sex'])\n",
    "plt.title('Gender Counts', y=0.94, x=0.85)\n",
    "\n",
    "fig.add_subplot(2,2,2)\n",
    "sns.countplot(association_full_df['ethnicity'])\n",
    "plt.title('Ethnicity Counts', y=0.94, x=0.85)\n",
    "\n",
    "fig.add_subplot(2,2,3)\n",
    "sns.distplot(association_full_df['mass'])\n",
    "plt.title('Mass Distribution', y=0.94, x=0.86)\n",
    "\n",
    "fig.add_subplot(2,2,4)\n",
    "sns.distplot(association_full_df['metabolite_A'])\n",
    "plt.title('Metabolite_A Distribution', y=0.94, x=0.77)\n",
    "\n",
    "plt.show()\n",
    "# ax = fig.add_subplot(2, 2,1)"
   ]
  },
  {
   "cell_type": "markdown",
   "metadata": {},
   "source": [
    "**[Do not edit the contents of this cell]**\n",
    "\n",
    "### Part 3\n",
    "\n",
    "Write a function that returns the Body Mass Index (BMI).Calculate BMI for each subject and add it as new variable in the data set."
   ]
  },
  {
   "cell_type": "code",
   "execution_count": 4,
   "metadata": {},
   "outputs": [
    {
     "data": {
      "text/html": [
       "<div>\n",
       "<style scoped>\n",
       "    .dataframe tbody tr th:only-of-type {\n",
       "        vertical-align: middle;\n",
       "    }\n",
       "\n",
       "    .dataframe tbody tr th {\n",
       "        vertical-align: top;\n",
       "    }\n",
       "\n",
       "    .dataframe thead th {\n",
       "        text-align: right;\n",
       "    }\n",
       "</style>\n",
       "<table border=\"1\" class=\"dataframe\">\n",
       "  <thead>\n",
       "    <tr style=\"text-align: right;\">\n",
       "      <th></th>\n",
       "      <th>sex</th>\n",
       "      <th>height</th>\n",
       "      <th>mass</th>\n",
       "      <th>smoker</th>\n",
       "      <th>ethnicity</th>\n",
       "      <th>metabolite_A</th>\n",
       "      <th>metabolite_B</th>\n",
       "      <th>metabolite_C</th>\n",
       "      <th>metabolite_D</th>\n",
       "      <th>metabolite_E</th>\n",
       "      <th>disease_score</th>\n",
       "      <th>glucose_index</th>\n",
       "      <th>BMI</th>\n",
       "    </tr>\n",
       "    <tr>\n",
       "      <th>subject</th>\n",
       "      <th></th>\n",
       "      <th></th>\n",
       "      <th></th>\n",
       "      <th></th>\n",
       "      <th></th>\n",
       "      <th></th>\n",
       "      <th></th>\n",
       "      <th></th>\n",
       "      <th></th>\n",
       "      <th></th>\n",
       "      <th></th>\n",
       "      <th></th>\n",
       "      <th></th>\n",
       "    </tr>\n",
       "  </thead>\n",
       "  <tbody>\n",
       "    <tr>\n",
       "      <th>ID85</th>\n",
       "      <td>1</td>\n",
       "      <td>171.476882</td>\n",
       "      <td>71.070214</td>\n",
       "      <td>0</td>\n",
       "      <td>Asian</td>\n",
       "      <td>0.777283</td>\n",
       "      <td>1.544216</td>\n",
       "      <td>0.200118</td>\n",
       "      <td>4.963626</td>\n",
       "      <td>9.981923</td>\n",
       "      <td>0.967832</td>\n",
       "      <td>12.922944</td>\n",
       "      <td>24.169990</td>\n",
       "    </tr>\n",
       "    <tr>\n",
       "      <th>ID86</th>\n",
       "      <td>0</td>\n",
       "      <td>186.503967</td>\n",
       "      <td>80.276194</td>\n",
       "      <td>0</td>\n",
       "      <td>Black/African/Caribbean</td>\n",
       "      <td>0.984182</td>\n",
       "      <td>2.040572</td>\n",
       "      <td>0.293487</td>\n",
       "      <td>5.250400</td>\n",
       "      <td>10.745194</td>\n",
       "      <td>-5.513232</td>\n",
       "      <td>13.573983</td>\n",
       "      <td>23.078662</td>\n",
       "    </tr>\n",
       "    <tr>\n",
       "      <th>ID48</th>\n",
       "      <td>1</td>\n",
       "      <td>177.289453</td>\n",
       "      <td>70.102716</td>\n",
       "      <td>1</td>\n",
       "      <td>Other</td>\n",
       "      <td>0.989442</td>\n",
       "      <td>1.983742</td>\n",
       "      <td>0.410665</td>\n",
       "      <td>4.302722</td>\n",
       "      <td>9.032480</td>\n",
       "      <td>-3.236092</td>\n",
       "      <td>10.786252</td>\n",
       "      <td>22.303296</td>\n",
       "    </tr>\n",
       "  </tbody>\n",
       "</table>\n",
       "</div>"
      ],
      "text/plain": [
       "         sex      height       mass  smoker                ethnicity  \\\n",
       "subject                                                                \n",
       "ID85       1  171.476882  71.070214       0                    Asian   \n",
       "ID86       0  186.503967  80.276194       0  Black/African/Caribbean   \n",
       "ID48       1  177.289453  70.102716       1                    Other   \n",
       "\n",
       "         metabolite_A  metabolite_B  metabolite_C  metabolite_D  metabolite_E  \\\n",
       "subject                                                                         \n",
       "ID85         0.777283      1.544216      0.200118      4.963626      9.981923   \n",
       "ID86         0.984182      2.040572      0.293487      5.250400     10.745194   \n",
       "ID48         0.989442      1.983742      0.410665      4.302722      9.032480   \n",
       "\n",
       "         disease_score  glucose_index        BMI  \n",
       "subject                                           \n",
       "ID85          0.967832      12.922944  24.169990  \n",
       "ID86         -5.513232      13.573983  23.078662  \n",
       "ID48         -3.236092      10.786252  22.303296  "
      ]
     },
     "execution_count": 4,
     "metadata": {},
     "output_type": "execute_result"
    }
   ],
   "source": [
    "# [Write your code in this cell]\n",
    "association_df['BMI'] = association_df['mass']/(association_df['height']/100)**2\n",
    "association_df.head(3)"
   ]
  },
  {
   "cell_type": "markdown",
   "metadata": {},
   "source": [
    "**[Do not edit the contents of this cell]**\n",
    "\n",
    "### Part 4\n",
    "\n",
    "Calculate the correlation matrix between numerical predictors. Use this information to impute any missing values, if possible."
   ]
  },
  {
   "cell_type": "code",
   "execution_count": 5,
   "metadata": {},
   "outputs": [
    {
     "name": "stdout",
     "output_type": "stream",
     "text": [
      "Metabolite A, 23rd training example predicted as: 0.6444997366952995\n",
      "Metabolite A, 87rd training example predicted as: 0.9290746076809576\n"
     ]
    },
    {
     "data": {
      "image/png": "[encoded data removed]",
      "text/plain": [
       "<Figure size 432x288 with 2 Axes>"
      ]
     },
     "metadata": {},
     "output_type": "display_data"
    }
   ],
   "source": [
    "# [Write your code in this cell]\n",
    "\n",
    "association_num_df = association_df.drop(['sex', 'smoker', 'ethnicity', 'glucose_index'], axis=1)\n",
    "\n",
    "corr = association_num_df.corr()\n",
    "sns.heatmap(corr)\n",
    "corr\n",
    "\n",
    "lin_reg = LinearRegression()\n",
    "X = association_full_df['metabolite_B'].values\n",
    "X = X.reshape(103,1)\n",
    "y = association_full_df['metabolite_A'].values\n",
    "y = y.reshape(103,1)\n",
    "\n",
    "model = lin_reg.fit(X,y)\n",
    "\n",
    "ID_23_prediction = model.predict(association_df.loc['ID23']['metabolite_B'])[0][0]\n",
    "ID_87_prediction = model.predict(association_df.loc['ID87']['metabolite_B'])[0][0]\n",
    "print('Metabolite A, 23rd training example predicted as: ' + str(ID_23_prediction))\n",
    "print('Metabolite A, 87rd training example predicted as: ' + str(ID_87_prediction))\n",
    "\n",
    "association_df.at['ID23', 'metabolite_A'] = ID_23_prediction\n",
    "association_df.at['ID87', 'metabolite_A'] = ID_87_prediction"
   ]
  },
  {
   "cell_type": "markdown",
   "metadata": {},
   "source": [
    "**[Do not edit the contents of this cell]**\n",
    "\n",
    "### Part 5\n",
    "\n",
    "Assuming that a disease status is recorded when the disease score is greater than 5, add a new response variable in the dataset defining the diseases status of each subject."
   ]
  },
  {
   "cell_type": "code",
   "execution_count": 6,
   "metadata": {},
   "outputs": [
    {
     "data": {
      "text/plain": [
       "14"
      ]
     },
     "execution_count": 6,
     "metadata": {},
     "output_type": "execute_result"
    }
   ],
   "source": [
    "# [Write your code in this cell]\n",
    "\n",
    "association_df['disease_status'] = np.where(association_df['disease_score'] > 5, 1, 0)\n",
    "association_df['disease_status'].sum() # 14 diseased people"
   ]
  },
  {
   "cell_type": "markdown",
   "metadata": {},
   "source": [
    "**[Do not edit the contents of this cell]**\n",
    "\n",
    "## Problem 2: hypothesis testing\n",
    "\n",
    "Starting from the same dataset in Problem 1, provide answers for the following questions.\n",
    "\n",
    "### Part 1\n",
    "\n",
    "Given this sample space of subjects, what is the probability that a given subject is diagnosed as diseased? What is the probability that a subject is diagnosed as diseased given that he/she is not a smoker?"
   ]
  },
  {
   "cell_type": "code",
   "execution_count": 7,
   "metadata": {},
   "outputs": [
    {
     "name": "stdout",
     "output_type": "stream",
     "text": [
      "disease_status\n",
      "0    0.866667\n",
      "1    0.133333\n",
      "dtype: float64\n",
      "disease_status  smoker\n",
      "0               0         74\n",
      "                1         17\n",
      "1               0          7\n",
      "                1          7\n",
      "dtype: int64\n"
     ]
    },
    {
     "data": {
      "text/plain": [
       "0.08641975308641975"
      ]
     },
     "execution_count": 7,
     "metadata": {},
     "output_type": "execute_result"
    }
   ],
   "source": [
    "# [Write your code in this cell]\n",
    "\n",
    "print(association_df.groupby('disease_status').size().div(len(association_df)))\n",
    "\n",
    "print(association_df.groupby(['disease_status', 'smoker']).size())\n",
    "# Probability of diseased | non smoker is equal to the intersection of diseased and non smoker / probability of non smoker\n",
    "intersection = 7/105\n",
    "non_smoker_probs = 81/105\n",
    "\n",
    "intersection/non_smoker_probs"
   ]
  },
  {
   "cell_type": "markdown",
   "metadata": {},
   "source": [
    "**[Provide your answer here]**\n",
    "- The probability that a subject is diseased is: 0.1320\n",
    "- The probability that a subject is diseased given that she/he is not a smoker is: 0.0864"
   ]
  },
  {
   "cell_type": "markdown",
   "metadata": {},
   "source": [
    "**[Do not edit the contents of this cell]**\n",
    "\n",
    "### Part 2\n",
    "\n",
    "Assuming that they are Normally distributed, estimate mean and variance for the distributions of height and mass separately for males and females. Use **either** a frequentist **or** likelihoodist **or** Bayesian approach."
   ]
  },
  {
   "cell_type": "code",
   "execution_count": 8,
   "metadata": {},
   "outputs": [
    {
     "name": "stdout",
     "output_type": "stream",
     "text": [
      "Height\n",
      "Mean woman height: 178.18186776141937\n",
      "Variance woman height: 21.17244615491872\n",
      "Mean man height: 178.77109675031406\n",
      "Variance man height: 27.03025338771781\n",
      "\n",
      "Mass\n",
      "Mean woman mass: 70.33025107998441\n",
      "Variance woman mass: 4.053329369363679\n",
      "Mean man mass: 80.10691251520628\n",
      "Variance man mass: 3.487426146492937\n"
     ]
    }
   ],
   "source": [
    "# [Write your code in this cell]\n",
    "\n",
    "print('Height')\n",
    "print('Mean woman height: ' + str(association_df.loc[association_df['sex'] == 1]['height'].mean()))\n",
    "print('Variance woman height: ' + str(association_df.loc[association_df['sex'] == 1]['height'].var()))\n",
    "\n",
    "print('Mean man height: ' + str(association_df.loc[association_df['sex'] == 0]['height'].mean()))\n",
    "print('Variance man height: ' + str(association_df.loc[association_df['sex'] == 0]['height'].var()))\n",
    "\n",
    "\n",
    "print('\\nMass')\n",
    "print('Mean woman mass: ' + str(association_df.loc[association_df['sex'] == 1]['mass'].mean()))\n",
    "print('Variance woman mass: ' + str(association_df.loc[association_df['sex'] == 1]['mass'].var()))\n",
    "\n",
    "print('Mean man mass: ' + str(association_df.loc[association_df['sex'] == 0]['mass'].mean()))\n",
    "print('Variance man mass: ' + str(association_df.loc[association_df['sex'] == 0]['mass'].var()))"
   ]
  },
  {
   "cell_type": "markdown",
   "metadata": {},
   "source": [
    "**[Do not edit the contents of this cell]**\n",
    "\n",
    "### Part 3\n",
    "\n",
    "Test whether height is different between males and females. Perform the same test on the mass variable. Define (in words) which ones are your null and alternative hypotheses and significance threshold. Finally, discuss (in words) any conclusion you can make out the results of your statistical tests."
   ]
  },
  {
   "cell_type": "code",
   "execution_count": 9,
   "metadata": {},
   "outputs": [
    {
     "name": "stdout",
     "output_type": "stream",
     "text": [
      "Ttest_indResult(statistic=-0.616020797475073, pvalue=0.539240682310238)\n",
      "Ttest_indResult(statistic=-25.814418967682254, pvalue=8.907951602027204e-47)\n"
     ]
    }
   ],
   "source": [
    "wom_height = association_df.loc[association_df['sex'] == 1]['height']\n",
    "man_height = association_df.loc[association_df['sex'] == 0]['height']\n",
    "print(stats.ttest_ind(wom_height, man_height, equal_var = False))\n",
    "\n",
    "wom_mass = association_df.loc[association_df['sex'] == 1]['mass']\n",
    "man_mass = association_df.loc[association_df['sex'] == 0]['mass']\n",
    "print(stats.ttest_ind(wom_mass, man_mass, equal_var = True))"
   ]
  },
  {
   "cell_type": "markdown",
   "metadata": {},
   "source": [
    "**[Provide your answer here]**\n",
    "\n",
    "I will use a significance threshold of 0.05 indicating that results that would occur less than 5% of the time by chance if we  repeated the expreiment are deemed to be significant.\n",
    "\n",
    "The null hypothesis is that the expected difference in heighet between males and females is zero. The alternate hypothesis is that there is a difference in height between males and females.\n",
    "\n",
    "A test statistic of -0.6160 is associated with a p Value of 0.5392 meaning that we fail to reject the null hypothesis.\n",
    "\n",
    "The null hypothesis is that the expected difference in mass between males and females is zero. The alternate hypothesis is that there is a difference in mass between males and females.\n",
    "\n",
    "A test statistic of -26.0645 is associated with a p Value of 0.2 * 10**-47 indicating that we can reject the null hypothesis and accept that there is a difference in mass between males and females.\n"
   ]
  },
  {
   "cell_type": "markdown",
   "metadata": {},
   "source": [
    "**[Do not edit the contents of this cell]**\n",
    "\n",
    "### Part 4\n",
    "\n",
    "Repeat the statistical test in Part 3 for all numerical predictor variables in the dataset. How many tests are significant with $\\alpha=0.05$?\n",
    "Calculate corrected p-values for multiple tests using a Bonferroni correction. How many tests are significant now? "
   ]
  },
  {
   "cell_type": "code",
   "execution_count": 10,
   "metadata": {},
   "outputs": [
    {
     "name": "stdout",
     "output_type": "stream",
     "text": [
      "[0.539240682310238, 6.694124145896172e-46, 0.4951901695220233, 0.5835844982018759, 0.3555065814214443, 0.7131894616375611, 0.8267336781040077, 0.9545238893314539, 1.5205052418644302e-15]\n",
      "(array([False,  True, False, False, False, False, False, False,  True]), array([1.00000000e+00, 6.02471173e-45, 1.00000000e+00, 1.00000000e+00,\n",
      "       1.00000000e+00, 1.00000000e+00, 1.00000000e+00, 1.00000000e+00,\n",
      "       1.36845472e-14]), 0.005683044988048058, 0.005555555555555556)\n"
     ]
    }
   ],
   "source": [
    "# [Write your code in this cell]\n",
    "association_num_df.head(3)\n",
    "df_columns = list(association_num_df.columns.values)\n",
    "# df_columns\n",
    "\n",
    "def tTest(myList):\n",
    "    p_values = []\n",
    "    for i in myList:\n",
    "        woman = association_df.loc[association_df['sex'] == 1][i]\n",
    "        man = association_df.loc[association_df['sex'] == 0][i]\n",
    "        testStats = stats.ttest_ind(woman, man, equal_var = False)\n",
    "        p_val = testStats[1]\n",
    "        p_values.append(p_val)\n",
    "    return(p_values)\n",
    "\n",
    "p_values = tTest(df_columns)\n",
    "print(p_values)\n",
    "\n",
    "\n",
    "p_adjusted = multipletests(p_values, method='bonferroni')\n",
    "print(p_adjusted)"
   ]
  },
  {
   "cell_type": "markdown",
   "metadata": {},
   "source": [
    "**[Provide your answer here]**\n",
    "\n",
    "Performing independent T Tests between men and women for each variable we can see statistically significant p values for the second and last of our features which correspond to mass and BMI.\n",
    "\n",
    "These differences are still significant after adjusting for multiple comparisons using the Bonferroni correction.    Indicating that we can reject the null hypothesis and accept that there is a difference between in mass and BMI between men and women."
   ]
  },
  {
   "cell_type": "markdown",
   "metadata": {},
   "source": [
    "**[Do not edit the contents of this cell]**\n",
    "\n",
    "## Problem 3: regression\n",
    "\n",
    "Assume you have been provided a new variable indicating a generic glucose index level. We know that such glucose index is related to the variable `metabolite_D` given in the previous dataset.\n",
    "\n",
    "### Part 1\n",
    "\n",
    "Load the new dataset called `glucose.csv` which gives the measure of a generic glucose level (`glucose_index`) for each tested subject. Perform a regression where `metabolite_D` is the predictor and `glucose_index` is the response variable."
   ]
  },
  {
   "cell_type": "code",
   "execution_count": 11,
   "metadata": {},
   "outputs": [
    {
     "name": "stdout",
     "output_type": "stream",
     "text": [
      "linear_model Error: 0.03717414460349036\n",
      "prediction: 13.769181161416931\n",
      "ground truth: 13.573982945213402\n"
     ]
    }
   ],
   "source": [
    "# [Write your code in this cell]\n",
    "\n",
    "association_df['glucose_index']\n",
    "\n",
    "X = association_df['metabolite_D'].values\n",
    "X = X.reshape(105,1)\n",
    "y = association_df['glucose_index'].values\n",
    "y = y.reshape(105,1)\n",
    "\n",
    "X_train, X_test, y_train, y_test = train_test_split(X, y, test_size=0.3, random_state=42)\n",
    "\n",
    "linear_model = lin_reg.fit(X_train, y_train)\n",
    "\n",
    "y_pred = linear_model.predict(X_test)\n",
    "\n",
    "MSE = mean_squared_error(y_test, y_pred)\n",
    "print('linear_model Error: ' + str(MSE))\n",
    "\n",
    "linear_model.coef_\n",
    "linear_model.intercept_ \n",
    "\n",
    "print('prediction: ' + str(linear_model.predict(association_df.iloc[1]['metabolite_D'])[0][0]))\n",
    "print('ground truth: '+ str(association_df.iloc[1]['glucose_index']))"
   ]
  },
  {
   "cell_type": "markdown",
   "metadata": {},
   "source": [
    "**[Do not edit the contents of this cell]**\n",
    "\n",
    "## Problem 4: classification\n",
    "\n",
    "### Part 1\n",
    "\n",
    "Implement an algorithm to predict the disease status of a subject given all response variables provided in the dataset. You are free to choose the appropriate statistical tool you prefer. Assess the quality of your classifier."
   ]
  },
  {
   "cell_type": "code",
   "execution_count": 12,
   "metadata": {},
   "outputs": [],
   "source": [
    "# prepare data for training. Create dummy variables for ethnicity categorical data\n",
    "association_df['Asian'] = np.where(association_df['ethnicity']=='Asian',1,0)\n",
    "association_df['Black/African/Caribbean'] = np.where(association_df['ethnicity']=='Black/African/Caribbean',1,0)\n",
    "association_df['White'] = np.where(association_df['ethnicity']=='White',1,0)\n",
    "association_df['Other'] = np.where(association_df['ethnicity']=='Other',1,0)\n",
    "\n",
    "response_cols = ['sex','height','mass','smoker','metabolite_A','metabolite_B','metabolite_C','metabolite_D','metabolite_E','BMI','Asian','Black/African/Caribbean','White','Other']\n",
    "response_cols_minus_BMI = ['sex','height','mass','smoker','metabolite_A','metabolite_B','metabolite_C','metabolite_D','metabolite_E','Asian','Black/African/Caribbean','White','Other']\n",
    "\n",
    "\n",
    "X = association_df[response_cols_minus_BMI]\n",
    "y = association_df['disease_status']\n",
    "\n",
    "X_train, X_test, y_train, y_test = train_test_split(X, y, test_size=0.4, random_state=9)\n"
   ]
  },
  {
   "cell_type": "code",
   "execution_count": 13,
   "metadata": {},
   "outputs": [
    {
     "name": "stdout",
     "output_type": "stream",
     "text": [
      "[[37  0]\n",
      " [ 4  1]]\n",
      "accuracy: 0.9047619047619048\n",
      "sensitivity: 0.2\n",
      "specificity: 1.0\n",
      "PPV: 1.0\n",
      "F1 Score: 0.33333333333333337\n"
     ]
    }
   ],
   "source": [
    "logReg = LogisticRegression()\n",
    "logReg.fit(X_train, y_train)\n",
    "y_pred_class_logReg = logReg.predict(X_test)\n",
    "\n",
    "# calculate accuracy\n",
    "conf_matrix = metrics.confusion_matrix(y_test, y_pred_class_logReg)\n",
    "print(conf_matrix)\n",
    "TN = conf_matrix[0][0]\n",
    "FP = conf_matrix[0][1]\n",
    "FN = conf_matrix[1][0]\n",
    "TP = conf_matrix[1][1]\n",
    "\n",
    "precision = TP/float(TP+FP)\n",
    "recall = TP/float(TP+FN)\n",
    "\n",
    "# Evaluation Metrics\n",
    "print('accuracy: '+str(metrics.accuracy_score(y_test, y_pred_class_logReg)))\n",
    "print('sensitivity: '+str(metrics.recall_score(y_test, y_pred_class_logReg)))\n",
    "print('specificity: '+str(TN/float(TN+FP)))\n",
    "print('PPV: '+str(metrics.precision_score(y_test, y_pred_class_logReg)))\n",
    "print('F1 Score: '+str(metrics.f1_score(y_test, y_pred_class_logReg)))"
   ]
  },
  {
   "cell_type": "code",
   "execution_count": 14,
   "metadata": {},
   "outputs": [
    {
     "name": "stdout",
     "output_type": "stream",
     "text": [
      "[[37  0]\n",
      " [ 3  2]]\n",
      "accuracy: 0.9285714285714286\n",
      "sensitivity: 0.4\n",
      "specificity: 1.0\n",
      "PPV: 1.0\n",
      "F1 Score: 0.5714285714285715\n"
     ]
    }
   ],
   "source": [
    "randomForest = RFECV(RandomForestClassifier(), scoring = 'roc_auc')\n",
    "randomForest.fit(X_train, y_train)\n",
    "y_pred_class_randomForest = randomForest.predict(X_test)\n",
    "\n",
    "# calculate accuracy\n",
    "conf_matrix = metrics.confusion_matrix(y_test, y_pred_class_randomForest)\n",
    "\n",
    "print(conf_matrix)\n",
    "TN = conf_matrix[0][0]\n",
    "FP = conf_matrix[0][1]\n",
    "FN = conf_matrix[1][0]\n",
    "TP = conf_matrix[1][1]\n",
    "precision = TP/float(TP+FP)\n",
    "recall = TP/float(TP+FN)\n",
    "\n",
    "# Evaluation Metrics\n",
    "print('accuracy: '+str(metrics.accuracy_score(y_test, y_pred_class_randomForest)))\n",
    "print('sensitivity: '+str(metrics.recall_score(y_test, y_pred_class_randomForest)))\n",
    "print('specificity: '+str(TN/float(TN+FP)))\n",
    "print('PPV: '+str(metrics.precision_score(y_test, y_pred_class_randomForest)))\n",
    "print('F1 Score: '+str(metrics.f1_score(y_test, y_pred_class_randomForest)))"
   ]
  },
  {
   "cell_type": "code",
   "execution_count": 15,
   "metadata": {},
   "outputs": [],
   "source": [
    "# randomForest model has superior performance over the range of metrics measured with the exception of sensitivity.\n",
    "# Hence I will use the randomForest model to make the class prediction in the final part of the coursework."
   ]
  },
  {
   "cell_type": "markdown",
   "metadata": {},
   "source": [
    "**[Do not edit the contents of this cell]**\n",
    "\n",
    "### Part 2\n",
    "\n",
    "Given the classifier you devised in Part 1, predict the disease status of the following subject:\n",
    "- subject: ID986\n",
    "- sex: 1\n",
    "- height: 180.2\n",
    "- mass: 70.1\n",
    "- smoker: 1\n",
    "- ethnicity: \"White\"\n",
    "- metabolite_A: 0.5\n",
    "- metabolite_B: 1.2\n",
    "- metabolite_C: 0.5\n",
    "- metabolite_D: 8.5\n",
    "- metabolite_E: 10.2"
   ]
  },
  {
   "cell_type": "code",
   "execution_count": 16,
   "metadata": {},
   "outputs": [
    {
     "name": "stdout",
     "output_type": "stream",
     "text": [
      "disease_status predicted: 1\n"
     ]
    }
   ],
   "source": [
    "# [Write your code in this cell]\n",
    "subject_986 = np.asarray([1, 180.2, 70.1, 1, 0.5, 1.2, 0.5, 8.5, 10.2,0,0,1,0 ])\n",
    "subject_986 = subject_986.reshape(1,-1)\n",
    "subject_986\n",
    "randomForest_pred = randomForest.predict(subject_986)\n",
    "randomForest_pred = randomForest_pred[0]\n",
    "print('disease_status predicted: ' + str(randomForest_pred))\n"
   ]
  },
  {
   "cell_type": "code",
   "execution_count": null,
   "metadata": {},
   "outputs": [],
   "source": []
  }
 ],
 "metadata": {
  "kernelspec": {
   "display_name": "Python 3",
   "language": "python",
   "name": "python3"
  },
  "language_info": {
   "codemirror_mode": {
    "name": "ipython",
    "version": 3
   },
   "file_extension": ".py",
   "mimetype": "text/x-python",
   "name": "python",
   "nbconvert_exporter": "python",
   "pygments_lexer": "ipython3",
   "version": "3.7.0"
  }
 },
 "nbformat": 4,
 "nbformat_minor": 2
}
